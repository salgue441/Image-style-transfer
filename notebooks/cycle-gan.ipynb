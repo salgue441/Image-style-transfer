{
 "cells": [
  {
   "cell_type": "code",
   "execution_count": 1,
   "metadata": {},
   "outputs": [
    {
     "name": "stderr",
     "output_type": "stream",
     "text": [
      "2024-11-14 14:50:49.394719: I tensorflow/core/util/port.cc:153] oneDNN custom operations are on. You may see slightly different numerical results due to floating-point round-off errors from different computation orders. To turn them off, set the environment variable `TF_ENABLE_ONEDNN_OPTS=0`.\n",
      "2024-11-14 14:50:49.608658: E external/local_xla/xla/stream_executor/cuda/cuda_fft.cc:477] Unable to register cuFFT factory: Attempting to register factory for plugin cuFFT when one has already been registered\n",
      "WARNING: All log messages before absl::InitializeLog() is called are written to STDERR\n",
      "E0000 00:00:1731617449.684590    2796 cuda_dnn.cc:8310] Unable to register cuDNN factory: Attempting to register factory for plugin cuDNN when one has already been registered\n",
      "E0000 00:00:1731617449.705388    2796 cuda_blas.cc:1418] Unable to register cuBLAS factory: Attempting to register factory for plugin cuBLAS when one has already been registered\n",
      "2024-11-14 14:50:49.896099: I tensorflow/core/platform/cpu_feature_guard.cc:210] This TensorFlow binary is optimized to use available CPU instructions in performance-critical operations.\n",
      "To enable the following instructions: AVX2 AVX512F AVX512_VNNI FMA, in other operations, rebuild TensorFlow with the appropriate compiler flags.\n"
     ]
    }
   ],
   "source": [
    "import tensorflow as tf"
   ]
  },
  {
   "cell_type": "markdown",
   "metadata": {},
   "source": [
    "## CycleGAN\n",
    "\n",
    "### Overview\n",
    "\n",
    "This implementation provides a complete TensorFlow-based CycleGAN framework for image-to-image translation. The codebase includes data processing, model architecture, training pipeline, and evaluation metrics.\n"
   ]
  },
  {
   "cell_type": "markdown",
   "metadata": {},
   "source": [
    "## Configuration\n"
   ]
  },
  {
   "cell_type": "code",
   "execution_count": 2,
   "metadata": {},
   "outputs": [
    {
     "name": "stdout",
     "output_type": "stream",
     "text": [
      "INFO:tensorflow:Using MirroredStrategy with devices ('/job:localhost/replica:0/task:0/device:GPU:0',)\n",
      "Number of devices: 1\n"
     ]
    },
    {
     "name": "stderr",
     "output_type": "stream",
     "text": [
      "I0000 00:00:1731617454.972081    2796 gpu_device.cc:2022] Created device /job:localhost/replica:0/task:0/device:GPU:0 with 3586 MB memory:  -> device: 0, name: NVIDIA GeForce RTX 3060 Laptop GPU, pci bus id: 0000:01:00.0, compute capability: 8.6\n"
     ]
    }
   ],
   "source": [
    "gpu_devices = tf.config.experimental.list_physical_devices(\"GPU\")\n",
    "if gpu_devices:\n",
    "    for device in gpu_devices:\n",
    "        tf.config.experimental.set_memory_growth(device, True)\n",
    "\n",
    "    strategy = tf.distribute.MirroredStrategy()\n",
    "    print(f\"Number of devices: {strategy.num_replicas_in_sync}\")\n",
    "\n",
    "else:\n",
    "    print(\"No GPU devices found.\")"
   ]
  },
  {
   "cell_type": "markdown",
   "metadata": {},
   "source": [
    "## Model Parameters\n"
   ]
  },
  {
   "cell_type": "code",
   "execution_count": 3,
   "metadata": {},
   "outputs": [],
   "source": [
    "from dataclasses import dataclass"
   ]
  },
  {
   "cell_type": "code",
   "execution_count": 4,
   "metadata": {},
   "outputs": [],
   "source": [
    "@dataclass\n",
    "class ModelConfig:\n",
    "    height: int = 256\n",
    "    width: int = 256\n",
    "    channels: int = 3\n",
    "    base_filters: int = 64\n",
    "    lambda_cycle: float = 10.0\n",
    "    lambda_identity: float = 0.5\n",
    "    learning_rate: float = 2e-4\n",
    "    beta_1: float = 0.5\n",
    "\n",
    "    def get_config(self):\n",
    "        return {\n",
    "            \"height\": self.height,\n",
    "            \"width\": self.width,\n",
    "            \"channels\": self.channels,\n",
    "            \"base_filters\": self.base_filters,\n",
    "            \"lambda_cycle\": self.lambda_cycle,\n",
    "            \"lambda_identity\": self.lambda_identity,\n",
    "            \"learning_rate\": self.learning_rate,\n",
    "            \"beta_1\": self.beta_1,\n",
    "        }\n",
    "\n",
    "    @classmethod\n",
    "    def from_config(cls, config):\n",
    "        return cls(**config)"
   ]
  },
  {
   "cell_type": "markdown",
   "metadata": {},
   "source": [
    "## Loading the data\n"
   ]
  },
  {
   "cell_type": "code",
   "execution_count": 5,
   "metadata": {},
   "outputs": [],
   "source": [
    "class ImageProcessor:\n",
    "    def __init__(self, config: ModelConfig):\n",
    "        self.config = config\n",
    "\n",
    "    def decode_image(self, image: tf.Tensor) -> tf.Tensor:\n",
    "        \"\"\"\n",
    "        Decodes and normalizes the image.\n",
    "\n",
    "        Args:\n",
    "          image: A tensor representing an image.\n",
    "\n",
    "        Returns:\n",
    "          The decoded and normalized image.\n",
    "        \"\"\"\n",
    "\n",
    "        image = tf.image.decode_jpeg(image, channels=self.config.channels)\n",
    "        image = tf.cast(image, tf.float32)\n",
    "        image = (image / 127.5) - 1\n",
    "\n",
    "        return image\n",
    "\n",
    "    @tf.function\n",
    "    def parse_tfrecord(self, example_photo):\n",
    "        \"\"\"\n",
    "        Parses a TFRecord example containing a photo.\n",
    "\n",
    "        Args:\n",
    "          example_photo: A TFRecord example containing a photo.\n",
    "\n",
    "        Returns:\n",
    "          The decoded and normalized photo.\n",
    "        \"\"\"\n",
    "\n",
    "        feature_description = {\n",
    "            \"image_name\": tf.io.FixedLenFeature([], tf.string),\n",
    "            \"image\": tf.io.FixedLenFeature([], tf.string),\n",
    "            \"target\": tf.io.FixedLenFeature([], tf.string),\n",
    "        }\n",
    "\n",
    "        example = tf.io.parse_single_example(example_photo, feature_description)\n",
    "        return self.decode_image(example[\"image\"])\n",
    "\n",
    "    def create_dataset(\n",
    "        self,\n",
    "        filenames: list,\n",
    "        batch_size: int = 1,\n",
    "        shuffle: bool = True,\n",
    "        cache: bool = True,\n",
    "    ) -> tf.data.Dataset:\n",
    "        \"\"\"\n",
    "        Creates a dataset from TFRecord files.\n",
    "\n",
    "        Args:\n",
    "            filenames (list): A list of TFRecord filenames.\n",
    "            batch_size (int): The batch size.\n",
    "            shuffle (bool): Whether to shuffle the dataset.\n",
    "            cache (bool): Whether to cache the dataset in memory.\n",
    "\n",
    "        Returns:\n",
    "            A tf.data.Dataset instance.\n",
    "        \"\"\"\n",
    "\n",
    "        dataset = tf.data.TFRecordDataset(\n",
    "            filenames, num_parallel_reads=tf.data.experimental.AUTOTUNE\n",
    "        )\n",
    "\n",
    "        dataset = dataset.map(\n",
    "            self.parse_tfrecord, num_parallel_calls=tf.data.experimental.AUTOTUNE\n",
    "        )\n",
    "\n",
    "        if shuffle:\n",
    "            dataset = dataset.shuffle(buffer_size=2048, reshuffle_each_iteration=True)\n",
    "\n",
    "        dataset = dataset.batch(batch_size, drop_remainder=True)\n",
    "        if cache:\n",
    "            dataset = dataset.cache()\n",
    "\n",
    "        return dataset.prefetch(tf.data.experimental.AUTOTUNE)"
   ]
  },
  {
   "cell_type": "markdown",
   "metadata": {},
   "source": [
    "## Visualization Functions\n"
   ]
  },
  {
   "cell_type": "code",
   "execution_count": 6,
   "metadata": {},
   "outputs": [],
   "source": [
    "import matplotlib.pyplot as plt\n",
    "import numpy as np\n",
    "from typing import Optional, Tuple"
   ]
  },
  {
   "cell_type": "code",
   "execution_count": 7,
   "metadata": {},
   "outputs": [],
   "source": [
    "class VisualizationUtils:\n",
    "    @staticmethod\n",
    "    def denormalize_image(image: tf.Tensor) -> tf.Tensor:\n",
    "        \"\"\"\n",
    "        Denormalizes the image by scaling it back to the [0, 255] range.\n",
    "\n",
    "        Args:\n",
    "            image: A tensor representing an image.\n",
    "\n",
    "        Returns:\n",
    "            The denormalized image.\n",
    "        \"\"\"\n",
    "\n",
    "        return (image * 0.5) + 0.5\n",
    "\n",
    "    @staticmethod\n",
    "    def create_figure(\n",
    "        nrows: int, ncols: int, figsize: Optional[Tuple[int, int]] = None\n",
    "    ) -> Tuple[plt.Figure, plt.Axes]:\n",
    "        \"\"\"\n",
    "        Create a Matplotlib figure and axes with the given number of rows and columns.\n",
    "\n",
    "        Args:\n",
    "            nrows (int): The number of rows.\n",
    "            ncols (int): The number of columns.\n",
    "            figsize (tuple): The figure size.\n",
    "\n",
    "        Returns:\n",
    "            A tuple containing the figure and axes.\n",
    "        \"\"\"\n",
    "\n",
    "        if figsize is None:\n",
    "            figsize = (ncols * 4, nrows * 4)\n",
    "\n",
    "        fig, axes = plt.subplots(nrows, ncols, figsize=figsize)\n",
    "\n",
    "        if nrows * ncols == 1:\n",
    "            axes = np.array([axes])\n",
    "\n",
    "        return fig, axes.flatten()"
   ]
  },
  {
   "cell_type": "markdown",
   "metadata": {},
   "source": [
    "## Model Building\n"
   ]
  },
  {
   "cell_type": "code",
   "execution_count": 8,
   "metadata": {},
   "outputs": [],
   "source": [
    "import keras"
   ]
  },
  {
   "cell_type": "code",
   "execution_count": 9,
   "metadata": {},
   "outputs": [],
   "source": [
    "@keras.saving.register_keras_serializable(package=\"CycleGAN\", name=\"DiscriminatorBlock\")\n",
    "class DownsampleBlock(tf.keras.layers.Layer):\n",
    "    def __init__(\n",
    "        self,\n",
    "        filters: int,\n",
    "        size: int = 4,\n",
    "        strides: int = 2,\n",
    "        apply_norm: bool = True,\n",
    "        **kwargs\n",
    "    ):\n",
    "        super().__init__(**kwargs)\n",
    "\n",
    "        self.conv = tf.keras.layers.Conv2D(\n",
    "            filters=filters,\n",
    "            kernel_size=size,\n",
    "            strides=strides,\n",
    "            padding=\"same\",\n",
    "            kernel_initializer=tf.keras.initializers.RandomNormal(\n",
    "                mean=0.0, stddev=0.02\n",
    "            ),\n",
    "            use_bias=not apply_norm,\n",
    "        )\n",
    "\n",
    "        self.batch_norm = tf.keras.layers.BatchNormalization(\n",
    "            gamma_initializer=(\n",
    "                tf.keras.initializers.RandomNormal(mean=0.0, stddev=0.02)\n",
    "                if apply_norm\n",
    "                else None\n",
    "            )\n",
    "        )\n",
    "\n",
    "        self.activation = tf.keras.layers.LeakyReLU(negative_slope=0.2)\n",
    "\n",
    "    def call(self, x: tf.Tensor, training: bool = True) -> tf.Tensor:\n",
    "        x = self.conv(x)\n",
    "        if self.batch_norm is not None:\n",
    "            x = self.batch_norm(x, training=training)\n",
    "\n",
    "        return self.activation(x)\n",
    "\n",
    "    def get_config(self):\n",
    "        config = super().get_config()\n",
    "        config.update(\n",
    "            {\n",
    "                \"filters\": self.filters,\n",
    "                \"size\": self.size,\n",
    "                \"strides\": self.strides,\n",
    "                \"apply_norm\": self.apply_norm,\n",
    "            }\n",
    "        )\n",
    "\n",
    "        return config"
   ]
  },
  {
   "cell_type": "code",
   "execution_count": 10,
   "metadata": {},
   "outputs": [],
   "source": [
    "@keras.saving.register_keras_serializable(package=\"CycleGAN\", name=\"UpsampleBlock\")\n",
    "class UpsampleBlock(tf.keras.layers.Layer):\n",
    "    def __init__(\n",
    "        self,\n",
    "        filters: int,\n",
    "        size: int = 4,\n",
    "        strides: int = 2,\n",
    "        apply_dropout: bool = False,\n",
    "        **kwargs\n",
    "    ):\n",
    "        super().__init__(**kwargs)\n",
    "\n",
    "        self.conv_transpose = tf.keras.layers.Conv2DTranspose(\n",
    "            filters=filters,\n",
    "            kernel_size=size,\n",
    "            strides=strides,\n",
    "            padding=\"same\",\n",
    "            kernel_initializer=tf.keras.initializers.RandomNormal(\n",
    "                mean=0.0, stddev=0.02\n",
    "            ),\n",
    "            use_bias=False,\n",
    "        )\n",
    "\n",
    "        self.batch_norm = tf.keras.layers.BatchNormalization(\n",
    "            gamma_initializer=tf.keras.initializers.RandomNormal(mean=0.0, stddev=0.02)\n",
    "        )\n",
    "\n",
    "        self.dropout = tf.keras.layers.Dropout(0.5) if apply_dropout else None\n",
    "        self.activation = tf.keras.layers.ReLU()\n",
    "\n",
    "    def call(self, x: tf.Tensor, training: bool = True) -> tf.Tensor:\n",
    "        x = self.conv_transpose(x)\n",
    "        x = self.batch_norm(x, training=training)\n",
    "\n",
    "        if self.dropout is not None:\n",
    "            x = self.dropout(x, training=training)\n",
    "\n",
    "        return self.activation(x)\n",
    "\n",
    "    def get_config(self):\n",
    "        config = super().get_config()\n",
    "        config.update(\n",
    "            {\n",
    "                \"filters\": self.filters,\n",
    "                \"size\": self.size,\n",
    "                \"strides\": self.strides,\n",
    "                \"apply_dropout\": self.apply_dropout,\n",
    "            }\n",
    "        )\n",
    "\n",
    "        return config"
   ]
  },
  {
   "cell_type": "markdown",
   "metadata": {},
   "source": [
    "## Generator Model\n"
   ]
  },
  {
   "cell_type": "code",
   "execution_count": 11,
   "metadata": {},
   "outputs": [],
   "source": [
    "@keras.saving.register_keras_serializable(package=\"CycleGAN\", name=\"Generator\")\n",
    "class Generator(tf.keras.Model):\n",
    "    def __init__(self, config: ModelConfig, name: str = \"generator\", **kwargs):\n",
    "        super().__init__(name=name, **kwargs)\n",
    "        if isinstance(config, dict):\n",
    "            config = ModelConfig(**config)\n",
    "\n",
    "        self.config = config\n",
    "        self.model_config = config\n",
    "\n",
    "        self.downsample_stack = [\n",
    "            DownsampleBlock(64, 4, apply_norm=False),\n",
    "            DownsampleBlock(128, 4),\n",
    "            DownsampleBlock(256, 4),\n",
    "            DownsampleBlock(512, 4),\n",
    "            DownsampleBlock(512, 4),\n",
    "            DownsampleBlock(512, 4),\n",
    "            DownsampleBlock(512, 4),\n",
    "            DownsampleBlock(512, 4),\n",
    "        ]\n",
    "\n",
    "        self.upsample_stack = [\n",
    "            UpsampleBlock(512, 4, apply_dropout=True),\n",
    "            UpsampleBlock(512, 4, apply_dropout=True),\n",
    "            UpsampleBlock(512, 4, apply_dropout=True),\n",
    "            UpsampleBlock(512, 4),\n",
    "            UpsampleBlock(256, 4),\n",
    "            UpsampleBlock(128, 4),\n",
    "            UpsampleBlock(64, 4),\n",
    "        ]\n",
    "\n",
    "        self.final_conv = tf.keras.layers.Conv2DTranspose(\n",
    "            filters=config.channels,\n",
    "            kernel_size=4,\n",
    "            strides=2,\n",
    "            padding=\"same\",\n",
    "            kernel_initializer=tf.keras.initializers.RandomNormal(\n",
    "                mean=0.0, stddev=0.02\n",
    "            ),\n",
    "            activation=\"tanh\",\n",
    "        )\n",
    "\n",
    "    def call(self, x: tf.Tensor, training: bool = False) -> tf.Tensor:\n",
    "        skips = []\n",
    "        for down in self.downsample_stack:\n",
    "            x = down(x, training=training)\n",
    "            skips.append(x)\n",
    "\n",
    "        skips = reversed(skips[:-1])\n",
    "\n",
    "        for up, skip in zip(self.upsample_stack, skips):\n",
    "            x = up(x, training=training)\n",
    "            x = tf.keras.layers.Concatenate()([x, skip])\n",
    "\n",
    "        return self.final_conv(x)\n",
    "\n",
    "    def get_config(self):\n",
    "        return {\"config\": self.config.get_config(), \"name\": self.name}\n",
    "\n",
    "    @classmethod\n",
    "    def from_config(cls, config):\n",
    "        return cls(\n",
    "            config=ModelConfig.from_config(config[\"config\"]), name=config[\"name\"]\n",
    "        )"
   ]
  },
  {
   "cell_type": "code",
   "execution_count": 12,
   "metadata": {},
   "outputs": [],
   "source": [
    "@keras.saving.register_keras_serializable(package=\"CycleGAN\", name=\"Discriminator\")\n",
    "class Discriminator(tf.keras.Model):\n",
    "    \"\"\"Modern implementation of PatchGAN discriminator.\"\"\"\n",
    "\n",
    "    def __init__(self, config: ModelConfig, name: str = \"discriminator\", **kwargs):\n",
    "        super().__init__(name=name, **kwargs)\n",
    "        self.config = config\n",
    "\n",
    "        self.down_stack = [\n",
    "            DownsampleBlock(config.base_filters, apply_norm=False),\n",
    "            DownsampleBlock(config.base_filters * 2),\n",
    "            DownsampleBlock(config.base_filters * 4),\n",
    "        ]\n",
    "\n",
    "        self.zero_pad1 = tf.keras.layers.ZeroPadding2D()\n",
    "        self.conv = tf.keras.layers.Conv2D(\n",
    "            config.base_filters * 8,\n",
    "            4,\n",
    "            strides=1,\n",
    "            kernel_initializer=tf.keras.initializers.RandomNormal(0.0, 0.02),\n",
    "            use_bias=False,\n",
    "        )\n",
    "        self.batch_norm = tf.keras.layers.BatchNormalization(\n",
    "            gamma_initializer=tf.keras.initializers.RandomNormal(0.0, 0.02)\n",
    "        )\n",
    "        self.leaky_relu = tf.keras.layers.LeakyReLU(0.2)\n",
    "        self.zero_pad2 = tf.keras.layers.ZeroPadding2D()\n",
    "        self.final_conv = tf.keras.layers.Conv2D(\n",
    "            1,\n",
    "            4,\n",
    "            strides=1,\n",
    "            kernel_initializer=tf.keras.initializers.RandomNormal(0.0, 0.02),\n",
    "        )\n",
    "\n",
    "    def call(self, x: tf.Tensor, training: bool = False) -> tf.Tensor:\n",
    "        for down in self.down_stack:\n",
    "            x = down(x, training=training)\n",
    "\n",
    "        x = self.zero_pad1(x)\n",
    "        x = self.conv(x)\n",
    "        x = self.batch_norm(x, training=training)\n",
    "        x = self.leaky_relu(x)\n",
    "        x = self.zero_pad2(x)\n",
    "\n",
    "        return self.final_conv(x)\n",
    "\n",
    "    def get_config(self):\n",
    "        return {\"config\": self.config.get_config(), \"name\": self.name}\n",
    "\n",
    "    @classmethod\n",
    "    def from_config(cls, config):\n",
    "        return cls(\n",
    "            config=ModelConfig.from_config(config[\"config\"]), name=config[\"name\"]\n",
    "        )"
   ]
  },
  {
   "cell_type": "markdown",
   "metadata": {},
   "source": [
    "## Gan Model\n"
   ]
  },
  {
   "cell_type": "code",
   "execution_count": 13,
   "metadata": {},
   "outputs": [],
   "source": [
    "from typing import Tuple, Dict, Optional\n",
    "from pathlib import Path"
   ]
  },
  {
   "cell_type": "code",
   "execution_count": 14,
   "metadata": {},
   "outputs": [],
   "source": [
    "@keras.saving.register_keras_serializable(package=\"CycleGAN\", name=\"CycleGAN\")\n",
    "class CycleGAN(tf.keras.Model):\n",
    "    def __init__(self, config: ModelConfig, **kwargs):\n",
    "        super().__init__(**kwargs)\n",
    "        self.config = config\n",
    "\n",
    "        # Generators\n",
    "        self.gen_G = Generator(config, name=\"generator_G\")\n",
    "        self.gen_F = Generator(config, name=\"generator_F\")\n",
    "\n",
    "        # Discriminators\n",
    "        self.disc_X = Discriminator(config, name=\"discriminator_X\")\n",
    "        self.disc_Y = Discriminator(config, name=\"discriminator_Y\")\n",
    "\n",
    "        # Optimizers with same settings\n",
    "        optimizer_kwargs = dict(\n",
    "            learning_rate=config.learning_rate, beta_1=config.beta_1\n",
    "        )\n",
    "        self.gen_G_optimizer = tf.keras.optimizers.Adam(**optimizer_kwargs)\n",
    "        self.gen_F_optimizer = tf.keras.optimizers.Adam(**optimizer_kwargs)\n",
    "        self.disc_X_optimizer = tf.keras.optimizers.Adam(**optimizer_kwargs)\n",
    "        self.disc_Y_optimizer = tf.keras.optimizers.Adam(**optimizer_kwargs)\n",
    "\n",
    "        # Loss trackers\n",
    "        self.gen_G_loss_tracker = tf.keras.metrics.Mean(name=\"gen_G_loss\")\n",
    "        self.gen_F_loss_tracker = tf.keras.metrics.Mean(name=\"gen_F_loss\")\n",
    "        self.disc_X_loss_tracker = tf.keras.metrics.Mean(name=\"disc_X_loss\")\n",
    "        self.disc_Y_loss_tracker = tf.keras.metrics.Mean(name=\"disc_Y_loss\")\n",
    "        self.cycle_loss_tracker = tf.keras.metrics.Mean(name=\"cycle_loss\")\n",
    "        self.identity_loss_tracker = tf.keras.metrics.Mean(name=\"identity_loss\")\n",
    "\n",
    "    def compile(self, **kwargs):\n",
    "        super().compile(**kwargs)\n",
    "\n",
    "    def call(self, inputs, training=False):\n",
    "        if isinstance(inputs, tuple):\n",
    "            real_x, real_y = inputs\n",
    "\n",
    "            if training:\n",
    "                fake_y = self.gen_G(real_x, training=training)\n",
    "                fake_x = self.gen_F(real_y, training=training)\n",
    "\n",
    "                return fake_y, fake_x\n",
    "\n",
    "            else:\n",
    "                return self.gen_G(real_x, training=training)\n",
    "\n",
    "        return self.gen_G(inputs, training=training)\n",
    "\n",
    "    def _generator_loss(self, disc_generated_output):\n",
    "        \"\"\"\n",
    "        Calculates the generator loss using the discriminator output.\n",
    "\n",
    "        Args:\n",
    "            disc_generated_output: Discriminator output.\n",
    "\n",
    "        Returns:\n",
    "            The generator loss.\n",
    "        \"\"\"\n",
    "\n",
    "        return tf.reduce_mean(\n",
    "            tf.keras.losses.binary_crossentropy(\n",
    "                tf.ones_like(disc_generated_output),\n",
    "                disc_generated_output,\n",
    "                from_logits=True,\n",
    "            )\n",
    "        )\n",
    "\n",
    "    def _discriminator_loss(self, real_output, fake_output):\n",
    "        \"\"\"\n",
    "        Calculates the discriminator loss.\n",
    "\n",
    "        Args:\n",
    "            real_output: Real output.\n",
    "            fake_output: Fake output.\n",
    "\n",
    "        Returns:\n",
    "            The discriminator loss.\n",
    "        \"\"\"\n",
    "\n",
    "        real_loss = tf.keras.losses.binary_crossentropy(\n",
    "            tf.ones_like(real_output), real_output, from_logits=True\n",
    "        )\n",
    "\n",
    "        fake_loss = tf.keras.losses.binary_crossentropy(\n",
    "            tf.zeros_like(fake_output), fake_output, from_logits=True\n",
    "        )\n",
    "\n",
    "        return tf.reduce_mean(real_loss + fake_loss) * 0.5\n",
    "\n",
    "    def _cycle_loss(self, real_image, cycled_image):\n",
    "        \"\"\"\n",
    "        Calculates the consistency loss using the L1 norm.\n",
    "\n",
    "        Args:\n",
    "            real_image: Real image.\n",
    "            cycled_image: Cycled image.\n",
    "\n",
    "        Returns:\n",
    "            The cycle consistency loss.\n",
    "        \"\"\"\n",
    "\n",
    "        return tf.reduce_mean(tf.abs(real_image - cycled_image))\n",
    "\n",
    "    def _identity_loss(self, real_image, same_image):\n",
    "        \"\"\"\n",
    "        Calculates the identity loss using the L1 norm.\n",
    "\n",
    "        Args:\n",
    "            real_image: Real image.\n",
    "            same_image: Image after identity mapping.\n",
    "\n",
    "        Returns:\n",
    "            The identity loss.\n",
    "        \"\"\"\n",
    "        return tf.reduce_mean(tf.abs(real_image - same_image))\n",
    "\n",
    "    def train_step(self, batch_data):\n",
    "        if isinstance(batch_data, tuple):\n",
    "            real_x = batch_data[0]\n",
    "            real_y = batch_data[1]\n",
    "\n",
    "        else:\n",
    "            raise ValueError(\n",
    "                \"Expected tuple of two tensors, got: {}\".format(batch_data)\n",
    "            )\n",
    "\n",
    "        if real_x.shape != real_y.shape:\n",
    "            raise ValueError(f\"Shape mismatch: {real_x.shape} vs {real_y.shape}\")\n",
    "\n",
    "        with tf.GradientTape(persistent=True) as tape:\n",
    "            # Generator outputs\n",
    "            fake_y = self.gen_G(real_x, training=True)\n",
    "            fake_x = self.gen_F(real_y, training=True)\n",
    "\n",
    "            # Cycle consistency\n",
    "            cycled_x = self.gen_F(fake_y, training=True)\n",
    "            cycled_y = self.gen_G(fake_x, training=True)\n",
    "\n",
    "            # Identity mapping\n",
    "            same_x = self.gen_F(real_x, training=True)\n",
    "            same_y = self.gen_G(real_y, training=True)\n",
    "\n",
    "            # Discriminator outputs\n",
    "            disc_real_x = self.disc_X(real_x, training=True)\n",
    "            disc_fake_x = self.disc_X(fake_x, training=True)\n",
    "            disc_real_y = self.disc_Y(real_y, training=True)\n",
    "            disc_fake_y = self.disc_Y(fake_y, training=True)\n",
    "\n",
    "            # Generator losses\n",
    "            gen_G_loss = self._generator_loss(disc_fake_y)\n",
    "            gen_F_loss = self._generator_loss(disc_fake_x)\n",
    "\n",
    "            # Cycle consistency loss\n",
    "            cycle_loss = (\n",
    "                self._cycle_loss(real_x, cycled_x) + self._cycle_loss(real_y, cycled_y)\n",
    "            ) * self.config.lambda_cycle\n",
    "\n",
    "            # Identity loss\n",
    "            identity_loss = (\n",
    "                self._identity_loss(real_x, same_x)\n",
    "                + self._identity_loss(real_y, same_y)\n",
    "            ) * self.config.lambda_identity\n",
    "\n",
    "            # Total generator losses\n",
    "            total_gen_G_loss = gen_G_loss + cycle_loss + identity_loss\n",
    "            total_gen_F_loss = gen_F_loss + cycle_loss + identity_loss\n",
    "\n",
    "            # Discriminator losses\n",
    "            disc_X_loss = self._discriminator_loss(disc_real_x, disc_fake_x)\n",
    "            disc_Y_loss = self._discriminator_loss(disc_real_y, disc_fake_y)\n",
    "\n",
    "        # Calculate and apply gradients\n",
    "        gen_G_gradients = tape.gradient(\n",
    "            total_gen_G_loss, self.gen_G.trainable_variables\n",
    "        )\n",
    "        gen_F_gradients = tape.gradient(\n",
    "            total_gen_F_loss, self.gen_F.trainable_variables\n",
    "        )\n",
    "        disc_X_gradients = tape.gradient(disc_X_loss, self.disc_X.trainable_variables)\n",
    "        disc_Y_gradients = tape.gradient(disc_Y_loss, self.disc_Y.trainable_variables)\n",
    "\n",
    "        # Apply gradients\n",
    "        self.gen_G_optimizer.apply_gradients(\n",
    "            zip(gen_G_gradients, self.gen_G.trainable_variables)\n",
    "        )\n",
    "        self.gen_F_optimizer.apply_gradients(\n",
    "            zip(gen_F_gradients, self.gen_F.trainable_variables)\n",
    "        )\n",
    "        self.disc_X_optimizer.apply_gradients(\n",
    "            zip(disc_X_gradients, self.disc_X.trainable_variables)\n",
    "        )\n",
    "        self.disc_Y_optimizer.apply_gradients(\n",
    "            zip(disc_Y_gradients, self.disc_Y.trainable_variables)\n",
    "        )\n",
    "\n",
    "        # Update metrics\n",
    "        self.gen_G_loss_tracker.update_state(total_gen_G_loss)\n",
    "        self.gen_F_loss_tracker.update_state(total_gen_F_loss)\n",
    "        self.disc_X_loss_tracker.update_state(disc_X_loss)\n",
    "        self.disc_Y_loss_tracker.update_state(disc_Y_loss)\n",
    "        self.cycle_loss_tracker.update_state(cycle_loss)\n",
    "        self.identity_loss_tracker.update_state(identity_loss)\n",
    "\n",
    "        return {\n",
    "            \"gen_G_loss\": self.gen_G_loss_tracker.result(),\n",
    "            \"gen_F_loss\": self.gen_F_loss_tracker.result(),\n",
    "            \"disc_X_loss\": self.disc_X_loss_tracker.result(),\n",
    "            \"disc_Y_loss\": self.disc_Y_loss_tracker.result(),\n",
    "            \"cycle_loss\": self.cycle_loss_tracker.result(),\n",
    "            \"identity_loss\": self.identity_loss_tracker.result(),\n",
    "        }\n",
    "\n",
    "    @property\n",
    "    def metrics(self) -> list:\n",
    "        \"\"\"\n",
    "        Returns the model's metrics.\n",
    "\n",
    "        Returns:\n",
    "            A list of metrics.\n",
    "        \"\"\"\n",
    "\n",
    "        return [\n",
    "            self.gen_G_loss_tracker,\n",
    "            self.gen_F_loss_tracker,\n",
    "            self.disc_X_loss_tracker,\n",
    "            self.disc_Y_loss_tracker,\n",
    "            self.cycle_loss_tracker,\n",
    "            self.identity_loss_tracker,\n",
    "        ]\n",
    "\n",
    "    def get_config(self):\n",
    "        return {\"config\": self.config.get_config()}\n",
    "\n",
    "    @classmethod\n",
    "    def from_config(cls, config):\n",
    "        return cls(config=ModelConfig.from_config(config[\"config\"]))"
   ]
  },
  {
   "cell_type": "markdown",
   "metadata": {},
   "source": [
    "## Evaluator\n"
   ]
  },
  {
   "cell_type": "code",
   "execution_count": 15,
   "metadata": {},
   "outputs": [],
   "source": [
    "from skimage.metrics import structural_similarity\n",
    "from scipy import linalg"
   ]
  },
  {
   "cell_type": "code",
   "execution_count": 16,
   "metadata": {},
   "outputs": [],
   "source": [
    "class CycleGANEvaluator:\n",
    "    def __init__(self):\n",
    "        \"\"\"Initialize the CycleGAN evaluator with InceptionV3 model.\"\"\"\n",
    "        self.inception_model = tf.keras.applications.InceptionV3(\n",
    "            include_top=False, weights=\"imagenet\", pooling=\"avg\"\n",
    "        )\n",
    "\n",
    "    def preprocess_images(self, images):\n",
    "        \"\"\"Preprocess images to the correct format.\"\"\"\n",
    "        # Ensure we're working with float32\n",
    "        images = tf.cast(images, tf.float32)\n",
    "\n",
    "        # Ensure pixel values are in [0, 1]\n",
    "        if tf.reduce_max(images) > 1.0:\n",
    "            images = images / 255.0\n",
    "\n",
    "        return images\n",
    "\n",
    "    def calculate_fid(self, real_images, generated_images):\n",
    "        \"\"\"\n",
    "        Calculate Frechet Inception Distance between real and generated images.\n",
    "\n",
    "        Args:\n",
    "            real_images: Tensor of real images\n",
    "            generated_images: Tensor of generated images\n",
    "\n",
    "        Returns:\n",
    "            FID score (float)\n",
    "        \"\"\"\n",
    "        # Preprocess images\n",
    "        real_images = self.preprocess_images(real_images)\n",
    "        generated_images = self.preprocess_images(generated_images)\n",
    "\n",
    "        # Resize images to InceptionV3 input size\n",
    "        real_images = tf.image.resize(real_images, (299, 299))\n",
    "        generated_images = tf.image.resize(generated_images, (299, 299))\n",
    "\n",
    "        # Ensure batch processing for large datasets\n",
    "        batch_size = 32\n",
    "\n",
    "        def get_features(images):\n",
    "            features_list = []\n",
    "            for i in range(0, len(images), batch_size):\n",
    "                batch = images[i : i + batch_size]\n",
    "                features = self.inception_model.predict(batch, verbose=0)\n",
    "                features_list.append(features)\n",
    "            return np.concatenate(features_list, axis=0)\n",
    "\n",
    "        # Get features\n",
    "        real_features = get_features(real_images)\n",
    "        gen_features = get_features(generated_images)\n",
    "\n",
    "        # Calculate mean and covariance\n",
    "        mu1, sigma1 = np.mean(real_features, axis=0), np.cov(\n",
    "            real_features, rowvar=False\n",
    "        )\n",
    "        mu2, sigma2 = np.mean(gen_features, axis=0), np.cov(gen_features, rowvar=False)\n",
    "\n",
    "        # Calculate FID\n",
    "        ssdiff = np.sum((mu1 - mu2) ** 2.0)\n",
    "        covmean = linalg.sqrtm(sigma1.dot(sigma2), disp=False)[0]\n",
    "\n",
    "        if np.iscomplexobj(covmean):\n",
    "            covmean = covmean.real\n",
    "\n",
    "        return float(ssdiff + np.trace(sigma1 + sigma2 - 2.0 * covmean))\n",
    "\n",
    "    def calculate_ssim(self, real_images, generated_images):\n",
    "        \"\"\"Calculate SSIM between real and generated images.\"\"\"\n",
    "        real_images = self.preprocess_images(real_images)\n",
    "        generated_images = self.preprocess_images(generated_images)\n",
    "\n",
    "        ssim_scores = []\n",
    "        for real, gen in zip(real_images, generated_images):\n",
    "            # Convert to numpy and ensure correct shape\n",
    "            real_np = real.numpy()\n",
    "            gen_np = gen.numpy()\n",
    "\n",
    "            # Handle grayscale images\n",
    "            if len(real_np.shape) == 2:\n",
    "                real_np = real_np[..., np.newaxis]\n",
    "                gen_np = gen_np[..., np.newaxis]\n",
    "\n",
    "            # Use a smaller window size (5x5) and explicitly specify channel_axis\n",
    "            score = structural_similarity(\n",
    "                real_np,\n",
    "                gen_np,\n",
    "                win_size=5,  # Smaller window size\n",
    "                channel_axis=-1,  # Specify channel axis\n",
    "                data_range=1.0,\n",
    "            )\n",
    "            ssim_scores.append(score)\n",
    "\n",
    "        return float(np.mean(ssim_scores))\n",
    "\n",
    "    def calculate_mse(self, real_images, generated_images):\n",
    "        \"\"\"Calculate MSE between real and generated images.\"\"\"\n",
    "        real_images = self.preprocess_images(real_images)\n",
    "        generated_images = self.preprocess_images(generated_images)\n",
    "        return float(tf.reduce_mean(tf.square(real_images - generated_images)))\n",
    "\n",
    "    def calculate_psnr(self, real_images, generated_images):\n",
    "        \"\"\"Calculate PSNR between real and generated images.\"\"\"\n",
    "        mse = self.calculate_mse(real_images, generated_images)\n",
    "        if mse == 0:\n",
    "            return float(\"inf\")\n",
    "        return float(20 * np.log10(1.0 / tf.sqrt(mse)))\n",
    "\n",
    "    def evaluate_model(self, model, test_dataset, num_samples=100):\n",
    "        \"\"\"\n",
    "        Comprehensively evaluate the GAN model using multiple metrics.\n",
    "\n",
    "        Args:\n",
    "            model: CycleGAN model with gen_G attribute\n",
    "            test_dataset: TensorFlow dataset containing test data\n",
    "            num_samples: Number of samples to evaluate\n",
    "\n",
    "        Returns:\n",
    "            Dictionary containing evaluation metrics\n",
    "        \"\"\"\n",
    "        # Fix the dataset caching warning by proper ordering of operations\n",
    "        if num_samples is not None:\n",
    "            test_dataset = test_dataset.take(num_samples).cache()\n",
    "        else:\n",
    "            test_dataset = test_dataset.cache()\n",
    "\n",
    "        real_images = []\n",
    "        generated_images = []\n",
    "\n",
    "        try:\n",
    "            # Collect real and generated images\n",
    "            for batch in test_dataset:\n",
    "                if isinstance(batch, tuple):\n",
    "                    real_x = batch[0]\n",
    "                else:\n",
    "                    real_x = batch\n",
    "\n",
    "                # Ensure 4D shape (batch_size, height, width, channels)\n",
    "                if len(real_x.shape) != 4:\n",
    "                    raise ValueError(f\"Expected 4D tensor, got shape: {real_x.shape}\")\n",
    "\n",
    "                generated = model.gen_G(real_x, training=False)\n",
    "\n",
    "                # Ensure consistent shapes\n",
    "                if generated.shape != real_x.shape:\n",
    "                    raise ValueError(\n",
    "                        f\"Shape mismatch: real {real_x.shape} vs generated {generated.shape}\"\n",
    "                    )\n",
    "\n",
    "                real_images.append(real_x)\n",
    "                generated_images.append(generated)\n",
    "\n",
    "            # Convert to tensors\n",
    "            real_images = tf.concat(real_images, axis=0)\n",
    "            generated_images = tf.concat(generated_images, axis=0)\n",
    "\n",
    "            print(f\"Evaluating {len(real_images)} image pairs...\")\n",
    "\n",
    "            # Calculate all metrics\n",
    "            metrics = {\n",
    "                \"fid\": self.calculate_fid(real_images, generated_images),\n",
    "                \"ssim\": self.calculate_ssim(real_images, generated_images),\n",
    "                \"mse\": self.calculate_mse(real_images, generated_images),\n",
    "                \"psnr\": self.calculate_psnr(real_images, generated_images),\n",
    "            }\n",
    "\n",
    "            return metrics\n",
    "\n",
    "        except Exception as e:\n",
    "            print(\"Error during evaluation:\")\n",
    "            print(f\"Original error: {str(e)}\")\n",
    "            if len(real_images) > 0:\n",
    "                print(\"\\nTensor shapes in the batch where error occurred:\")\n",
    "                print(f\"Real images shape: {real_images[-1].shape}\")\n",
    "                print(f\"Generated images shape: {generated_images[-1].shape}\")\n",
    "            raise"
   ]
  },
  {
   "cell_type": "code",
   "execution_count": 17,
   "metadata": {},
   "outputs": [],
   "source": [
    "from datetime import datetime"
   ]
  },
  {
   "cell_type": "code",
   "execution_count": 18,
   "metadata": {},
   "outputs": [],
   "source": [
    "class MetricsVisualizer:\n",
    "    def __init__(self, save_dir=\"./evaluation_results\"):\n",
    "        \"\"\"\n",
    "        Initialize the metrics visualizer.\n",
    "\n",
    "        Args:\n",
    "            save_dir: Directory to save the plots\n",
    "        \"\"\"\n",
    "        self.save_dir = save_dir\n",
    "        tf.io.gfile.makedirs(save_dir)\n",
    "\n",
    "    def plot_image_comparison(self, real_images, generated_images, num_samples=5):\n",
    "        \"\"\"Plot a grid of real vs generated images.\"\"\"\n",
    "        plt.figure(figsize=(15, 6))\n",
    "\n",
    "        # Randomly sample image pairs\n",
    "        total_images = len(real_images)\n",
    "        indices = np.random.choice(total_images, num_samples, replace=False)\n",
    "\n",
    "        for idx, i in enumerate(indices):\n",
    "            # Plot real image\n",
    "            plt.subplot(2, num_samples, idx + 1)\n",
    "            plt.imshow(self._prepare_image_for_plot(real_images[i]))\n",
    "            plt.axis(\"off\")\n",
    "            if idx == 0:\n",
    "                plt.title(\"Real Images\")\n",
    "\n",
    "            # Plot generated image\n",
    "            plt.subplot(2, num_samples, num_samples + idx + 1)\n",
    "            plt.imshow(self._prepare_image_for_plot(generated_images[i]))\n",
    "            plt.axis(\"off\")\n",
    "            if idx == 0:\n",
    "                plt.title(\"Generated Images\")\n",
    "\n",
    "        plt.tight_layout()\n",
    "        timestamp = datetime.now().strftime(\"%Y%m%d_%H%M%S\")\n",
    "        plt.savefig(f\"{self.save_dir}/image_comparison_{timestamp}.png\")\n",
    "        plt.close()\n",
    "\n",
    "    def plot_metrics_history(self, metrics_history):\n",
    "        \"\"\"Plot the evolution of metrics over time.\"\"\"\n",
    "        plt.figure(figsize=(15, 10))\n",
    "\n",
    "        # Create subplots for each metric\n",
    "        metrics = list(metrics_history[0].keys())\n",
    "        num_metrics = len(metrics)\n",
    "        rows = (num_metrics + 1) // 2\n",
    "\n",
    "        for idx, metric in enumerate(metrics, 1):\n",
    "            plt.subplot(rows, 2, idx)\n",
    "            values = [h[metric] for h in metrics_history]\n",
    "            epochs = range(1, len(values) + 1)\n",
    "\n",
    "            plt.plot(epochs, values, \"b-\", marker=\"o\")\n",
    "            plt.title(f\"{metric.upper()} over Time\")\n",
    "            plt.xlabel(\"Evaluation Step\")\n",
    "            plt.ylabel(metric.upper())\n",
    "            plt.grid(True)\n",
    "\n",
    "        plt.tight_layout()\n",
    "        timestamp = datetime.now().strftime(\"%Y%m%d_%H%M%S\")\n",
    "        plt.savefig(f\"{self.save_dir}/metrics_history_{timestamp}.png\")\n",
    "        plt.close()\n",
    "\n",
    "    def plot_metrics_distribution(self, real_images, generated_images, evaluator):\n",
    "        \"\"\"Plot the distribution of metrics across individual image pairs.\"\"\"\n",
    "        plt.figure(figsize=(15, 10))\n",
    "\n",
    "        # Calculate metrics for each image pair\n",
    "        ssim_scores = []\n",
    "        mse_scores = []\n",
    "        psnr_scores = []\n",
    "\n",
    "        for real, gen in zip(real_images, generated_images):\n",
    "            real_batch = tf.expand_dims(real, 0)\n",
    "            gen_batch = tf.expand_dims(gen, 0)\n",
    "\n",
    "            ssim = evaluator.calculate_ssim(real_batch, gen_batch)\n",
    "            mse = evaluator.calculate_mse(real_batch, gen_batch)\n",
    "            psnr = evaluator.calculate_psnr(real_batch, gen_batch)\n",
    "\n",
    "            ssim_scores.append(ssim)\n",
    "            mse_scores.append(mse)\n",
    "            psnr_scores.append(psnr)\n",
    "\n",
    "        # Plot distributions\n",
    "        plt.subplot(2, 2, 1)\n",
    "        plt.hist(ssim_scores, bins=30, color=\"blue\", alpha=0.7)\n",
    "        plt.title(\"SSIM Distribution\")\n",
    "        plt.xlabel(\"SSIM Score\")\n",
    "        plt.ylabel(\"Count\")\n",
    "\n",
    "        plt.subplot(2, 2, 2)\n",
    "        plt.hist(mse_scores, bins=30, color=\"red\", alpha=0.7)\n",
    "        plt.title(\"MSE Distribution\")\n",
    "        plt.xlabel(\"MSE Score\")\n",
    "        plt.ylabel(\"Count\")\n",
    "\n",
    "        plt.subplot(2, 2, 3)\n",
    "        plt.hist(psnr_scores, bins=30, color=\"green\", alpha=0.7)\n",
    "        plt.title(\"PSNR Distribution\")\n",
    "        plt.xlabel(\"PSNR Score\")\n",
    "        plt.ylabel(\"Count\")\n",
    "\n",
    "        # Add summary statistics\n",
    "        plt.subplot(2, 2, 4)\n",
    "        plt.axis(\"off\")\n",
    "        summary_text = (\n",
    "            f\"Summary Statistics:\\n\\n\"\n",
    "            f\"SSIM:\\n\"\n",
    "            f\"  Mean: {np.mean(ssim_scores):.4f}\\n\"\n",
    "            f\"  Std: {np.std(ssim_scores):.4f}\\n\\n\"\n",
    "            f\"MSE:\\n\"\n",
    "            f\"  Mean: {np.mean(mse_scores):.4f}\\n\"\n",
    "            f\"  Std: {np.std(mse_scores):.4f}\\n\\n\"\n",
    "            f\"PSNR:\\n\"\n",
    "            f\"  Mean: {np.mean(psnr_scores):.4f}\\n\"\n",
    "            f\"  Std: {np.std(psnr_scores):.4f}\"\n",
    "        )\n",
    "        plt.text(0.1, 0.1, summary_text, fontsize=10, fontfamily=\"monospace\")\n",
    "\n",
    "        plt.tight_layout()\n",
    "        timestamp = datetime.now().strftime(\"%Y%m%d_%H%M%S\")\n",
    "        plt.savefig(f\"{self.save_dir}/metrics_distribution_{timestamp}.png\")\n",
    "        plt.close()\n",
    "\n",
    "    def _prepare_image_for_plot(self, image):\n",
    "        \"\"\"Prepare image for plotting.\"\"\"\n",
    "        # Convert to numpy array if tensor\n",
    "        if isinstance(image, tf.Tensor):\n",
    "            image = image.numpy()\n",
    "\n",
    "        # Ensure values are in [0, 1]\n",
    "        if image.max() > 1.0:\n",
    "            image = image / 255.0\n",
    "\n",
    "        # Clip values to [0, 1]\n",
    "        image = np.clip(image, 0, 1)\n",
    "\n",
    "        return image"
   ]
  },
  {
   "cell_type": "code",
   "execution_count": 19,
   "metadata": {},
   "outputs": [],
   "source": [
    "def plot_evaluation_results(\n",
    "    evaluator, model, test_dataset, num_samples=100, metrics_history=None\n",
    "):\n",
    "    \"\"\"\n",
    "    Comprehensive plotting of evaluation results.\n",
    "\n",
    "    Args:\n",
    "        evaluator: CycleGANEvaluator instance\n",
    "        model: CycleGAN model\n",
    "        test_dataset: Test dataset\n",
    "        num_samples: Number of samples to evaluate\n",
    "        metrics_history: List of metrics dictionaries over time (optional)\n",
    "    \"\"\"\n",
    "    visualizer = MetricsVisualizer()\n",
    "\n",
    "    # Collect images and calculate metrics\n",
    "    real_images = []\n",
    "    generated_images = []\n",
    "\n",
    "    # Take and cache the dataset\n",
    "    dataset = test_dataset.take(num_samples).cache()\n",
    "\n",
    "    for batch in dataset:\n",
    "        if isinstance(batch, tuple):\n",
    "            real_x = batch[0]\n",
    "        else:\n",
    "            real_x = batch\n",
    "\n",
    "        generated = model.gen_G(real_x, training=False)\n",
    "        real_images.extend(tf.unstack(real_x))\n",
    "        generated_images.extend(tf.unstack(generated))\n",
    "\n",
    "    # Convert to tensors\n",
    "    real_images = tf.stack(real_images)\n",
    "    generated_images = tf.stack(generated_images)\n",
    "\n",
    "    # Plot image comparisons\n",
    "    visualizer.plot_image_comparison(real_images, generated_images)\n",
    "\n",
    "    # Plot metrics distribution\n",
    "    visualizer.plot_metrics_distribution(real_images, generated_images, evaluator)\n",
    "\n",
    "    # Plot metrics history if provided\n",
    "    if metrics_history is not None:\n",
    "        visualizer.plot_metrics_history(metrics_history)\n",
    "\n",
    "    print(f\"Plots have been saved to {visualizer.save_dir}\")"
   ]
  },
  {
   "cell_type": "markdown",
   "metadata": {},
   "source": [
    "### Model Visualization\n"
   ]
  },
  {
   "cell_type": "code",
   "execution_count": 20,
   "metadata": {},
   "outputs": [],
   "source": [
    "from typing import Union"
   ]
  },
  {
   "cell_type": "code",
   "execution_count": 21,
   "metadata": {},
   "outputs": [],
   "source": [
    "class CycleGANVisualizer:\n",
    "    \"\"\"Visualization tools for CycleGAN results.\"\"\"\n",
    "\n",
    "    def __init__(self, model: \"CycleGAN\"):\n",
    "        self.model = model\n",
    "        self.utils = VisualizationUtils()\n",
    "\n",
    "    def display_samples(\n",
    "        self,\n",
    "        dataset: tf.data.Dataset,\n",
    "        num_samples: Tuple[int, int] = (4, 6),\n",
    "        figsize: Optional[Tuple[int, int]] = None,\n",
    "        save_path: Optional[str] = None,\n",
    "    ) -> None:\n",
    "        \"\"\"\n",
    "        Display or save a grid of samples from the dataset.\n",
    "\n",
    "        Args:\n",
    "            dataset: TensorFlow dataset containing the images\n",
    "            num_samples: Tuple of (rows, columns) for the display grid\n",
    "            figsize: Optional tuple for figure size\n",
    "            save_path: Optional path to save the figure\n",
    "        \"\"\"\n",
    "        rows, cols = num_samples\n",
    "        fig, axes = self.utils.create_figure(rows, cols, figsize)\n",
    "\n",
    "        samples = next(iter(dataset.take(1).batch(rows * cols)))\n",
    "\n",
    "        for idx, (ax, img) in enumerate(zip(axes, samples)):\n",
    "            if isinstance(img, tuple):\n",
    "                img = img[0]\n",
    "\n",
    "            # Display image\n",
    "            ax.imshow(self.utils.denormalize_image(img))\n",
    "            ax.axis(\"off\")\n",
    "            ax.set_title(f\"Sample {idx + 1}\")\n",
    "\n",
    "        plt.tight_layout()\n",
    "\n",
    "        if save_path:\n",
    "            plt.savefig(save_path, bbox_inches=\"tight\", dpi=300)\n",
    "            plt.close()\n",
    "        else:\n",
    "            plt.show()\n",
    "\n",
    "    def display_generated_samples(\n",
    "        self,\n",
    "        test_dataset: tf.data.Dataset,\n",
    "        num_samples: int = 3,\n",
    "        figsize: Optional[Tuple[int, int]] = None,\n",
    "        save_path: Optional[str] = None,\n",
    "    ) -> None:\n",
    "        \"\"\"\n",
    "        Display or save pairs of input and generated images.\n",
    "\n",
    "        Args:\n",
    "            test_dataset: Dataset containing test images\n",
    "            num_samples: Number of sample pairs to display\n",
    "            figsize: Optional tuple for figure size\n",
    "            save_path: Optional path to save the figure\n",
    "        \"\"\"\n",
    "        if figsize is None:\n",
    "            figsize = (8 * 2, 4 * num_samples)\n",
    "\n",
    "        fig, axes = plt.subplots(num_samples, 2, figsize=figsize)\n",
    "        if num_samples == 1:\n",
    "            axes = axes.reshape(1, -1)\n",
    "\n",
    "        for idx, samples in enumerate(test_dataset.take(num_samples)):\n",
    "            if isinstance(samples, tuple):\n",
    "                input_image = samples[0]\n",
    "            else:\n",
    "                input_image = samples\n",
    "\n",
    "            # Generate image\n",
    "            generated_image = self.model.gen_G(input_image, training=False)\n",
    "\n",
    "            axes[idx, 0].imshow(self.utils.denormalize_image(input_image[0]))\n",
    "            axes[idx, 0].axis(\"off\")\n",
    "            axes[idx, 0].set_title(\"Input Photo\")\n",
    "\n",
    "            axes[idx, 1].imshow(self.utils.denormalize_image(generated_image[0]))\n",
    "            axes[idx, 1].axis(\"off\")\n",
    "            axes[idx, 1].set_title(\"Generated Monet\")\n",
    "\n",
    "        plt.tight_layout()\n",
    "\n",
    "        if save_path:\n",
    "            plt.savefig(save_path, bbox_inches=\"tight\", dpi=300)\n",
    "            plt.close()\n",
    "        else:\n",
    "            plt.show()\n",
    "\n",
    "    def display_progress(\n",
    "        self,\n",
    "        test_image: Union[str, tf.Tensor],\n",
    "        epoch: int,\n",
    "        save_dir: str = \"training_progress\",\n",
    "    ) -> None:\n",
    "        \"\"\"\n",
    "        Generate and save a Monet-style image to track training progress.\n",
    "\n",
    "        Args:\n",
    "            test_image: Path to image or tensor of test image\n",
    "            epoch: Current epoch number\n",
    "            save_dir: Directory to save progress images\n",
    "        \"\"\"\n",
    "        import os\n",
    "\n",
    "        os.makedirs(save_dir, exist_ok=True)\n",
    "\n",
    "        if isinstance(test_image, str):\n",
    "            img = tf.keras.preprocessing.image.load_img(\n",
    "                test_image,\n",
    "                target_size=(self.model.config.height, self.model.config.width),\n",
    "            )\n",
    "\n",
    "            img = tf.keras.preprocessing.image.img_to_array(img)\n",
    "            img = (img / 127.5) - 1.0\n",
    "            img = tf.expand_dims(img, 0)\n",
    "\n",
    "        else:\n",
    "            img = test_image\n",
    "\n",
    "        generated = self.model.gen_G(img, training=False)\n",
    "        fig, (ax1, ax2) = plt.subplots(1, 2, figsize=(12, 6))\n",
    "\n",
    "        ax1.imshow(self.utils.denormalize_image(img[0]))\n",
    "        ax1.axis(\"off\")\n",
    "        ax1.set_title(\"Original Photo\")\n",
    "\n",
    "        ax2.imshow(self.utils.denormalize_image(generated[0]))\n",
    "        ax2.axis(\"off\")\n",
    "        ax2.set_title(f\"Generated Monet (Epoch {epoch})\")\n",
    "\n",
    "        plt.tight_layout()\n",
    "        plt.savefig(\n",
    "            os.path.join(save_dir, f\"progress_epoch_{epoch}.png\"),\n",
    "            bbox_inches=\"tight\",\n",
    "            dpi=300,\n",
    "        )\n",
    "\n",
    "        plt.close()"
   ]
  },
  {
   "cell_type": "markdown",
   "metadata": {},
   "source": [
    "## Main Execution\n"
   ]
  },
  {
   "cell_type": "code",
   "execution_count": 22,
   "metadata": {},
   "outputs": [],
   "source": [
    "def setup_training(base_dir: str = \".\", batch_size: int = 1):\n",
    "    \"\"\"\n",
    "    Setups the training data and configuration.\n",
    "\n",
    "    Args:\n",
    "        base_dir (str): The base directory containing the data.\n",
    "        batch_size (int): The batch size.\n",
    "\n",
    "    Returns:\n",
    "        A tuple containing the configuration, training dataset, test dataset, and steps per epoch.\n",
    "    \"\"\"\n",
    "\n",
    "    config = ModelConfig(\n",
    "        height=256,\n",
    "        width=256,\n",
    "        channels=3,\n",
    "        base_filters=64,\n",
    "        lambda_cycle=10.0,\n",
    "        lambda_identity=0.5,\n",
    "        learning_rate=2e-4,\n",
    "        beta_1=0.5,\n",
    "    )\n",
    "\n",
    "    data_dir = Path(base_dir) / \"data\"\n",
    "    monet_files = tf.io.gfile.glob(str(data_dir / \"monet_tfrec\" / \"*.tfrec\"))\n",
    "    photo_files = tf.io.gfile.glob(str(data_dir / \"photo_tfrec\" / \"*.tfrec\"))\n",
    "\n",
    "    if not monet_files or not photo_files:\n",
    "        raise ValueError(\"No TFRecord files found in \", data_dir)\n",
    "\n",
    "    n_monet = sum(1 for f in monet_files for _ in tf.data.TFRecordDataset(f))\n",
    "    n_photo = sum(1 for f in photo_files for _ in tf.data.TFRecordDataset(f))\n",
    "    print(f\"Found {n_monet} Monet images and {n_photo} photos\")\n",
    "\n",
    "    processor = ImageProcessor(config)\n",
    "    monet_ds = processor.create_dataset(\n",
    "        monet_files, batch_size=batch_size, shuffle=True, cache=True\n",
    "    )\n",
    "\n",
    "    photo_ds = processor.create_dataset(\n",
    "        photo_files, batch_size=batch_size, shuffle=True, cache=True\n",
    "    )\n",
    "\n",
    "    test_ds = processor.create_dataset(\n",
    "        photo_files[:10],\n",
    "        batch_size=1,\n",
    "        shuffle=False,\n",
    "        cache=True,\n",
    "    )\n",
    "\n",
    "    train_ds = tf.data.Dataset.zip((photo_ds, monet_ds))\n",
    "    steps_per_epoch = min(n_monet, n_photo) // batch_size\n",
    "\n",
    "    return config, train_ds, test_ds, steps_per_epoch"
   ]
  },
  {
   "cell_type": "code",
   "execution_count": 23,
   "metadata": {},
   "outputs": [],
   "source": [
    "from datetime import datetime"
   ]
  },
  {
   "cell_type": "code",
   "execution_count": 24,
   "metadata": {},
   "outputs": [],
   "source": [
    "def setup_model_and_training(config: ModelConfig, strategy):\n",
    "    \"\"\"\n",
    "    Setups the CycleGAN model and training configuration.\n",
    "\n",
    "    Args:\n",
    "        config (ModelConfig): The model configuration.\n",
    "        strategy: The distribution strategy.\n",
    "\n",
    "    Returns:\n",
    "        A tuple containing the model and training callbacks.\n",
    "    \"\"\"\n",
    "\n",
    "    Path(\"logs/cyclegan\").mkdir(parents=True, exist_ok=True)\n",
    "    Path(\"checkpoints/cyclegan\").mkdir(parents=True, exist_ok=True)\n",
    "\n",
    "    with strategy.scope():\n",
    "        model = CycleGAN(config)\n",
    "        model.compile()\n",
    "\n",
    "    callbacks = [\n",
    "        tf.keras.callbacks.TensorBoard(\n",
    "            log_dir=f\"logs/cyclegan/{datetime.now().strftime('%Y%m%d-%H%M%S')}\",\n",
    "        ),\n",
    "        tf.keras.callbacks.ModelCheckpoint(\n",
    "            filepath=\"checkpoints/cyclegan/model.{epoch:03d}.weights.h5\",\n",
    "            save_freq=\"epoch\",\n",
    "            save_weights_only=True,\n",
    "            monitor=\"gen_G_loss\",\n",
    "            mode=\"min\",\n",
    "            save_best_only=True,\n",
    "        ),\n",
    "    ]\n",
    "\n",
    "    return model, callbacks"
   ]
  },
  {
   "cell_type": "code",
   "execution_count": 25,
   "metadata": {},
   "outputs": [],
   "source": [
    "EPOCHS = 100\n",
    "BATCH_SIZE = 1"
   ]
  },
  {
   "cell_type": "code",
   "execution_count": 26,
   "metadata": {},
   "outputs": [
    {
     "name": "stderr",
     "output_type": "stream",
     "text": [
      "2024-11-14 14:50:55.666520: I tensorflow/core/kernels/data/tf_record_dataset_op.cc:370] TFRecordDataset `buffer_size` is unspecified, default to 262144\n",
      "2024-11-14 14:50:55.676263: I tensorflow/core/framework/local_rendezvous.cc:405] Local rendezvous is aborting with status: OUT_OF_RANGE: End of sequence\n",
      "2024-11-14 14:50:55.695805: I tensorflow/core/framework/local_rendezvous.cc:405] Local rendezvous is aborting with status: OUT_OF_RANGE: End of sequence\n",
      "2024-11-14 14:50:55.731564: I tensorflow/core/framework/local_rendezvous.cc:405] Local rendezvous is aborting with status: OUT_OF_RANGE: End of sequence\n",
      "2024-11-14 14:50:55.853976: I tensorflow/core/framework/local_rendezvous.cc:405] Local rendezvous is aborting with status: OUT_OF_RANGE: End of sequence\n",
      "2024-11-14 14:50:56.140523: I tensorflow/core/framework/local_rendezvous.cc:405] Local rendezvous is aborting with status: OUT_OF_RANGE: End of sequence\n"
     ]
    },
    {
     "name": "stdout",
     "output_type": "stream",
     "text": [
      "Found 300 Monet images and 7038 photos\n"
     ]
    }
   ],
   "source": [
    "config, train_ds, test_ds, steps_per_epoch = setup_training(\n",
    "    base_dir=\"../\", batch_size=BATCH_SIZE\n",
    ")"
   ]
  },
  {
   "cell_type": "code",
   "execution_count": 27,
   "metadata": {},
   "outputs": [],
   "source": [
    "model, callbacks = setup_model_and_training(config, strategy)"
   ]
  },
  {
   "cell_type": "code",
   "execution_count": 28,
   "metadata": {},
   "outputs": [
    {
     "name": "stderr",
     "output_type": "stream",
     "text": [
      "/home/carlos/miniconda3/envs/ml/lib/python3.10/site-packages/keras/src/layers/layer.py:391: UserWarning: `build()` was called on layer 'cycle_gan', however the layer does not have a `build()` method implemented and it looks like it has unbuilt state. This will cause the layer to be marked as built, despite not being actually built, which may cause failures down the line. Make sure to implement a proper `build()` method.\n",
      "  warnings.warn(\n"
     ]
    },
    {
     "name": "stdout",
     "output_type": "stream",
     "text": [
      "Epoch 1/150\n"
     ]
    },
    {
     "name": "stderr",
     "output_type": "stream",
     "text": [
      "E0000 00:00:1731617512.512967    2796 meta_optimizer.cc:966] layout failed: INVALID_ARGUMENT: Size of values 0 does not match size of permutation 4 @ fanin shape inStatefulPartitionedCall/generator_G_5/upsample_block_1/dropout_1/stateless_dropout/SelectV2-2-TransposeNHWCToNCHW-LayoutOptimizer\n",
      "I0000 00:00:1731617517.533835    3284 cuda_dnn.cc:529] Loaded cuDNN version 90300\n"
     ]
    },
    {
     "name": "stdout",
     "output_type": "stream",
     "text": [
      "\u001b[1m295/300\u001b[0m \u001b[32m━━━━━━━━━━━━━━━━━━━\u001b[0m\u001b[37m━\u001b[0m \u001b[1m1s\u001b[0m 348ms/step - cycle_loss: 6.7756 - disc_X_loss: 0.5857 - disc_Y_loss: 0.6154 - gen_F_loss: 7.9353 - gen_G_loss: 7.8810 - identity_loss: 0.3310"
     ]
    },
    {
     "name": "stderr",
     "output_type": "stream",
     "text": [
      "2024-11-14 14:53:48.528087: W tensorflow/core/kernels/data/cache_dataset_ops.cc:914] The calling iterator did not fully read the dataset being cached. In order to avoid unexpected truncation of the dataset, the partially cached contents of the dataset  will be discarded. This can happen if you have an input pipeline similar to `dataset.cache().take(k).repeat()`. You should use `dataset.take(k).cache().repeat()` instead.\n"
     ]
    },
    {
     "name": "stdout",
     "output_type": "stream",
     "text": [
      "\u001b[1m299/300\u001b[0m \u001b[32m━━━━━━━━━━━━━━━━━━━\u001b[0m\u001b[37m━\u001b[0m \u001b[1m0s\u001b[0m 348ms/step - cycle_loss: 6.7659 - disc_X_loss: 0.5852 - disc_Y_loss: 0.6151 - gen_F_loss: 7.9266 - gen_G_loss: 7.8715 - identity_loss: 0.3305"
     ]
    },
    {
     "name": "stderr",
     "output_type": "stream",
     "text": [
      "2024-11-14 14:53:49.849008: I tensorflow/core/framework/local_rendezvous.cc:428] Local rendezvous send item cancelled. Key hash: 18396010607733563774\n",
      "2024-11-14 14:53:49.849054: I tensorflow/core/framework/local_rendezvous.cc:428] Local rendezvous send item cancelled. Key hash: 11613287781577413998\n",
      "2024-11-14 14:53:49.849059: I tensorflow/core/framework/local_rendezvous.cc:428] Local rendezvous send item cancelled. Key hash: 7472890618160129498\n",
      "2024-11-14 14:53:49.849062: I tensorflow/core/framework/local_rendezvous.cc:428] Local rendezvous send item cancelled. Key hash: 17036793392484136794\n",
      "2024-11-14 14:53:49.849065: I tensorflow/core/framework/local_rendezvous.cc:428] Local rendezvous send item cancelled. Key hash: 10235588183624701814\n",
      "2024-11-14 14:53:49.849067: I tensorflow/core/framework/local_rendezvous.cc:428] Local rendezvous send item cancelled. Key hash: 14947666519276538088\n",
      "2024-11-14 14:53:49.849070: I tensorflow/core/framework/local_rendezvous.cc:428] Local rendezvous send item cancelled. Key hash: 9978831291104332398\n",
      "2024-11-14 14:53:49.849072: I tensorflow/core/framework/local_rendezvous.cc:428] Local rendezvous send item cancelled. Key hash: 1500456805612943848\n",
      "2024-11-14 14:53:49.849075: I tensorflow/core/framework/local_rendezvous.cc:428] Local rendezvous send item cancelled. Key hash: 11194099802961485407\n",
      "/home/carlos/miniconda3/envs/ml/lib/python3.10/contextlib.py:153: UserWarning: Your input ran out of data; interrupting training. Make sure that your dataset or generator can generate at least `steps_per_epoch * epochs` batches. You may need to use the `.repeat()` function when building your dataset.\n",
      "  self.gen.throw(typ, value, traceback)\n"
     ]
    },
    {
     "name": "stdout",
     "output_type": "stream",
     "text": [
      "\u001b[1m300/300\u001b[0m \u001b[32m━━━━━━━━━━━━━━━━━━━━\u001b[0m\u001b[37m\u001b[0m \u001b[1m173s\u001b[0m 354ms/step - cycle_loss: 6.7634 - disc_X_loss: 0.5850 - disc_Y_loss: 0.6150 - gen_F_loss: 7.9243 - gen_G_loss: 7.8691 - identity_loss: 0.3304\n",
      "Epoch 2/150\n",
      "\u001b[1m296/300\u001b[0m \u001b[32m━━━━━━━━━━━━━━━━━━━\u001b[0m\u001b[37m━\u001b[0m \u001b[1m1s\u001b[0m 352ms/step - cycle_loss: 5.6676 - disc_X_loss: 0.4743 - disc_Y_loss: 0.5648 - gen_F_loss: 7.1401 - gen_G_loss: 6.9005 - identity_loss: 0.2807"
     ]
    },
    {
     "name": "stderr",
     "output_type": "stream",
     "text": [
      "2024-11-14 14:55:36.554350: W tensorflow/core/kernels/data/cache_dataset_ops.cc:914] The calling iterator did not fully read the dataset being cached. In order to avoid unexpected truncation of the dataset, the partially cached contents of the dataset  will be discarded. This can happen if you have an input pipeline similar to `dataset.cache().take(k).repeat()`. You should use `dataset.take(k).cache().repeat()` instead.\n"
     ]
    },
    {
     "name": "stdout",
     "output_type": "stream",
     "text": [
      "\u001b[1m300/300\u001b[0m \u001b[32m━━━━━━━━━━━━━━━━━━━━\u001b[0m\u001b[37m\u001b[0m \u001b[1m108s\u001b[0m 357ms/step - cycle_loss: 5.6627 - disc_X_loss: 0.4751 - disc_Y_loss: 0.5643 - gen_F_loss: 7.1339 - gen_G_loss: 6.8968 - identity_loss: 0.2805\n",
      "Epoch 3/150\n"
     ]
    },
    {
     "name": "stderr",
     "output_type": "stream",
     "text": [
      "2024-11-14 14:55:39.454414: I tensorflow/core/framework/local_rendezvous.cc:428] Local rendezvous send item cancelled. Key hash: 18396010607733563774\n",
      "2024-11-14 14:55:39.454456: I tensorflow/core/framework/local_rendezvous.cc:428] Local rendezvous send item cancelled. Key hash: 11613287781577413998\n",
      "2024-11-14 14:55:39.454460: I tensorflow/core/framework/local_rendezvous.cc:428] Local rendezvous send item cancelled. Key hash: 7472890618160129498\n",
      "2024-11-14 14:55:39.454463: I tensorflow/core/framework/local_rendezvous.cc:428] Local rendezvous send item cancelled. Key hash: 17036793392484136794\n",
      "2024-11-14 14:55:39.454465: I tensorflow/core/framework/local_rendezvous.cc:428] Local rendezvous send item cancelled. Key hash: 10235588183624701814\n",
      "2024-11-14 14:55:39.454467: I tensorflow/core/framework/local_rendezvous.cc:428] Local rendezvous send item cancelled. Key hash: 14947666519276538088\n",
      "2024-11-14 14:55:39.454469: I tensorflow/core/framework/local_rendezvous.cc:428] Local rendezvous send item cancelled. Key hash: 9978831291104332398\n",
      "2024-11-14 14:55:39.454472: I tensorflow/core/framework/local_rendezvous.cc:428] Local rendezvous send item cancelled. Key hash: 1500456805612943848\n",
      "2024-11-14 14:55:39.454474: I tensorflow/core/framework/local_rendezvous.cc:428] Local rendezvous send item cancelled. Key hash: 11194099802961485407\n"
     ]
    },
    {
     "name": "stdout",
     "output_type": "stream",
     "text": [
      "\u001b[1m300/300\u001b[0m \u001b[32m━━━━━━━━━━━━━━━━━━━━\u001b[0m\u001b[37m\u001b[0m \u001b[1m2s\u001b[0m 6ms/step - cycle_loss: 0.0000e+00 - disc_X_loss: 0.0000e+00 - disc_Y_loss: 0.0000e+00 - gen_F_loss: 0.0000e+00 - gen_G_loss: 0.0000e+00 - identity_loss: 0.0000e+00\n",
      "Epoch 4/150\n",
      "\u001b[1m296/300\u001b[0m \u001b[32m━━━━━━━━━━━━━━━━━━━\u001b[0m\u001b[37m━\u001b[0m \u001b[1m1s\u001b[0m 348ms/step - cycle_loss: 4.9419 - disc_X_loss: 0.6276 - disc_Y_loss: 0.5478 - gen_F_loss: 6.0614 - gen_G_loss: 6.2223 - identity_loss: 0.2413"
     ]
    },
    {
     "name": "stderr",
     "output_type": "stream",
     "text": [
      "2024-11-14 14:57:24.612250: W tensorflow/core/kernels/data/cache_dataset_ops.cc:914] The calling iterator did not fully read the dataset being cached. In order to avoid unexpected truncation of the dataset, the partially cached contents of the dataset  will be discarded. This can happen if you have an input pipeline similar to `dataset.cache().take(k).repeat()`. You should use `dataset.take(k).cache().repeat()` instead.\n"
     ]
    },
    {
     "name": "stdout",
     "output_type": "stream",
     "text": [
      "\u001b[1m299/300\u001b[0m \u001b[32m━━━━━━━━━━━━━━━━━━━\u001b[0m\u001b[37m━\u001b[0m \u001b[1m0s\u001b[0m 348ms/step - cycle_loss: 4.9422 - disc_X_loss: 0.6271 - disc_Y_loss: 0.5478 - gen_F_loss: 6.0628 - gen_G_loss: 6.2229 - identity_loss: 0.2413"
     ]
    },
    {
     "name": "stderr",
     "output_type": "stream",
     "text": [
      "2024-11-14 14:57:25.625722: I tensorflow/core/framework/local_rendezvous.cc:405] Local rendezvous is aborting with status: OUT_OF_RANGE: End of sequence\n",
      "\t [[{{node MultiDeviceIteratorGetNextFromShard}}]]\n"
     ]
    },
    {
     "name": "stdout",
     "output_type": "stream",
     "text": [
      "\u001b[1m300/300\u001b[0m \u001b[32m━━━━━━━━━━━━━━━━━━━━\u001b[0m\u001b[37m\u001b[0m \u001b[1m105s\u001b[0m 348ms/step - cycle_loss: 4.9425 - disc_X_loss: 0.6268 - disc_Y_loss: 0.5478 - gen_F_loss: 6.0638 - gen_G_loss: 6.2234 - identity_loss: 0.2413\n",
      "Epoch 5/150\n",
      "\u001b[1m300/300\u001b[0m \u001b[32m━━━━━━━━━━━━━━━━━━━━\u001b[0m\u001b[37m\u001b[0m \u001b[1m0s\u001b[0m 86us/step - cycle_loss: 0.0000e+00 - disc_X_loss: 0.0000e+00 - disc_Y_loss: 0.0000e+00 - gen_F_loss: 0.0000e+00 - gen_G_loss: 0.0000e+00 - identity_loss: 0.0000e+00\n",
      "Epoch 6/150\n"
     ]
    },
    {
     "name": "stderr",
     "output_type": "stream",
     "text": [
      "2024-11-14 14:57:25.960637: I tensorflow/core/framework/local_rendezvous.cc:428] Local rendezvous send item cancelled. Key hash: 18396010607733563774\n",
      "2024-11-14 14:57:25.960693: I tensorflow/core/framework/local_rendezvous.cc:428] Local rendezvous send item cancelled. Key hash: 11613287781577413998\n",
      "2024-11-14 14:57:25.960701: I tensorflow/core/framework/local_rendezvous.cc:428] Local rendezvous send item cancelled. Key hash: 7472890618160129498\n",
      "2024-11-14 14:57:25.960705: I tensorflow/core/framework/local_rendezvous.cc:428] Local rendezvous send item cancelled. Key hash: 17036793392484136794\n",
      "2024-11-14 14:57:25.960709: I tensorflow/core/framework/local_rendezvous.cc:428] Local rendezvous send item cancelled. Key hash: 10235588183624701814\n",
      "2024-11-14 14:57:25.960714: I tensorflow/core/framework/local_rendezvous.cc:428] Local rendezvous send item cancelled. Key hash: 14947666519276538088\n",
      "2024-11-14 14:57:25.960722: I tensorflow/core/framework/local_rendezvous.cc:428] Local rendezvous send item cancelled. Key hash: 9978831291104332398\n",
      "2024-11-14 14:57:25.960726: I tensorflow/core/framework/local_rendezvous.cc:428] Local rendezvous send item cancelled. Key hash: 1500456805612943848\n",
      "2024-11-14 14:57:25.960731: I tensorflow/core/framework/local_rendezvous.cc:428] Local rendezvous send item cancelled. Key hash: 11194099802961485407\n"
     ]
    },
    {
     "name": "stdout",
     "output_type": "stream",
     "text": [
      "\u001b[1m296/300\u001b[0m \u001b[32m━━━━━━━━━━━━━━━━━━━\u001b[0m\u001b[37m━\u001b[0m \u001b[1m1s\u001b[0m 349ms/step - cycle_loss: 4.9663 - disc_X_loss: 0.5469 - disc_Y_loss: 0.6380 - gen_F_loss: 6.2489 - gen_G_loss: 6.1034 - identity_loss: 0.2469"
     ]
    },
    {
     "name": "stderr",
     "output_type": "stream",
     "text": [
      "2024-11-14 14:59:09.535020: W tensorflow/core/kernels/data/cache_dataset_ops.cc:914] The calling iterator did not fully read the dataset being cached. In order to avoid unexpected truncation of the dataset, the partially cached contents of the dataset  will be discarded. This can happen if you have an input pipeline similar to `dataset.cache().take(k).repeat()`. You should use `dataset.take(k).cache().repeat()` instead.\n"
     ]
    },
    {
     "name": "stdout",
     "output_type": "stream",
     "text": [
      "\u001b[1m300/300\u001b[0m \u001b[32m━━━━━━━━━━━━━━━━━━━━\u001b[0m\u001b[37m\u001b[0m \u001b[1m105s\u001b[0m 348ms/step - cycle_loss: 4.9644 - disc_X_loss: 0.5473 - disc_Y_loss: 0.6378 - gen_F_loss: 6.2461 - gen_G_loss: 6.1011 - identity_loss: 0.2468\n",
      "Epoch 7/150\n",
      "\u001b[1m300/300\u001b[0m \u001b[32m━━━━━━━━━━━━━━━━━━━━\u001b[0m\u001b[37m\u001b[0m \u001b[1m0s\u001b[0m 81us/step - cycle_loss: 0.0000e+00 - disc_X_loss: 0.0000e+00 - disc_Y_loss: 0.0000e+00 - gen_F_loss: 0.0000e+00 - gen_G_loss: 0.0000e+00 - identity_loss: 0.0000e+00\n",
      "Epoch 8/150\n"
     ]
    },
    {
     "name": "stderr",
     "output_type": "stream",
     "text": [
      "2024-11-14 14:59:10.849443: I tensorflow/core/framework/local_rendezvous.cc:428] Local rendezvous send item cancelled. Key hash: 18396010607733563774\n",
      "2024-11-14 14:59:10.849505: I tensorflow/core/framework/local_rendezvous.cc:428] Local rendezvous send item cancelled. Key hash: 11613287781577413998\n",
      "2024-11-14 14:59:10.849512: I tensorflow/core/framework/local_rendezvous.cc:428] Local rendezvous send item cancelled. Key hash: 7472890618160129498\n",
      "2024-11-14 14:59:10.849516: I tensorflow/core/framework/local_rendezvous.cc:428] Local rendezvous send item cancelled. Key hash: 17036793392484136794\n",
      "2024-11-14 14:59:10.849520: I tensorflow/core/framework/local_rendezvous.cc:428] Local rendezvous send item cancelled. Key hash: 10235588183624701814\n",
      "2024-11-14 14:59:10.849523: I tensorflow/core/framework/local_rendezvous.cc:428] Local rendezvous send item cancelled. Key hash: 14947666519276538088\n",
      "2024-11-14 14:59:10.849527: I tensorflow/core/framework/local_rendezvous.cc:428] Local rendezvous send item cancelled. Key hash: 9978831291104332398\n",
      "2024-11-14 14:59:10.849531: I tensorflow/core/framework/local_rendezvous.cc:428] Local rendezvous send item cancelled. Key hash: 1500456805612943848\n",
      "2024-11-14 14:59:10.849535: I tensorflow/core/framework/local_rendezvous.cc:428] Local rendezvous send item cancelled. Key hash: 11194099802961485407\n"
     ]
    },
    {
     "name": "stdout",
     "output_type": "stream",
     "text": [
      "\u001b[1m296/300\u001b[0m \u001b[32m━━━━━━━━━━━━━━━━━━━\u001b[0m\u001b[37m━\u001b[0m \u001b[1m1s\u001b[0m 353ms/step - cycle_loss: 4.7610 - disc_X_loss: 0.5410 - disc_Y_loss: 0.6469 - gen_F_loss: 6.0667 - gen_G_loss: 5.8497 - identity_loss: 0.2421"
     ]
    },
    {
     "name": "stderr",
     "output_type": "stream",
     "text": [
      "2024-11-14 15:00:55.611666: W tensorflow/core/kernels/data/cache_dataset_ops.cc:914] The calling iterator did not fully read the dataset being cached. In order to avoid unexpected truncation of the dataset, the partially cached contents of the dataset  will be discarded. This can happen if you have an input pipeline similar to `dataset.cache().take(k).repeat()`. You should use `dataset.take(k).cache().repeat()` instead.\n"
     ]
    },
    {
     "name": "stdout",
     "output_type": "stream",
     "text": [
      "\u001b[1m300/300\u001b[0m \u001b[32m━━━━━━━━━━━━━━━━━━━━\u001b[0m\u001b[37m\u001b[0m \u001b[1m106s\u001b[0m 352ms/step - cycle_loss: 4.7615 - disc_X_loss: 0.5413 - disc_Y_loss: 0.6468 - gen_F_loss: 6.0670 - gen_G_loss: 5.8506 - identity_loss: 0.2422\n",
      "Epoch 9/150\n",
      "\u001b[1m300/300\u001b[0m \u001b[32m━━━━━━━━━━━━━━━━━━━━\u001b[0m\u001b[37m\u001b[0m \u001b[1m0s\u001b[0m 83us/step - cycle_loss: 0.0000e+00 - disc_X_loss: 0.0000e+00 - disc_Y_loss: 0.0000e+00 - gen_F_loss: 0.0000e+00 - gen_G_loss: 0.0000e+00 - identity_loss: 0.0000e+00\n",
      "Epoch 10/150\n"
     ]
    },
    {
     "name": "stderr",
     "output_type": "stream",
     "text": [
      "2024-11-14 15:00:56.886851: I tensorflow/core/framework/local_rendezvous.cc:428] Local rendezvous send item cancelled. Key hash: 18396010607733563774\n",
      "2024-11-14 15:00:56.886897: I tensorflow/core/framework/local_rendezvous.cc:428] Local rendezvous send item cancelled. Key hash: 11613287781577413998\n",
      "2024-11-14 15:00:56.886902: I tensorflow/core/framework/local_rendezvous.cc:428] Local rendezvous send item cancelled. Key hash: 7472890618160129498\n",
      "2024-11-14 15:00:56.886904: I tensorflow/core/framework/local_rendezvous.cc:428] Local rendezvous send item cancelled. Key hash: 17036793392484136794\n",
      "2024-11-14 15:00:56.886907: I tensorflow/core/framework/local_rendezvous.cc:428] Local rendezvous send item cancelled. Key hash: 10235588183624701814\n",
      "2024-11-14 15:00:56.886909: I tensorflow/core/framework/local_rendezvous.cc:428] Local rendezvous send item cancelled. Key hash: 14947666519276538088\n",
      "2024-11-14 15:00:56.886911: I tensorflow/core/framework/local_rendezvous.cc:428] Local rendezvous send item cancelled. Key hash: 9978831291104332398\n",
      "2024-11-14 15:00:56.886914: I tensorflow/core/framework/local_rendezvous.cc:428] Local rendezvous send item cancelled. Key hash: 1500456805612943848\n",
      "2024-11-14 15:00:56.886916: I tensorflow/core/framework/local_rendezvous.cc:428] Local rendezvous send item cancelled. Key hash: 11194099802961485407\n"
     ]
    },
    {
     "name": "stdout",
     "output_type": "stream",
     "text": [
      "\u001b[1m297/300\u001b[0m \u001b[32m━━━━━━━━━━━━━━━━━━━\u001b[0m\u001b[37m━\u001b[0m \u001b[1m1s\u001b[0m 358ms/step - cycle_loss: 4.9642 - disc_X_loss: 0.6015 - disc_Y_loss: 0.6239 - gen_F_loss: 6.1856 - gen_G_loss: 6.1100 - identity_loss: 0.2564"
     ]
    },
    {
     "name": "stderr",
     "output_type": "stream",
     "text": [
      "2024-11-14 15:02:43.549042: W tensorflow/core/kernels/data/cache_dataset_ops.cc:914] The calling iterator did not fully read the dataset being cached. In order to avoid unexpected truncation of the dataset, the partially cached contents of the dataset  will be discarded. This can happen if you have an input pipeline similar to `dataset.cache().take(k).repeat()`. You should use `dataset.take(k).cache().repeat()` instead.\n"
     ]
    },
    {
     "name": "stdout",
     "output_type": "stream",
     "text": [
      "\u001b[1m300/300\u001b[0m \u001b[32m━━━━━━━━━━━━━━━━━━━━\u001b[0m\u001b[37m\u001b[0m \u001b[1m108s\u001b[0m 358ms/step - cycle_loss: 4.9623 - disc_X_loss: 0.6015 - disc_Y_loss: 0.6239 - gen_F_loss: 6.1837 - gen_G_loss: 6.1078 - identity_loss: 0.2563\n",
      "Epoch 11/150\n",
      "\u001b[1m300/300\u001b[0m \u001b[32m━━━━━━━━━━━━━━━━━━━━\u001b[0m\u001b[37m\u001b[0m \u001b[1m0s\u001b[0m 81us/step - cycle_loss: 0.0000e+00 - disc_X_loss: 0.0000e+00 - disc_Y_loss: 0.0000e+00 - gen_F_loss: 0.0000e+00 - gen_G_loss: 0.0000e+00 - identity_loss: 0.0000e+00\n",
      "Epoch 12/150\n"
     ]
    },
    {
     "name": "stderr",
     "output_type": "stream",
     "text": [
      "2024-11-14 15:02:44.548918: I tensorflow/core/framework/local_rendezvous.cc:428] Local rendezvous send item cancelled. Key hash: 18396010607733563774\n",
      "2024-11-14 15:02:44.548960: I tensorflow/core/framework/local_rendezvous.cc:428] Local rendezvous send item cancelled. Key hash: 11613287781577413998\n",
      "2024-11-14 15:02:44.548965: I tensorflow/core/framework/local_rendezvous.cc:428] Local rendezvous send item cancelled. Key hash: 7472890618160129498\n",
      "2024-11-14 15:02:44.548968: I tensorflow/core/framework/local_rendezvous.cc:428] Local rendezvous send item cancelled. Key hash: 17036793392484136794\n",
      "2024-11-14 15:02:44.548971: I tensorflow/core/framework/local_rendezvous.cc:428] Local rendezvous send item cancelled. Key hash: 10235588183624701814\n",
      "2024-11-14 15:02:44.548973: I tensorflow/core/framework/local_rendezvous.cc:428] Local rendezvous send item cancelled. Key hash: 14947666519276538088\n",
      "2024-11-14 15:02:44.548976: I tensorflow/core/framework/local_rendezvous.cc:428] Local rendezvous send item cancelled. Key hash: 9978831291104332398\n",
      "2024-11-14 15:02:44.548978: I tensorflow/core/framework/local_rendezvous.cc:428] Local rendezvous send item cancelled. Key hash: 1500456805612943848\n",
      "2024-11-14 15:02:44.548981: I tensorflow/core/framework/local_rendezvous.cc:428] Local rendezvous send item cancelled. Key hash: 11194099802961485407\n"
     ]
    },
    {
     "name": "stdout",
     "output_type": "stream",
     "text": [
      "\u001b[1m296/300\u001b[0m \u001b[32m━━━━━━━━━━━━━━━━━━━\u001b[0m\u001b[37m━\u001b[0m \u001b[1m1s\u001b[0m 350ms/step - cycle_loss: 4.8242 - disc_X_loss: 0.5606 - disc_Y_loss: 0.6074 - gen_F_loss: 6.1071 - gen_G_loss: 5.9797 - identity_loss: 0.2488"
     ]
    },
    {
     "name": "stderr",
     "output_type": "stream",
     "text": [
      "2024-11-14 15:04:28.491597: W tensorflow/core/kernels/data/cache_dataset_ops.cc:914] The calling iterator did not fully read the dataset being cached. In order to avoid unexpected truncation of the dataset, the partially cached contents of the dataset  will be discarded. This can happen if you have an input pipeline similar to `dataset.cache().take(k).repeat()`. You should use `dataset.take(k).cache().repeat()` instead.\n"
     ]
    },
    {
     "name": "stdout",
     "output_type": "stream",
     "text": [
      "\u001b[1m300/300\u001b[0m \u001b[32m━━━━━━━━━━━━━━━━━━━━\u001b[0m\u001b[37m\u001b[0m \u001b[1m105s\u001b[0m 350ms/step - cycle_loss: 4.8228 - disc_X_loss: 0.5611 - disc_Y_loss: 0.6073 - gen_F_loss: 6.1049 - gen_G_loss: 5.9784 - identity_loss: 0.2488\n",
      "Epoch 13/150\n",
      "\u001b[1m300/300\u001b[0m \u001b[32m━━━━━━━━━━━━━━━━━━━━\u001b[0m\u001b[37m\u001b[0m \u001b[1m0s\u001b[0m 83us/step - cycle_loss: 0.0000e+00 - disc_X_loss: 0.0000e+00 - disc_Y_loss: 0.0000e+00 - gen_F_loss: 0.0000e+00 - gen_G_loss: 0.0000e+00 - identity_loss: 0.0000e+00\n",
      "Epoch 14/150\n"
     ]
    },
    {
     "name": "stderr",
     "output_type": "stream",
     "text": [
      "2024-11-14 15:04:29.808438: I tensorflow/core/framework/local_rendezvous.cc:428] Local rendezvous send item cancelled. Key hash: 18396010607733563774\n",
      "2024-11-14 15:04:29.808495: I tensorflow/core/framework/local_rendezvous.cc:428] Local rendezvous send item cancelled. Key hash: 11613287781577413998\n",
      "2024-11-14 15:04:29.808500: I tensorflow/core/framework/local_rendezvous.cc:428] Local rendezvous send item cancelled. Key hash: 7472890618160129498\n",
      "2024-11-14 15:04:29.808503: I tensorflow/core/framework/local_rendezvous.cc:428] Local rendezvous send item cancelled. Key hash: 17036793392484136794\n",
      "2024-11-14 15:04:29.808505: I tensorflow/core/framework/local_rendezvous.cc:428] Local rendezvous send item cancelled. Key hash: 10235588183624701814\n",
      "2024-11-14 15:04:29.808508: I tensorflow/core/framework/local_rendezvous.cc:428] Local rendezvous send item cancelled. Key hash: 14947666519276538088\n",
      "2024-11-14 15:04:29.808510: I tensorflow/core/framework/local_rendezvous.cc:428] Local rendezvous send item cancelled. Key hash: 9978831291104332398\n",
      "2024-11-14 15:04:29.808512: I tensorflow/core/framework/local_rendezvous.cc:428] Local rendezvous send item cancelled. Key hash: 1500456805612943848\n",
      "2024-11-14 15:04:29.808515: I tensorflow/core/framework/local_rendezvous.cc:428] Local rendezvous send item cancelled. Key hash: 11194099802961485407\n"
     ]
    },
    {
     "name": "stdout",
     "output_type": "stream",
     "text": [
      "\u001b[1m296/300\u001b[0m \u001b[32m━━━━━━━━━━━━━━━━━━━\u001b[0m\u001b[37m━\u001b[0m \u001b[1m1s\u001b[0m 350ms/step - cycle_loss: 4.6057 - disc_X_loss: 0.6353 - disc_Y_loss: 0.5614 - gen_F_loss: 5.7490 - gen_G_loss: 5.8457 - identity_loss: 0.2398"
     ]
    },
    {
     "name": "stderr",
     "output_type": "stream",
     "text": [
      "2024-11-14 15:06:13.735195: W tensorflow/core/kernels/data/cache_dataset_ops.cc:914] The calling iterator did not fully read the dataset being cached. In order to avoid unexpected truncation of the dataset, the partially cached contents of the dataset  will be discarded. This can happen if you have an input pipeline similar to `dataset.cache().take(k).repeat()`. You should use `dataset.take(k).cache().repeat()` instead.\n"
     ]
    },
    {
     "name": "stdout",
     "output_type": "stream",
     "text": [
      "\u001b[1m300/300\u001b[0m \u001b[32m━━━━━━━━━━━━━━━━━━━━\u001b[0m\u001b[37m\u001b[0m \u001b[1m105s\u001b[0m 350ms/step - cycle_loss: 4.6055 - disc_X_loss: 0.6352 - disc_Y_loss: 0.5615 - gen_F_loss: 5.7490 - gen_G_loss: 5.8453 - identity_loss: 0.2398\n",
      "Epoch 15/150\n",
      "\u001b[1m300/300\u001b[0m \u001b[32m━━━━━━━━━━━━━━━━━━━━\u001b[0m\u001b[37m\u001b[0m \u001b[1m0s\u001b[0m 84us/step - cycle_loss: 0.0000e+00 - disc_X_loss: 0.0000e+00 - disc_Y_loss: 0.0000e+00 - gen_F_loss: 0.0000e+00 - gen_G_loss: 0.0000e+00 - identity_loss: 0.0000e+00\n",
      "Epoch 16/150\n"
     ]
    },
    {
     "name": "stderr",
     "output_type": "stream",
     "text": [
      "2024-11-14 15:06:15.056286: I tensorflow/core/framework/local_rendezvous.cc:428] Local rendezvous send item cancelled. Key hash: 18396010607733563774\n",
      "2024-11-14 15:06:15.056330: I tensorflow/core/framework/local_rendezvous.cc:428] Local rendezvous send item cancelled. Key hash: 11613287781577413998\n",
      "2024-11-14 15:06:15.056335: I tensorflow/core/framework/local_rendezvous.cc:428] Local rendezvous send item cancelled. Key hash: 7472890618160129498\n",
      "2024-11-14 15:06:15.056338: I tensorflow/core/framework/local_rendezvous.cc:428] Local rendezvous send item cancelled. Key hash: 17036793392484136794\n",
      "2024-11-14 15:06:15.056340: I tensorflow/core/framework/local_rendezvous.cc:428] Local rendezvous send item cancelled. Key hash: 10235588183624701814\n",
      "2024-11-14 15:06:15.056343: I tensorflow/core/framework/local_rendezvous.cc:428] Local rendezvous send item cancelled. Key hash: 14947666519276538088\n",
      "2024-11-14 15:06:15.056345: I tensorflow/core/framework/local_rendezvous.cc:428] Local rendezvous send item cancelled. Key hash: 9978831291104332398\n",
      "2024-11-14 15:06:15.056348: I tensorflow/core/framework/local_rendezvous.cc:428] Local rendezvous send item cancelled. Key hash: 1500456805612943848\n",
      "2024-11-14 15:06:15.056351: I tensorflow/core/framework/local_rendezvous.cc:428] Local rendezvous send item cancelled. Key hash: 11194099802961485407\n"
     ]
    },
    {
     "name": "stdout",
     "output_type": "stream",
     "text": [
      "\u001b[1m296/300\u001b[0m \u001b[32m━━━━━━━━━━━━━━━━━━━\u001b[0m\u001b[37m━\u001b[0m \u001b[1m1s\u001b[0m 352ms/step - cycle_loss: 4.6500 - disc_X_loss: 0.6774 - disc_Y_loss: 0.5241 - gen_F_loss: 5.7017 - gen_G_loss: 5.9659 - identity_loss: 0.2455"
     ]
    },
    {
     "name": "stderr",
     "output_type": "stream",
     "text": [
      "2024-11-14 15:07:59.497312: W tensorflow/core/kernels/data/cache_dataset_ops.cc:914] The calling iterator did not fully read the dataset being cached. In order to avoid unexpected truncation of the dataset, the partially cached contents of the dataset  will be discarded. This can happen if you have an input pipeline similar to `dataset.cache().take(k).repeat()`. You should use `dataset.take(k).cache().repeat()` instead.\n"
     ]
    },
    {
     "name": "stdout",
     "output_type": "stream",
     "text": [
      "\u001b[1m300/300\u001b[0m \u001b[32m━━━━━━━━━━━━━━━━━━━━\u001b[0m\u001b[37m\u001b[0m \u001b[1m106s\u001b[0m 351ms/step - cycle_loss: 4.6481 - disc_X_loss: 0.6768 - disc_Y_loss: 0.5241 - gen_F_loss: 5.7002 - gen_G_loss: 5.9641 - identity_loss: 0.2455\n",
      "Epoch 17/150\n",
      "\u001b[1m300/300\u001b[0m \u001b[32m━━━━━━━━━━━━━━━━━━━━\u001b[0m\u001b[37m\u001b[0m \u001b[1m0s\u001b[0m 83us/step - cycle_loss: 0.0000e+00 - disc_X_loss: 0.0000e+00 - disc_Y_loss: 0.0000e+00 - gen_F_loss: 0.0000e+00 - gen_G_loss: 0.0000e+00 - identity_loss: 0.0000e+00\n",
      "Epoch 18/150\n"
     ]
    },
    {
     "name": "stderr",
     "output_type": "stream",
     "text": [
      "2024-11-14 15:08:00.800825: I tensorflow/core/framework/local_rendezvous.cc:428] Local rendezvous send item cancelled. Key hash: 18396010607733563774\n",
      "2024-11-14 15:08:00.800870: I tensorflow/core/framework/local_rendezvous.cc:428] Local rendezvous send item cancelled. Key hash: 11613287781577413998\n",
      "2024-11-14 15:08:00.800875: I tensorflow/core/framework/local_rendezvous.cc:428] Local rendezvous send item cancelled. Key hash: 7472890618160129498\n",
      "2024-11-14 15:08:00.800878: I tensorflow/core/framework/local_rendezvous.cc:428] Local rendezvous send item cancelled. Key hash: 17036793392484136794\n",
      "2024-11-14 15:08:00.800880: I tensorflow/core/framework/local_rendezvous.cc:428] Local rendezvous send item cancelled. Key hash: 10235588183624701814\n",
      "2024-11-14 15:08:00.800883: I tensorflow/core/framework/local_rendezvous.cc:428] Local rendezvous send item cancelled. Key hash: 14947666519276538088\n",
      "2024-11-14 15:08:00.800885: I tensorflow/core/framework/local_rendezvous.cc:428] Local rendezvous send item cancelled. Key hash: 9978831291104332398\n",
      "2024-11-14 15:08:00.800887: I tensorflow/core/framework/local_rendezvous.cc:428] Local rendezvous send item cancelled. Key hash: 1500456805612943848\n",
      "2024-11-14 15:08:00.800890: I tensorflow/core/framework/local_rendezvous.cc:428] Local rendezvous send item cancelled. Key hash: 11194099802961485407\n"
     ]
    },
    {
     "name": "stdout",
     "output_type": "stream",
     "text": [
      "\u001b[1m296/300\u001b[0m \u001b[32m━━━━━━━━━━━━━━━━━━━\u001b[0m\u001b[37m━\u001b[0m \u001b[1m1s\u001b[0m 354ms/step - cycle_loss: 4.4218 - disc_X_loss: 0.6554 - disc_Y_loss: 0.5341 - gen_F_loss: 5.5456 - gen_G_loss: 5.7455 - identity_loss: 0.2358"
     ]
    },
    {
     "name": "stderr",
     "output_type": "stream",
     "text": [
      "2024-11-14 15:09:45.848116: W tensorflow/core/kernels/data/cache_dataset_ops.cc:914] The calling iterator did not fully read the dataset being cached. In order to avoid unexpected truncation of the dataset, the partially cached contents of the dataset  will be discarded. This can happen if you have an input pipeline similar to `dataset.cache().take(k).repeat()`. You should use `dataset.take(k).cache().repeat()` instead.\n"
     ]
    },
    {
     "name": "stdout",
     "output_type": "stream",
     "text": [
      "\u001b[1m300/300\u001b[0m \u001b[32m━━━━━━━━━━━━━━━━━━━━\u001b[0m\u001b[37m\u001b[0m \u001b[1m106s\u001b[0m 353ms/step - cycle_loss: 4.4213 - disc_X_loss: 0.6553 - disc_Y_loss: 0.5343 - gen_F_loss: 5.5446 - gen_G_loss: 5.7448 - identity_loss: 0.2358\n",
      "Epoch 19/150\n",
      "\u001b[1m300/300\u001b[0m \u001b[32m━━━━━━━━━━━━━━━━━━━━\u001b[0m\u001b[37m\u001b[0m \u001b[1m0s\u001b[0m 91us/step - cycle_loss: 0.0000e+00 - disc_X_loss: 0.0000e+00 - disc_Y_loss: 0.0000e+00 - gen_F_loss: 0.0000e+00 - gen_G_loss: 0.0000e+00 - identity_loss: 0.0000e+00\n",
      "Epoch 20/150\n"
     ]
    },
    {
     "name": "stderr",
     "output_type": "stream",
     "text": [
      "2024-11-14 15:09:47.170399: I tensorflow/core/framework/local_rendezvous.cc:428] Local rendezvous send item cancelled. Key hash: 18396010607733563774\n",
      "2024-11-14 15:09:47.170451: I tensorflow/core/framework/local_rendezvous.cc:428] Local rendezvous send item cancelled. Key hash: 11613287781577413998\n",
      "2024-11-14 15:09:47.170458: I tensorflow/core/framework/local_rendezvous.cc:428] Local rendezvous send item cancelled. Key hash: 7472890618160129498\n",
      "2024-11-14 15:09:47.170462: I tensorflow/core/framework/local_rendezvous.cc:428] Local rendezvous send item cancelled. Key hash: 17036793392484136794\n",
      "2024-11-14 15:09:47.170466: I tensorflow/core/framework/local_rendezvous.cc:428] Local rendezvous send item cancelled. Key hash: 10235588183624701814\n",
      "2024-11-14 15:09:47.170470: I tensorflow/core/framework/local_rendezvous.cc:428] Local rendezvous send item cancelled. Key hash: 14947666519276538088\n",
      "2024-11-14 15:09:47.170472: I tensorflow/core/framework/local_rendezvous.cc:428] Local rendezvous send item cancelled. Key hash: 9978831291104332398\n",
      "2024-11-14 15:09:47.170475: I tensorflow/core/framework/local_rendezvous.cc:428] Local rendezvous send item cancelled. Key hash: 1500456805612943848\n",
      "2024-11-14 15:09:47.170478: I tensorflow/core/framework/local_rendezvous.cc:428] Local rendezvous send item cancelled. Key hash: 11194099802961485407\n"
     ]
    },
    {
     "name": "stdout",
     "output_type": "stream",
     "text": [
      "\u001b[1m297/300\u001b[0m \u001b[32m━━━━━━━━━━━━━━━━━━━\u001b[0m\u001b[37m━\u001b[0m \u001b[1m1s\u001b[0m 357ms/step - cycle_loss: 4.2284 - disc_X_loss: 0.6479 - disc_Y_loss: 0.5234 - gen_F_loss: 5.2947 - gen_G_loss: 5.5541 - identity_loss: 0.2266"
     ]
    },
    {
     "name": "stderr",
     "output_type": "stream",
     "text": [
      "2024-11-14 15:11:33.690154: W tensorflow/core/kernels/data/cache_dataset_ops.cc:914] The calling iterator did not fully read the dataset being cached. In order to avoid unexpected truncation of the dataset, the partially cached contents of the dataset  will be discarded. This can happen if you have an input pipeline similar to `dataset.cache().take(k).repeat()`. You should use `dataset.take(k).cache().repeat()` instead.\n"
     ]
    },
    {
     "name": "stdout",
     "output_type": "stream",
     "text": [
      "\u001b[1m300/300\u001b[0m \u001b[32m━━━━━━━━━━━━━━━━━━━━\u001b[0m\u001b[37m\u001b[0m \u001b[1m107s\u001b[0m 357ms/step - cycle_loss: 4.2294 - disc_X_loss: 0.6480 - disc_Y_loss: 0.5236 - gen_F_loss: 5.2957 - gen_G_loss: 5.5548 - identity_loss: 0.2267\n",
      "Epoch 21/150\n",
      "\u001b[1m300/300\u001b[0m \u001b[32m━━━━━━━━━━━━━━━━━━━━\u001b[0m\u001b[37m\u001b[0m \u001b[1m0s\u001b[0m 87us/step - cycle_loss: 0.0000e+00 - disc_X_loss: 0.0000e+00 - disc_Y_loss: 0.0000e+00 - gen_F_loss: 0.0000e+00 - gen_G_loss: 0.0000e+00 - identity_loss: 0.0000e+00\n",
      "Epoch 22/150\n"
     ]
    },
    {
     "name": "stderr",
     "output_type": "stream",
     "text": [
      "2024-11-14 15:11:34.657908: I tensorflow/core/framework/local_rendezvous.cc:428] Local rendezvous send item cancelled. Key hash: 18396010607733563774\n",
      "2024-11-14 15:11:34.657961: I tensorflow/core/framework/local_rendezvous.cc:428] Local rendezvous send item cancelled. Key hash: 11613287781577413998\n",
      "2024-11-14 15:11:34.657966: I tensorflow/core/framework/local_rendezvous.cc:428] Local rendezvous send item cancelled. Key hash: 7472890618160129498\n",
      "2024-11-14 15:11:34.657969: I tensorflow/core/framework/local_rendezvous.cc:428] Local rendezvous send item cancelled. Key hash: 17036793392484136794\n",
      "2024-11-14 15:11:34.657971: I tensorflow/core/framework/local_rendezvous.cc:428] Local rendezvous send item cancelled. Key hash: 10235588183624701814\n",
      "2024-11-14 15:11:34.657974: I tensorflow/core/framework/local_rendezvous.cc:428] Local rendezvous send item cancelled. Key hash: 14947666519276538088\n",
      "2024-11-14 15:11:34.657976: I tensorflow/core/framework/local_rendezvous.cc:428] Local rendezvous send item cancelled. Key hash: 9978831291104332398\n",
      "2024-11-14 15:11:34.657979: I tensorflow/core/framework/local_rendezvous.cc:428] Local rendezvous send item cancelled. Key hash: 1500456805612943848\n",
      "2024-11-14 15:11:34.657983: I tensorflow/core/framework/local_rendezvous.cc:428] Local rendezvous send item cancelled. Key hash: 11194099802961485407\n"
     ]
    },
    {
     "name": "stdout",
     "output_type": "stream",
     "text": [
      "\u001b[1m296/300\u001b[0m \u001b[32m━━━━━━━━━━━━━━━━━━━\u001b[0m\u001b[37m━\u001b[0m \u001b[1m1s\u001b[0m 352ms/step - cycle_loss: 4.2469 - disc_X_loss: 0.6616 - disc_Y_loss: 0.5483 - gen_F_loss: 5.2985 - gen_G_loss: 5.5438 - identity_loss: 0.2294"
     ]
    },
    {
     "name": "stderr",
     "output_type": "stream",
     "text": [
      "2024-11-14 15:13:19.042083: W tensorflow/core/kernels/data/cache_dataset_ops.cc:914] The calling iterator did not fully read the dataset being cached. In order to avoid unexpected truncation of the dataset, the partially cached contents of the dataset  will be discarded. This can happen if you have an input pipeline similar to `dataset.cache().take(k).repeat()`. You should use `dataset.take(k).cache().repeat()` instead.\n"
     ]
    },
    {
     "name": "stdout",
     "output_type": "stream",
     "text": [
      "\u001b[1m300/300\u001b[0m \u001b[32m━━━━━━━━━━━━━━━━━━━━\u001b[0m\u001b[37m\u001b[0m \u001b[1m106s\u001b[0m 351ms/step - cycle_loss: 4.2462 - disc_X_loss: 0.6613 - disc_Y_loss: 0.5485 - gen_F_loss: 5.2978 - gen_G_loss: 5.5427 - identity_loss: 0.2295\n",
      "Epoch 23/150\n",
      "\u001b[1m300/300\u001b[0m \u001b[32m━━━━━━━━━━━━━━━━━━━━\u001b[0m\u001b[37m\u001b[0m \u001b[1m0s\u001b[0m 85us/step - cycle_loss: 0.0000e+00 - disc_X_loss: 0.0000e+00 - disc_Y_loss: 0.0000e+00 - gen_F_loss: 0.0000e+00 - gen_G_loss: 0.0000e+00 - identity_loss: 0.0000e+00\n",
      "Epoch 24/150\n"
     ]
    },
    {
     "name": "stderr",
     "output_type": "stream",
     "text": [
      "2024-11-14 15:13:20.338946: I tensorflow/core/framework/local_rendezvous.cc:428] Local rendezvous send item cancelled. Key hash: 18396010607733563774\n",
      "2024-11-14 15:13:20.339004: I tensorflow/core/framework/local_rendezvous.cc:428] Local rendezvous send item cancelled. Key hash: 11613287781577413998\n",
      "2024-11-14 15:13:20.339010: I tensorflow/core/framework/local_rendezvous.cc:428] Local rendezvous send item cancelled. Key hash: 7472890618160129498\n",
      "2024-11-14 15:13:20.339012: I tensorflow/core/framework/local_rendezvous.cc:428] Local rendezvous send item cancelled. Key hash: 17036793392484136794\n",
      "2024-11-14 15:13:20.339014: I tensorflow/core/framework/local_rendezvous.cc:428] Local rendezvous send item cancelled. Key hash: 10235588183624701814\n",
      "2024-11-14 15:13:20.339017: I tensorflow/core/framework/local_rendezvous.cc:428] Local rendezvous send item cancelled. Key hash: 14947666519276538088\n",
      "2024-11-14 15:13:20.339019: I tensorflow/core/framework/local_rendezvous.cc:428] Local rendezvous send item cancelled. Key hash: 9978831291104332398\n",
      "2024-11-14 15:13:20.339021: I tensorflow/core/framework/local_rendezvous.cc:428] Local rendezvous send item cancelled. Key hash: 1500456805612943848\n",
      "2024-11-14 15:13:20.339030: I tensorflow/core/framework/local_rendezvous.cc:428] Local rendezvous send item cancelled. Key hash: 11194099802961485407\n"
     ]
    },
    {
     "name": "stdout",
     "output_type": "stream",
     "text": [
      "\u001b[1m296/300\u001b[0m \u001b[32m━━━━━━━━━━━━━━━━━━━\u001b[0m\u001b[37m━\u001b[0m \u001b[1m1s\u001b[0m 353ms/step - cycle_loss: 4.2803 - disc_X_loss: 0.6414 - disc_Y_loss: 0.5513 - gen_F_loss: 5.3380 - gen_G_loss: 5.5584 - identity_loss: 0.2340"
     ]
    },
    {
     "name": "stderr",
     "output_type": "stream",
     "text": [
      "2024-11-14 15:15:05.286524: W tensorflow/core/kernels/data/cache_dataset_ops.cc:914] The calling iterator did not fully read the dataset being cached. In order to avoid unexpected truncation of the dataset, the partially cached contents of the dataset  will be discarded. This can happen if you have an input pipeline similar to `dataset.cache().take(k).repeat()`. You should use `dataset.take(k).cache().repeat()` instead.\n"
     ]
    },
    {
     "name": "stdout",
     "output_type": "stream",
     "text": [
      "\u001b[1m300/300\u001b[0m \u001b[32m━━━━━━━━━━━━━━━━━━━━\u001b[0m\u001b[37m\u001b[0m \u001b[1m106s\u001b[0m 353ms/step - cycle_loss: 4.2775 - disc_X_loss: 0.6415 - disc_Y_loss: 0.5513 - gen_F_loss: 5.3352 - gen_G_loss: 5.5555 - identity_loss: 0.2339\n",
      "Epoch 25/150\n",
      "\u001b[1m300/300\u001b[0m \u001b[32m━━━━━━━━━━━━━━━━━━━━\u001b[0m\u001b[37m\u001b[0m \u001b[1m0s\u001b[0m 90us/step - cycle_loss: 0.0000e+00 - disc_X_loss: 0.0000e+00 - disc_Y_loss: 0.0000e+00 - gen_F_loss: 0.0000e+00 - gen_G_loss: 0.0000e+00 - identity_loss: 0.0000e+00\n",
      "Epoch 26/150\n"
     ]
    },
    {
     "name": "stderr",
     "output_type": "stream",
     "text": [
      "2024-11-14 15:15:06.589588: I tensorflow/core/framework/local_rendezvous.cc:405] Local rendezvous is aborting with status: OUT_OF_RANGE: End of sequence\n",
      "\t [[{{function_node cond_false_11538}}{{node cond/IteratorGetNext}}]]\n",
      "2024-11-14 15:15:06.589666: I tensorflow/core/framework/local_rendezvous.cc:428] Local rendezvous send item cancelled. Key hash: 18396010607733563774\n",
      "2024-11-14 15:15:06.589672: I tensorflow/core/framework/local_rendezvous.cc:428] Local rendezvous send item cancelled. Key hash: 11613287781577413998\n",
      "2024-11-14 15:15:06.589677: I tensorflow/core/framework/local_rendezvous.cc:428] Local rendezvous send item cancelled. Key hash: 7472890618160129498\n",
      "2024-11-14 15:15:06.589681: I tensorflow/core/framework/local_rendezvous.cc:428] Local rendezvous send item cancelled. Key hash: 17036793392484136794\n",
      "2024-11-14 15:15:06.589685: I tensorflow/core/framework/local_rendezvous.cc:428] Local rendezvous send item cancelled. Key hash: 10235588183624701814\n",
      "2024-11-14 15:15:06.589689: I tensorflow/core/framework/local_rendezvous.cc:428] Local rendezvous send item cancelled. Key hash: 14947666519276538088\n",
      "2024-11-14 15:15:06.589693: I tensorflow/core/framework/local_rendezvous.cc:428] Local rendezvous send item cancelled. Key hash: 9978831291104332398\n",
      "2024-11-14 15:15:06.589697: I tensorflow/core/framework/local_rendezvous.cc:428] Local rendezvous send item cancelled. Key hash: 1500456805612943848\n",
      "2024-11-14 15:15:06.589702: I tensorflow/core/framework/local_rendezvous.cc:428] Local rendezvous send item cancelled. Key hash: 11194099802961485407\n"
     ]
    },
    {
     "name": "stdout",
     "output_type": "stream",
     "text": [
      "\u001b[1m296/300\u001b[0m \u001b[32m━━━━━━━━━━━━━━━━━━━\u001b[0m\u001b[37m━\u001b[0m \u001b[1m1s\u001b[0m 355ms/step - cycle_loss: 4.0442 - disc_X_loss: 0.6392 - disc_Y_loss: 0.5688 - gen_F_loss: 5.0823 - gen_G_loss: 5.2969 - identity_loss: 0.2201"
     ]
    },
    {
     "name": "stderr",
     "output_type": "stream",
     "text": [
      "2024-11-14 15:16:51.926903: W tensorflow/core/kernels/data/cache_dataset_ops.cc:914] The calling iterator did not fully read the dataset being cached. In order to avoid unexpected truncation of the dataset, the partially cached contents of the dataset  will be discarded. This can happen if you have an input pipeline similar to `dataset.cache().take(k).repeat()`. You should use `dataset.take(k).cache().repeat()` instead.\n"
     ]
    },
    {
     "name": "stdout",
     "output_type": "stream",
     "text": [
      "\u001b[1m300/300\u001b[0m \u001b[32m━━━━━━━━━━━━━━━━━━━━\u001b[0m\u001b[37m\u001b[0m \u001b[1m107s\u001b[0m 354ms/step - cycle_loss: 4.0428 - disc_X_loss: 0.6392 - disc_Y_loss: 0.5688 - gen_F_loss: 5.0813 - gen_G_loss: 5.2955 - identity_loss: 0.2202\n",
      "Epoch 27/150\n",
      "\u001b[1m300/300\u001b[0m \u001b[32m━━━━━━━━━━━━━━━━━━━━\u001b[0m\u001b[37m\u001b[0m \u001b[1m0s\u001b[0m 82us/step - cycle_loss: 0.0000e+00 - disc_X_loss: 0.0000e+00 - disc_Y_loss: 0.0000e+00 - gen_F_loss: 0.0000e+00 - gen_G_loss: 0.0000e+00 - identity_loss: 0.0000e+00\n",
      "Epoch 28/150\n"
     ]
    },
    {
     "name": "stderr",
     "output_type": "stream",
     "text": [
      "2024-11-14 15:16:53.229552: I tensorflow/core/framework/local_rendezvous.cc:428] Local rendezvous send item cancelled. Key hash: 18396010607733563774\n",
      "2024-11-14 15:16:53.229602: I tensorflow/core/framework/local_rendezvous.cc:428] Local rendezvous send item cancelled. Key hash: 11613287781577413998\n",
      "2024-11-14 15:16:53.229607: I tensorflow/core/framework/local_rendezvous.cc:428] Local rendezvous send item cancelled. Key hash: 7472890618160129498\n",
      "2024-11-14 15:16:53.229611: I tensorflow/core/framework/local_rendezvous.cc:428] Local rendezvous send item cancelled. Key hash: 17036793392484136794\n",
      "2024-11-14 15:16:53.229613: I tensorflow/core/framework/local_rendezvous.cc:428] Local rendezvous send item cancelled. Key hash: 10235588183624701814\n",
      "2024-11-14 15:16:53.229616: I tensorflow/core/framework/local_rendezvous.cc:428] Local rendezvous send item cancelled. Key hash: 14947666519276538088\n",
      "2024-11-14 15:16:53.229618: I tensorflow/core/framework/local_rendezvous.cc:428] Local rendezvous send item cancelled. Key hash: 9978831291104332398\n",
      "2024-11-14 15:16:53.229620: I tensorflow/core/framework/local_rendezvous.cc:428] Local rendezvous send item cancelled. Key hash: 1500456805612943848\n",
      "2024-11-14 15:16:53.229623: I tensorflow/core/framework/local_rendezvous.cc:428] Local rendezvous send item cancelled. Key hash: 11194099802961485407\n"
     ]
    },
    {
     "name": "stdout",
     "output_type": "stream",
     "text": [
      "\u001b[1m296/300\u001b[0m \u001b[32m━━━━━━━━━━━━━━━━━━━\u001b[0m\u001b[37m━\u001b[0m \u001b[1m1s\u001b[0m 353ms/step - cycle_loss: 3.9646 - disc_X_loss: 0.6217 - disc_Y_loss: 0.5717 - gen_F_loss: 5.0283 - gen_G_loss: 5.1881 - identity_loss: 0.2221"
     ]
    },
    {
     "name": "stderr",
     "output_type": "stream",
     "text": [
      "2024-11-14 15:18:37.936683: W tensorflow/core/kernels/data/cache_dataset_ops.cc:914] The calling iterator did not fully read the dataset being cached. In order to avoid unexpected truncation of the dataset, the partially cached contents of the dataset  will be discarded. This can happen if you have an input pipeline similar to `dataset.cache().take(k).repeat()`. You should use `dataset.take(k).cache().repeat()` instead.\n"
     ]
    },
    {
     "name": "stdout",
     "output_type": "stream",
     "text": [
      "\u001b[1m300/300\u001b[0m \u001b[32m━━━━━━━━━━━━━━━━━━━━\u001b[0m\u001b[37m\u001b[0m \u001b[1m106s\u001b[0m 352ms/step - cycle_loss: 3.9629 - disc_X_loss: 0.6219 - disc_Y_loss: 0.5719 - gen_F_loss: 5.0266 - gen_G_loss: 5.1860 - identity_loss: 0.2221\n",
      "Epoch 29/150\n",
      "\u001b[1m300/300\u001b[0m \u001b[32m━━━━━━━━━━━━━━━━━━━━\u001b[0m\u001b[37m\u001b[0m \u001b[1m0s\u001b[0m 74us/step - cycle_loss: 0.0000e+00 - disc_X_loss: 0.0000e+00 - disc_Y_loss: 0.0000e+00 - gen_F_loss: 0.0000e+00 - gen_G_loss: 0.0000e+00 - identity_loss: 0.0000e+00\n",
      "Epoch 30/150\n"
     ]
    },
    {
     "name": "stderr",
     "output_type": "stream",
     "text": [
      "2024-11-14 15:18:39.269250: I tensorflow/core/framework/local_rendezvous.cc:428] Local rendezvous send item cancelled. Key hash: 18396010607733563774\n",
      "2024-11-14 15:18:39.269293: I tensorflow/core/framework/local_rendezvous.cc:428] Local rendezvous send item cancelled. Key hash: 11613287781577413998\n",
      "2024-11-14 15:18:39.269299: I tensorflow/core/framework/local_rendezvous.cc:428] Local rendezvous send item cancelled. Key hash: 7472890618160129498\n",
      "2024-11-14 15:18:39.269301: I tensorflow/core/framework/local_rendezvous.cc:428] Local rendezvous send item cancelled. Key hash: 17036793392484136794\n",
      "2024-11-14 15:18:39.269304: I tensorflow/core/framework/local_rendezvous.cc:428] Local rendezvous send item cancelled. Key hash: 10235588183624701814\n",
      "2024-11-14 15:18:39.269306: I tensorflow/core/framework/local_rendezvous.cc:428] Local rendezvous send item cancelled. Key hash: 14947666519276538088\n",
      "2024-11-14 15:18:39.269308: I tensorflow/core/framework/local_rendezvous.cc:428] Local rendezvous send item cancelled. Key hash: 9978831291104332398\n",
      "2024-11-14 15:18:39.269310: I tensorflow/core/framework/local_rendezvous.cc:428] Local rendezvous send item cancelled. Key hash: 1500456805612943848\n",
      "2024-11-14 15:18:39.269313: I tensorflow/core/framework/local_rendezvous.cc:428] Local rendezvous send item cancelled. Key hash: 11194099802961485407\n"
     ]
    },
    {
     "name": "stdout",
     "output_type": "stream",
     "text": [
      "\u001b[1m297/300\u001b[0m \u001b[32m━━━━━━━━━━━━━━━━━━━\u001b[0m\u001b[37m━\u001b[0m \u001b[1m1s\u001b[0m 351ms/step - cycle_loss: 3.7322 - disc_X_loss: 0.6430 - disc_Y_loss: 0.5543 - gen_F_loss: 4.7765 - gen_G_loss: 4.9839 - identity_loss: 0.2170"
     ]
    },
    {
     "name": "stderr",
     "output_type": "stream",
     "text": [
      "2024-11-14 15:20:23.793969: W tensorflow/core/kernels/data/cache_dataset_ops.cc:914] The calling iterator did not fully read the dataset being cached. In order to avoid unexpected truncation of the dataset, the partially cached contents of the dataset  will be discarded. This can happen if you have an input pipeline similar to `dataset.cache().take(k).repeat()`. You should use `dataset.take(k).cache().repeat()` instead.\n"
     ]
    },
    {
     "name": "stdout",
     "output_type": "stream",
     "text": [
      "\u001b[1m300/300\u001b[0m \u001b[32m━━━━━━━━━━━━━━━━━━━━\u001b[0m\u001b[37m\u001b[0m \u001b[1m105s\u001b[0m 350ms/step - cycle_loss: 3.7323 - disc_X_loss: 0.6430 - disc_Y_loss: 0.5546 - gen_F_loss: 4.7768 - gen_G_loss: 4.9836 - identity_loss: 0.2170\n",
      "Epoch 31/150\n",
      "\u001b[1m300/300\u001b[0m \u001b[32m━━━━━━━━━━━━━━━━━━━━\u001b[0m\u001b[37m\u001b[0m \u001b[1m0s\u001b[0m 80us/step - cycle_loss: 0.0000e+00 - disc_X_loss: 0.0000e+00 - disc_Y_loss: 0.0000e+00 - gen_F_loss: 0.0000e+00 - gen_G_loss: 0.0000e+00 - identity_loss: 0.0000e+00\n",
      "Epoch 32/150\n"
     ]
    },
    {
     "name": "stderr",
     "output_type": "stream",
     "text": [
      "2024-11-14 15:20:24.764537: I tensorflow/core/framework/local_rendezvous.cc:428] Local rendezvous send item cancelled. Key hash: 18396010607733563774\n",
      "2024-11-14 15:20:24.764588: I tensorflow/core/framework/local_rendezvous.cc:428] Local rendezvous send item cancelled. Key hash: 11613287781577413998\n",
      "2024-11-14 15:20:24.764593: I tensorflow/core/framework/local_rendezvous.cc:428] Local rendezvous send item cancelled. Key hash: 7472890618160129498\n",
      "2024-11-14 15:20:24.764595: I tensorflow/core/framework/local_rendezvous.cc:428] Local rendezvous send item cancelled. Key hash: 17036793392484136794\n",
      "2024-11-14 15:20:24.764598: I tensorflow/core/framework/local_rendezvous.cc:428] Local rendezvous send item cancelled. Key hash: 10235588183624701814\n",
      "2024-11-14 15:20:24.764600: I tensorflow/core/framework/local_rendezvous.cc:428] Local rendezvous send item cancelled. Key hash: 14947666519276538088\n",
      "2024-11-14 15:20:24.764603: I tensorflow/core/framework/local_rendezvous.cc:428] Local rendezvous send item cancelled. Key hash: 9978831291104332398\n",
      "2024-11-14 15:20:24.764605: I tensorflow/core/framework/local_rendezvous.cc:428] Local rendezvous send item cancelled. Key hash: 1500456805612943848\n",
      "2024-11-14 15:20:24.764608: I tensorflow/core/framework/local_rendezvous.cc:428] Local rendezvous send item cancelled. Key hash: 11194099802961485407\n"
     ]
    },
    {
     "name": "stdout",
     "output_type": "stream",
     "text": [
      "\u001b[1m296/300\u001b[0m \u001b[32m━━━━━━━━━━━━━━━━━━━\u001b[0m\u001b[37m━\u001b[0m \u001b[1m1s\u001b[0m 352ms/step - cycle_loss: 3.9593 - disc_X_loss: 0.6320 - disc_Y_loss: 0.5522 - gen_F_loss: 5.0599 - gen_G_loss: 5.2164 - identity_loss: 0.2315"
     ]
    },
    {
     "name": "stderr",
     "output_type": "stream",
     "text": [
      "2024-11-14 15:22:09.356684: W tensorflow/core/kernels/data/cache_dataset_ops.cc:914] The calling iterator did not fully read the dataset being cached. In order to avoid unexpected truncation of the dataset, the partially cached contents of the dataset  will be discarded. This can happen if you have an input pipeline similar to `dataset.cache().take(k).repeat()`. You should use `dataset.take(k).cache().repeat()` instead.\n"
     ]
    },
    {
     "name": "stdout",
     "output_type": "stream",
     "text": [
      "\u001b[1m300/300\u001b[0m \u001b[32m━━━━━━━━━━━━━━━━━━━━\u001b[0m\u001b[37m\u001b[0m \u001b[1m106s\u001b[0m 352ms/step - cycle_loss: 3.9569 - disc_X_loss: 0.6320 - disc_Y_loss: 0.5525 - gen_F_loss: 5.0571 - gen_G_loss: 5.2133 - identity_loss: 0.2314\n",
      "Epoch 33/150\n",
      "\u001b[1m300/300\u001b[0m \u001b[32m━━━━━━━━━━━━━━━━━━━━\u001b[0m\u001b[37m\u001b[0m \u001b[1m0s\u001b[0m 110us/step - cycle_loss: 0.0000e+00 - disc_X_loss: 0.0000e+00 - disc_Y_loss: 0.0000e+00 - gen_F_loss: 0.0000e+00 - gen_G_loss: 0.0000e+00 - identity_loss: 0.0000e+00\n",
      "Epoch 34/150\n"
     ]
    },
    {
     "name": "stderr",
     "output_type": "stream",
     "text": [
      "2024-11-14 15:22:10.638124: I tensorflow/core/framework/local_rendezvous.cc:428] Local rendezvous send item cancelled. Key hash: 18396010607733563774\n",
      "2024-11-14 15:22:10.638182: I tensorflow/core/framework/local_rendezvous.cc:428] Local rendezvous send item cancelled. Key hash: 11613287781577413998\n",
      "2024-11-14 15:22:10.638188: I tensorflow/core/framework/local_rendezvous.cc:428] Local rendezvous send item cancelled. Key hash: 7472890618160129498\n",
      "2024-11-14 15:22:10.638190: I tensorflow/core/framework/local_rendezvous.cc:428] Local rendezvous send item cancelled. Key hash: 17036793392484136794\n",
      "2024-11-14 15:22:10.638192: I tensorflow/core/framework/local_rendezvous.cc:428] Local rendezvous send item cancelled. Key hash: 10235588183624701814\n",
      "2024-11-14 15:22:10.638195: I tensorflow/core/framework/local_rendezvous.cc:428] Local rendezvous send item cancelled. Key hash: 14947666519276538088\n",
      "2024-11-14 15:22:10.638197: I tensorflow/core/framework/local_rendezvous.cc:428] Local rendezvous send item cancelled. Key hash: 9978831291104332398\n",
      "2024-11-14 15:22:10.638199: I tensorflow/core/framework/local_rendezvous.cc:428] Local rendezvous send item cancelled. Key hash: 1500456805612943848\n",
      "2024-11-14 15:22:10.638206: I tensorflow/core/framework/local_rendezvous.cc:428] Local rendezvous send item cancelled. Key hash: 11194099802961485407\n"
     ]
    },
    {
     "name": "stdout",
     "output_type": "stream",
     "text": [
      "\u001b[1m296/300\u001b[0m \u001b[32m━━━━━━━━━━━━━━━━━━━\u001b[0m\u001b[37m━\u001b[0m \u001b[1m1s\u001b[0m 351ms/step - cycle_loss: 3.7425 - disc_X_loss: 0.6294 - disc_Y_loss: 0.5425 - gen_F_loss: 4.8215 - gen_G_loss: 5.0223 - identity_loss: 0.2211"
     ]
    },
    {
     "name": "stderr",
     "output_type": "stream",
     "text": [
      "2024-11-14 15:23:55.045280: W tensorflow/core/kernels/data/cache_dataset_ops.cc:914] The calling iterator did not fully read the dataset being cached. In order to avoid unexpected truncation of the dataset, the partially cached contents of the dataset  will be discarded. This can happen if you have an input pipeline similar to `dataset.cache().take(k).repeat()`. You should use `dataset.take(k).cache().repeat()` instead.\n"
     ]
    },
    {
     "name": "stdout",
     "output_type": "stream",
     "text": [
      "\u001b[1m300/300\u001b[0m \u001b[32m━━━━━━━━━━━━━━━━━━━━\u001b[0m\u001b[37m\u001b[0m \u001b[1m106s\u001b[0m 351ms/step - cycle_loss: 3.7434 - disc_X_loss: 0.6293 - disc_Y_loss: 0.5427 - gen_F_loss: 4.8224 - gen_G_loss: 5.0227 - identity_loss: 0.2211\n",
      "Epoch 35/150\n",
      "\u001b[1m300/300\u001b[0m \u001b[32m━━━━━━━━━━━━━━━━━━━━\u001b[0m\u001b[37m\u001b[0m \u001b[1m0s\u001b[0m 82us/step - cycle_loss: 0.0000e+00 - disc_X_loss: 0.0000e+00 - disc_Y_loss: 0.0000e+00 - gen_F_loss: 0.0000e+00 - gen_G_loss: 0.0000e+00 - identity_loss: 0.0000e+00\n",
      "Epoch 36/150\n"
     ]
    },
    {
     "name": "stderr",
     "output_type": "stream",
     "text": [
      "2024-11-14 15:23:56.320131: I tensorflow/core/framework/local_rendezvous.cc:428] Local rendezvous send item cancelled. Key hash: 18396010607733563774\n",
      "2024-11-14 15:23:56.320199: I tensorflow/core/framework/local_rendezvous.cc:428] Local rendezvous send item cancelled. Key hash: 11613287781577413998\n",
      "2024-11-14 15:23:56.320204: I tensorflow/core/framework/local_rendezvous.cc:428] Local rendezvous send item cancelled. Key hash: 7472890618160129498\n",
      "2024-11-14 15:23:56.320208: I tensorflow/core/framework/local_rendezvous.cc:428] Local rendezvous send item cancelled. Key hash: 17036793392484136794\n",
      "2024-11-14 15:23:56.320210: I tensorflow/core/framework/local_rendezvous.cc:428] Local rendezvous send item cancelled. Key hash: 10235588183624701814\n",
      "2024-11-14 15:23:56.320213: I tensorflow/core/framework/local_rendezvous.cc:428] Local rendezvous send item cancelled. Key hash: 14947666519276538088\n",
      "2024-11-14 15:23:56.320215: I tensorflow/core/framework/local_rendezvous.cc:428] Local rendezvous send item cancelled. Key hash: 9978831291104332398\n",
      "2024-11-14 15:23:56.320218: I tensorflow/core/framework/local_rendezvous.cc:428] Local rendezvous send item cancelled. Key hash: 1500456805612943848\n",
      "2024-11-14 15:23:56.320220: I tensorflow/core/framework/local_rendezvous.cc:428] Local rendezvous send item cancelled. Key hash: 11194099802961485407\n"
     ]
    },
    {
     "name": "stdout",
     "output_type": "stream",
     "text": [
      "\u001b[1m296/300\u001b[0m \u001b[32m━━━━━━━━━━━━━━━━━━━\u001b[0m\u001b[37m━\u001b[0m \u001b[1m1s\u001b[0m 350ms/step - cycle_loss: 3.8329 - disc_X_loss: 0.6145 - disc_Y_loss: 0.5544 - gen_F_loss: 4.9350 - gen_G_loss: 5.1289 - identity_loss: 0.2202"
     ]
    },
    {
     "name": "stderr",
     "output_type": "stream",
     "text": [
      "2024-11-14 15:25:40.303705: W tensorflow/core/kernels/data/cache_dataset_ops.cc:914] The calling iterator did not fully read the dataset being cached. In order to avoid unexpected truncation of the dataset, the partially cached contents of the dataset  will be discarded. This can happen if you have an input pipeline similar to `dataset.cache().take(k).repeat()`. You should use `dataset.take(k).cache().repeat()` instead.\n"
     ]
    },
    {
     "name": "stdout",
     "output_type": "stream",
     "text": [
      "\u001b[1m300/300\u001b[0m \u001b[32m━━━━━━━━━━━━━━━━━━━━\u001b[0m\u001b[37m\u001b[0m \u001b[1m105s\u001b[0m 350ms/step - cycle_loss: 3.8314 - disc_X_loss: 0.6144 - disc_Y_loss: 0.5545 - gen_F_loss: 4.9338 - gen_G_loss: 5.1269 - identity_loss: 0.2203\n",
      "Epoch 37/150\n",
      "\u001b[1m300/300\u001b[0m \u001b[32m━━━━━━━━━━━━━━━━━━━━\u001b[0m\u001b[37m\u001b[0m \u001b[1m0s\u001b[0m 82us/step - cycle_loss: 0.0000e+00 - disc_X_loss: 0.0000e+00 - disc_Y_loss: 0.0000e+00 - gen_F_loss: 0.0000e+00 - gen_G_loss: 0.0000e+00 - identity_loss: 0.0000e+00\n",
      "Epoch 38/150\n"
     ]
    },
    {
     "name": "stderr",
     "output_type": "stream",
     "text": [
      "2024-11-14 15:25:41.567220: I tensorflow/core/framework/local_rendezvous.cc:428] Local rendezvous send item cancelled. Key hash: 18396010607733563774\n",
      "2024-11-14 15:25:41.567273: I tensorflow/core/framework/local_rendezvous.cc:428] Local rendezvous send item cancelled. Key hash: 11613287781577413998\n",
      "2024-11-14 15:25:41.567279: I tensorflow/core/framework/local_rendezvous.cc:428] Local rendezvous send item cancelled. Key hash: 7472890618160129498\n",
      "2024-11-14 15:25:41.567281: I tensorflow/core/framework/local_rendezvous.cc:428] Local rendezvous send item cancelled. Key hash: 17036793392484136794\n",
      "2024-11-14 15:25:41.567284: I tensorflow/core/framework/local_rendezvous.cc:428] Local rendezvous send item cancelled. Key hash: 10235588183624701814\n",
      "2024-11-14 15:25:41.567287: I tensorflow/core/framework/local_rendezvous.cc:428] Local rendezvous send item cancelled. Key hash: 14947666519276538088\n",
      "2024-11-14 15:25:41.567290: I tensorflow/core/framework/local_rendezvous.cc:428] Local rendezvous send item cancelled. Key hash: 9978831291104332398\n",
      "2024-11-14 15:25:41.567292: I tensorflow/core/framework/local_rendezvous.cc:428] Local rendezvous send item cancelled. Key hash: 1500456805612943848\n",
      "2024-11-14 15:25:41.567295: I tensorflow/core/framework/local_rendezvous.cc:428] Local rendezvous send item cancelled. Key hash: 11194099802961485407\n"
     ]
    },
    {
     "name": "stdout",
     "output_type": "stream",
     "text": [
      "\u001b[1m296/300\u001b[0m \u001b[32m━━━━━━━━━━━━━━━━━━━\u001b[0m\u001b[37m━\u001b[0m \u001b[1m1s\u001b[0m 352ms/step - cycle_loss: 3.8147 - disc_X_loss: 0.6249 - disc_Y_loss: 0.5479 - gen_F_loss: 4.9341 - gen_G_loss: 5.1597 - identity_loss: 0.2251"
     ]
    },
    {
     "name": "stderr",
     "output_type": "stream",
     "text": [
      "2024-11-14 15:27:26.100907: W tensorflow/core/kernels/data/cache_dataset_ops.cc:914] The calling iterator did not fully read the dataset being cached. In order to avoid unexpected truncation of the dataset, the partially cached contents of the dataset  will be discarded. This can happen if you have an input pipeline similar to `dataset.cache().take(k).repeat()`. You should use `dataset.take(k).cache().repeat()` instead.\n"
     ]
    },
    {
     "name": "stdout",
     "output_type": "stream",
     "text": [
      "\u001b[1m300/300\u001b[0m \u001b[32m━━━━━━━━━━━━━━━━━━━━\u001b[0m\u001b[37m\u001b[0m \u001b[1m106s\u001b[0m 352ms/step - cycle_loss: 3.8121 - disc_X_loss: 0.6248 - disc_Y_loss: 0.5481 - gen_F_loss: 4.9314 - gen_G_loss: 5.1562 - identity_loss: 0.2250\n",
      "Epoch 39/150\n",
      "\u001b[1m300/300\u001b[0m \u001b[32m━━━━━━━━━━━━━━━━━━━━\u001b[0m\u001b[37m\u001b[0m \u001b[1m0s\u001b[0m 113us/step - cycle_loss: 0.0000e+00 - disc_X_loss: 0.0000e+00 - disc_Y_loss: 0.0000e+00 - gen_F_loss: 0.0000e+00 - gen_G_loss: 0.0000e+00 - identity_loss: 0.0000e+00\n",
      "Epoch 40/150\n"
     ]
    },
    {
     "name": "stderr",
     "output_type": "stream",
     "text": [
      "2024-11-14 15:27:27.416993: I tensorflow/core/framework/local_rendezvous.cc:428] Local rendezvous send item cancelled. Key hash: 18396010607733563774\n",
      "2024-11-14 15:27:27.417060: I tensorflow/core/framework/local_rendezvous.cc:428] Local rendezvous send item cancelled. Key hash: 11613287781577413998\n",
      "2024-11-14 15:27:27.417065: I tensorflow/core/framework/local_rendezvous.cc:428] Local rendezvous send item cancelled. Key hash: 7472890618160129498\n",
      "2024-11-14 15:27:27.417067: I tensorflow/core/framework/local_rendezvous.cc:428] Local rendezvous send item cancelled. Key hash: 17036793392484136794\n",
      "2024-11-14 15:27:27.417070: I tensorflow/core/framework/local_rendezvous.cc:428] Local rendezvous send item cancelled. Key hash: 10235588183624701814\n",
      "2024-11-14 15:27:27.417072: I tensorflow/core/framework/local_rendezvous.cc:428] Local rendezvous send item cancelled. Key hash: 14947666519276538088\n",
      "2024-11-14 15:27:27.417075: I tensorflow/core/framework/local_rendezvous.cc:428] Local rendezvous send item cancelled. Key hash: 9978831291104332398\n",
      "2024-11-14 15:27:27.417077: I tensorflow/core/framework/local_rendezvous.cc:428] Local rendezvous send item cancelled. Key hash: 1500456805612943848\n",
      "2024-11-14 15:27:27.417080: I tensorflow/core/framework/local_rendezvous.cc:428] Local rendezvous send item cancelled. Key hash: 11194099802961485407\n"
     ]
    },
    {
     "name": "stdout",
     "output_type": "stream",
     "text": [
      "\u001b[1m297/300\u001b[0m \u001b[32m━━━━━━━━━━━━━━━━━━━\u001b[0m\u001b[37m━\u001b[0m \u001b[1m1s\u001b[0m 351ms/step - cycle_loss: 3.5901 - disc_X_loss: 0.5939 - disc_Y_loss: 0.5725 - gen_F_loss: 4.7322 - gen_G_loss: 4.8558 - identity_loss: 0.2174"
     ]
    },
    {
     "name": "stderr",
     "output_type": "stream",
     "text": [
      "2024-11-14 15:29:11.923973: W tensorflow/core/kernels/data/cache_dataset_ops.cc:914] The calling iterator did not fully read the dataset being cached. In order to avoid unexpected truncation of the dataset, the partially cached contents of the dataset  will be discarded. This can happen if you have an input pipeline similar to `dataset.cache().take(k).repeat()`. You should use `dataset.take(k).cache().repeat()` instead.\n"
     ]
    },
    {
     "name": "stdout",
     "output_type": "stream",
     "text": [
      "\u001b[1m300/300\u001b[0m \u001b[32m━━━━━━━━━━━━━━━━━━━━\u001b[0m\u001b[37m\u001b[0m \u001b[1m105s\u001b[0m 350ms/step - cycle_loss: 3.5900 - disc_X_loss: 0.5941 - disc_Y_loss: 0.5725 - gen_F_loss: 4.7320 - gen_G_loss: 4.8555 - identity_loss: 0.2175\n",
      "Epoch 41/150\n",
      "\u001b[1m300/300\u001b[0m \u001b[32m━━━━━━━━━━━━━━━━━━━━\u001b[0m\u001b[37m\u001b[0m \u001b[1m0s\u001b[0m 73us/step - cycle_loss: 0.0000e+00 - disc_X_loss: 0.0000e+00 - disc_Y_loss: 0.0000e+00 - gen_F_loss: 0.0000e+00 - gen_G_loss: 0.0000e+00 - identity_loss: 0.0000e+00\n",
      "Epoch 42/150\n"
     ]
    },
    {
     "name": "stderr",
     "output_type": "stream",
     "text": [
      "2024-11-14 15:29:12.887159: I tensorflow/core/framework/local_rendezvous.cc:428] Local rendezvous send item cancelled. Key hash: 18396010607733563774\n",
      "2024-11-14 15:29:12.887201: I tensorflow/core/framework/local_rendezvous.cc:428] Local rendezvous send item cancelled. Key hash: 11613287781577413998\n",
      "2024-11-14 15:29:12.887207: I tensorflow/core/framework/local_rendezvous.cc:428] Local rendezvous send item cancelled. Key hash: 7472890618160129498\n",
      "2024-11-14 15:29:12.887209: I tensorflow/core/framework/local_rendezvous.cc:428] Local rendezvous send item cancelled. Key hash: 17036793392484136794\n",
      "2024-11-14 15:29:12.887212: I tensorflow/core/framework/local_rendezvous.cc:428] Local rendezvous send item cancelled. Key hash: 10235588183624701814\n",
      "2024-11-14 15:29:12.887214: I tensorflow/core/framework/local_rendezvous.cc:428] Local rendezvous send item cancelled. Key hash: 14947666519276538088\n",
      "2024-11-14 15:29:12.887216: I tensorflow/core/framework/local_rendezvous.cc:428] Local rendezvous send item cancelled. Key hash: 9978831291104332398\n",
      "2024-11-14 15:29:12.887219: I tensorflow/core/framework/local_rendezvous.cc:428] Local rendezvous send item cancelled. Key hash: 1500456805612943848\n",
      "2024-11-14 15:29:12.887222: I tensorflow/core/framework/local_rendezvous.cc:428] Local rendezvous send item cancelled. Key hash: 11194099802961485407\n"
     ]
    },
    {
     "name": "stdout",
     "output_type": "stream",
     "text": [
      "\u001b[1m296/300\u001b[0m \u001b[32m━━━━━━━━━━━━━━━━━━━\u001b[0m\u001b[37m━\u001b[0m \u001b[1m1s\u001b[0m 349ms/step - cycle_loss: 3.5911 - disc_X_loss: 0.6323 - disc_Y_loss: 0.5686 - gen_F_loss: 4.6854 - gen_G_loss: 4.8363 - identity_loss: 0.2240"
     ]
    },
    {
     "name": "stderr",
     "output_type": "stream",
     "text": [
      "2024-11-14 15:30:56.639009: W tensorflow/core/kernels/data/cache_dataset_ops.cc:914] The calling iterator did not fully read the dataset being cached. In order to avoid unexpected truncation of the dataset, the partially cached contents of the dataset  will be discarded. This can happen if you have an input pipeline similar to `dataset.cache().take(k).repeat()`. You should use `dataset.take(k).cache().repeat()` instead.\n"
     ]
    },
    {
     "name": "stdout",
     "output_type": "stream",
     "text": [
      "\u001b[1m300/300\u001b[0m \u001b[32m━━━━━━━━━━━━━━━━━━━━\u001b[0m\u001b[37m\u001b[0m \u001b[1m105s\u001b[0m 349ms/step - cycle_loss: 3.5904 - disc_X_loss: 0.6322 - disc_Y_loss: 0.5687 - gen_F_loss: 4.6848 - gen_G_loss: 4.8352 - identity_loss: 0.2240\n",
      "Epoch 43/150\n",
      "\u001b[1m300/300\u001b[0m \u001b[32m━━━━━━━━━━━━━━━━━━━━\u001b[0m\u001b[37m\u001b[0m \u001b[1m0s\u001b[0m 77us/step - cycle_loss: 0.0000e+00 - disc_X_loss: 0.0000e+00 - disc_Y_loss: 0.0000e+00 - gen_F_loss: 0.0000e+00 - gen_G_loss: 0.0000e+00 - identity_loss: 0.0000e+00\n",
      "Epoch 44/150\n"
     ]
    },
    {
     "name": "stderr",
     "output_type": "stream",
     "text": [
      "2024-11-14 15:30:57.935576: I tensorflow/core/framework/local_rendezvous.cc:428] Local rendezvous send item cancelled. Key hash: 18396010607733563774\n",
      "2024-11-14 15:30:57.935623: I tensorflow/core/framework/local_rendezvous.cc:428] Local rendezvous send item cancelled. Key hash: 11613287781577413998\n",
      "2024-11-14 15:30:57.935628: I tensorflow/core/framework/local_rendezvous.cc:428] Local rendezvous send item cancelled. Key hash: 7472890618160129498\n",
      "2024-11-14 15:30:57.935631: I tensorflow/core/framework/local_rendezvous.cc:428] Local rendezvous send item cancelled. Key hash: 17036793392484136794\n",
      "2024-11-14 15:30:57.935633: I tensorflow/core/framework/local_rendezvous.cc:428] Local rendezvous send item cancelled. Key hash: 10235588183624701814\n",
      "2024-11-14 15:30:57.935635: I tensorflow/core/framework/local_rendezvous.cc:428] Local rendezvous send item cancelled. Key hash: 14947666519276538088\n",
      "2024-11-14 15:30:57.935638: I tensorflow/core/framework/local_rendezvous.cc:428] Local rendezvous send item cancelled. Key hash: 9978831291104332398\n",
      "2024-11-14 15:30:57.935640: I tensorflow/core/framework/local_rendezvous.cc:428] Local rendezvous send item cancelled. Key hash: 1500456805612943848\n",
      "2024-11-14 15:30:57.935643: I tensorflow/core/framework/local_rendezvous.cc:428] Local rendezvous send item cancelled. Key hash: 11194099802961485407\n"
     ]
    },
    {
     "name": "stdout",
     "output_type": "stream",
     "text": [
      "\u001b[1m296/300\u001b[0m \u001b[32m━━━━━━━━━━━━━━━━━━━\u001b[0m\u001b[37m━\u001b[0m \u001b[1m1s\u001b[0m 357ms/step - cycle_loss: 3.6191 - disc_X_loss: 0.6082 - disc_Y_loss: 0.5601 - gen_F_loss: 4.7423 - gen_G_loss: 4.9229 - identity_loss: 0.2268"
     ]
    },
    {
     "name": "stderr",
     "output_type": "stream",
     "text": [
      "2024-11-14 15:32:43.957396: W tensorflow/core/kernels/data/cache_dataset_ops.cc:914] The calling iterator did not fully read the dataset being cached. In order to avoid unexpected truncation of the dataset, the partially cached contents of the dataset  will be discarded. This can happen if you have an input pipeline similar to `dataset.cache().take(k).repeat()`. You should use `dataset.take(k).cache().repeat()` instead.\n"
     ]
    },
    {
     "name": "stdout",
     "output_type": "stream",
     "text": [
      "\u001b[1m300/300\u001b[0m \u001b[32m━━━━━━━━━━━━━━━━━━━━\u001b[0m\u001b[37m\u001b[0m \u001b[1m107s\u001b[0m 356ms/step - cycle_loss: 3.6183 - disc_X_loss: 0.6082 - disc_Y_loss: 0.5601 - gen_F_loss: 4.7415 - gen_G_loss: 4.9217 - identity_loss: 0.2267\n",
      "Epoch 45/150\n",
      "\u001b[1m300/300\u001b[0m \u001b[32m━━━━━━━━━━━━━━━━━━━━\u001b[0m\u001b[37m\u001b[0m \u001b[1m0s\u001b[0m 82us/step - cycle_loss: 0.0000e+00 - disc_X_loss: 0.0000e+00 - disc_Y_loss: 0.0000e+00 - gen_F_loss: 0.0000e+00 - gen_G_loss: 0.0000e+00 - identity_loss: 0.0000e+00\n",
      "Epoch 46/150\n"
     ]
    },
    {
     "name": "stderr",
     "output_type": "stream",
     "text": [
      "2024-11-14 15:32:45.221977: I tensorflow/core/framework/local_rendezvous.cc:428] Local rendezvous send item cancelled. Key hash: 18396010607733563774\n",
      "2024-11-14 15:32:45.222026: I tensorflow/core/framework/local_rendezvous.cc:428] Local rendezvous send item cancelled. Key hash: 11613287781577413998\n",
      "2024-11-14 15:32:45.222031: I tensorflow/core/framework/local_rendezvous.cc:428] Local rendezvous send item cancelled. Key hash: 7472890618160129498\n",
      "2024-11-14 15:32:45.222035: I tensorflow/core/framework/local_rendezvous.cc:428] Local rendezvous send item cancelled. Key hash: 17036793392484136794\n",
      "2024-11-14 15:32:45.222037: I tensorflow/core/framework/local_rendezvous.cc:428] Local rendezvous send item cancelled. Key hash: 10235588183624701814\n",
      "2024-11-14 15:32:45.222039: I tensorflow/core/framework/local_rendezvous.cc:428] Local rendezvous send item cancelled. Key hash: 14947666519276538088\n",
      "2024-11-14 15:32:45.222042: I tensorflow/core/framework/local_rendezvous.cc:428] Local rendezvous send item cancelled. Key hash: 9978831291104332398\n",
      "2024-11-14 15:32:45.222044: I tensorflow/core/framework/local_rendezvous.cc:428] Local rendezvous send item cancelled. Key hash: 1500456805612943848\n",
      "2024-11-14 15:32:45.222047: I tensorflow/core/framework/local_rendezvous.cc:428] Local rendezvous send item cancelled. Key hash: 11194099802961485407\n"
     ]
    },
    {
     "name": "stdout",
     "output_type": "stream",
     "text": [
      "\u001b[1m296/300\u001b[0m \u001b[32m━━━━━━━━━━━━━━━━━━━\u001b[0m\u001b[37m━\u001b[0m \u001b[1m1s\u001b[0m 349ms/step - cycle_loss: 3.6571 - disc_X_loss: 0.6126 - disc_Y_loss: 0.5997 - gen_F_loss: 4.8041 - gen_G_loss: 4.8933 - identity_loss: 0.2205"
     ]
    },
    {
     "name": "stderr",
     "output_type": "stream",
     "text": [
      "2024-11-14 15:34:28.774297: W tensorflow/core/kernels/data/cache_dataset_ops.cc:914] The calling iterator did not fully read the dataset being cached. In order to avoid unexpected truncation of the dataset, the partially cached contents of the dataset  will be discarded. This can happen if you have an input pipeline similar to `dataset.cache().take(k).repeat()`. You should use `dataset.take(k).cache().repeat()` instead.\n"
     ]
    },
    {
     "name": "stdout",
     "output_type": "stream",
     "text": [
      "\u001b[1m300/300\u001b[0m \u001b[32m━━━━━━━━━━━━━━━━━━━━\u001b[0m\u001b[37m\u001b[0m \u001b[1m105s\u001b[0m 348ms/step - cycle_loss: 3.6557 - disc_X_loss: 0.6124 - disc_Y_loss: 0.5997 - gen_F_loss: 4.8026 - gen_G_loss: 4.8913 - identity_loss: 0.2204\n",
      "Epoch 47/150\n",
      "\u001b[1m300/300\u001b[0m \u001b[32m━━━━━━━━━━━━━━━━━━━━\u001b[0m\u001b[37m\u001b[0m \u001b[1m0s\u001b[0m 74us/step - cycle_loss: 0.0000e+00 - disc_X_loss: 0.0000e+00 - disc_Y_loss: 0.0000e+00 - gen_F_loss: 0.0000e+00 - gen_G_loss: 0.0000e+00 - identity_loss: 0.0000e+00\n",
      "Epoch 48/150\n"
     ]
    },
    {
     "name": "stderr",
     "output_type": "stream",
     "text": [
      "2024-11-14 15:34:30.063830: I tensorflow/core/framework/local_rendezvous.cc:428] Local rendezvous send item cancelled. Key hash: 18396010607733563774\n",
      "2024-11-14 15:34:30.063886: I tensorflow/core/framework/local_rendezvous.cc:428] Local rendezvous send item cancelled. Key hash: 11613287781577413998\n",
      "2024-11-14 15:34:30.063892: I tensorflow/core/framework/local_rendezvous.cc:428] Local rendezvous send item cancelled. Key hash: 7472890618160129498\n",
      "2024-11-14 15:34:30.063896: I tensorflow/core/framework/local_rendezvous.cc:428] Local rendezvous send item cancelled. Key hash: 17036793392484136794\n",
      "2024-11-14 15:34:30.063898: I tensorflow/core/framework/local_rendezvous.cc:428] Local rendezvous send item cancelled. Key hash: 10235588183624701814\n",
      "2024-11-14 15:34:30.063901: I tensorflow/core/framework/local_rendezvous.cc:428] Local rendezvous send item cancelled. Key hash: 14947666519276538088\n",
      "2024-11-14 15:34:30.063903: I tensorflow/core/framework/local_rendezvous.cc:428] Local rendezvous send item cancelled. Key hash: 9978831291104332398\n",
      "2024-11-14 15:34:30.063906: I tensorflow/core/framework/local_rendezvous.cc:428] Local rendezvous send item cancelled. Key hash: 1500456805612943848\n",
      "2024-11-14 15:34:30.063909: I tensorflow/core/framework/local_rendezvous.cc:428] Local rendezvous send item cancelled. Key hash: 11194099802961485407\n"
     ]
    },
    {
     "name": "stdout",
     "output_type": "stream",
     "text": [
      "\u001b[1m296/300\u001b[0m \u001b[32m━━━━━━━━━━━━━━━━━━━\u001b[0m\u001b[37m━\u001b[0m \u001b[1m1s\u001b[0m 350ms/step - cycle_loss: 3.4518 - disc_X_loss: 0.5884 - disc_Y_loss: 0.5547 - gen_F_loss: 4.6113 - gen_G_loss: 4.6931 - identity_loss: 0.2127"
     ]
    },
    {
     "name": "stderr",
     "output_type": "stream",
     "text": [
      "2024-11-14 15:36:14.002970: W tensorflow/core/kernels/data/cache_dataset_ops.cc:914] The calling iterator did not fully read the dataset being cached. In order to avoid unexpected truncation of the dataset, the partially cached contents of the dataset  will be discarded. This can happen if you have an input pipeline similar to `dataset.cache().take(k).repeat()`. You should use `dataset.take(k).cache().repeat()` instead.\n"
     ]
    },
    {
     "name": "stdout",
     "output_type": "stream",
     "text": [
      "\u001b[1m300/300\u001b[0m \u001b[32m━━━━━━━━━━━━━━━━━━━━\u001b[0m\u001b[37m\u001b[0m \u001b[1m105s\u001b[0m 350ms/step - cycle_loss: 3.4516 - disc_X_loss: 0.5888 - disc_Y_loss: 0.5550 - gen_F_loss: 4.6107 - gen_G_loss: 4.6926 - identity_loss: 0.2127\n",
      "Epoch 49/150\n",
      "\u001b[1m300/300\u001b[0m \u001b[32m━━━━━━━━━━━━━━━━━━━━\u001b[0m\u001b[37m\u001b[0m \u001b[1m0s\u001b[0m 79us/step - cycle_loss: 0.0000e+00 - disc_X_loss: 0.0000e+00 - disc_Y_loss: 0.0000e+00 - gen_F_loss: 0.0000e+00 - gen_G_loss: 0.0000e+00 - identity_loss: 0.0000e+00\n",
      "Epoch 50/150\n"
     ]
    },
    {
     "name": "stderr",
     "output_type": "stream",
     "text": [
      "2024-11-14 15:36:15.310583: I tensorflow/core/framework/local_rendezvous.cc:428] Local rendezvous send item cancelled. Key hash: 18396010607733563774\n",
      "2024-11-14 15:36:15.310626: I tensorflow/core/framework/local_rendezvous.cc:428] Local rendezvous send item cancelled. Key hash: 11613287781577413998\n",
      "2024-11-14 15:36:15.310631: I tensorflow/core/framework/local_rendezvous.cc:428] Local rendezvous send item cancelled. Key hash: 7472890618160129498\n",
      "2024-11-14 15:36:15.310633: I tensorflow/core/framework/local_rendezvous.cc:428] Local rendezvous send item cancelled. Key hash: 17036793392484136794\n",
      "2024-11-14 15:36:15.310635: I tensorflow/core/framework/local_rendezvous.cc:428] Local rendezvous send item cancelled. Key hash: 10235588183624701814\n",
      "2024-11-14 15:36:15.310638: I tensorflow/core/framework/local_rendezvous.cc:428] Local rendezvous send item cancelled. Key hash: 14947666519276538088\n",
      "2024-11-14 15:36:15.310640: I tensorflow/core/framework/local_rendezvous.cc:428] Local rendezvous send item cancelled. Key hash: 9978831291104332398\n",
      "2024-11-14 15:36:15.310642: I tensorflow/core/framework/local_rendezvous.cc:428] Local rendezvous send item cancelled. Key hash: 1500456805612943848\n",
      "2024-11-14 15:36:15.310645: I tensorflow/core/framework/local_rendezvous.cc:428] Local rendezvous send item cancelled. Key hash: 11194099802961485407\n"
     ]
    },
    {
     "name": "stdout",
     "output_type": "stream",
     "text": [
      "\u001b[1m296/300\u001b[0m \u001b[32m━━━━━━━━━━━━━━━━━━━\u001b[0m\u001b[37m━\u001b[0m \u001b[1m1s\u001b[0m 348ms/step - cycle_loss: 3.4691 - disc_X_loss: 0.5744 - disc_Y_loss: 0.5593 - gen_F_loss: 4.6362 - gen_G_loss: 4.7242 - identity_loss: 0.2140"
     ]
    },
    {
     "name": "stderr",
     "output_type": "stream",
     "text": [
      "2024-11-14 15:37:58.729502: W tensorflow/core/kernels/data/cache_dataset_ops.cc:914] The calling iterator did not fully read the dataset being cached. In order to avoid unexpected truncation of the dataset, the partially cached contents of the dataset  will be discarded. This can happen if you have an input pipeline similar to `dataset.cache().take(k).repeat()`. You should use `dataset.take(k).cache().repeat()` instead.\n"
     ]
    },
    {
     "name": "stdout",
     "output_type": "stream",
     "text": [
      "\u001b[1m300/300\u001b[0m \u001b[32m━━━━━━━━━━━━━━━━━━━━\u001b[0m\u001b[37m\u001b[0m \u001b[1m105s\u001b[0m 348ms/step - cycle_loss: 3.4688 - disc_X_loss: 0.5746 - disc_Y_loss: 0.5595 - gen_F_loss: 4.6356 - gen_G_loss: 4.7235 - identity_loss: 0.2140\n",
      "Epoch 51/150\n",
      "\u001b[1m300/300\u001b[0m \u001b[32m━━━━━━━━━━━━━━━━━━━━\u001b[0m\u001b[37m\u001b[0m \u001b[1m0s\u001b[0m 78us/step - cycle_loss: 0.0000e+00 - disc_X_loss: 0.0000e+00 - disc_Y_loss: 0.0000e+00 - gen_F_loss: 0.0000e+00 - gen_G_loss: 0.0000e+00 - identity_loss: 0.0000e+00\n",
      "Epoch 52/150\n"
     ]
    },
    {
     "name": "stderr",
     "output_type": "stream",
     "text": [
      "2024-11-14 15:37:59.972939: I tensorflow/core/framework/local_rendezvous.cc:428] Local rendezvous send item cancelled. Key hash: 18396010607733563774\n",
      "2024-11-14 15:37:59.972986: I tensorflow/core/framework/local_rendezvous.cc:428] Local rendezvous send item cancelled. Key hash: 11613287781577413998\n",
      "2024-11-14 15:37:59.972990: I tensorflow/core/framework/local_rendezvous.cc:428] Local rendezvous send item cancelled. Key hash: 7472890618160129498\n",
      "2024-11-14 15:37:59.972993: I tensorflow/core/framework/local_rendezvous.cc:428] Local rendezvous send item cancelled. Key hash: 17036793392484136794\n",
      "2024-11-14 15:37:59.972995: I tensorflow/core/framework/local_rendezvous.cc:428] Local rendezvous send item cancelled. Key hash: 10235588183624701814\n",
      "2024-11-14 15:37:59.973001: I tensorflow/core/framework/local_rendezvous.cc:428] Local rendezvous send item cancelled. Key hash: 14947666519276538088\n",
      "2024-11-14 15:37:59.973006: I tensorflow/core/framework/local_rendezvous.cc:428] Local rendezvous send item cancelled. Key hash: 9978831291104332398\n",
      "2024-11-14 15:37:59.973009: I tensorflow/core/framework/local_rendezvous.cc:428] Local rendezvous send item cancelled. Key hash: 1500456805612943848\n",
      "2024-11-14 15:37:59.973011: I tensorflow/core/framework/local_rendezvous.cc:428] Local rendezvous send item cancelled. Key hash: 11194099802961485407\n"
     ]
    },
    {
     "name": "stdout",
     "output_type": "stream",
     "text": [
      "\u001b[1m296/300\u001b[0m \u001b[32m━━━━━━━━━━━━━━━━━━━\u001b[0m\u001b[37m━\u001b[0m \u001b[1m1s\u001b[0m 350ms/step - cycle_loss: 3.4585 - disc_X_loss: 0.5741 - disc_Y_loss: 0.5165 - gen_F_loss: 4.6622 - gen_G_loss: 4.8099 - identity_loss: 0.2191"
     ]
    },
    {
     "name": "stderr",
     "output_type": "stream",
     "text": [
      "2024-11-14 15:39:43.889316: W tensorflow/core/kernels/data/cache_dataset_ops.cc:914] The calling iterator did not fully read the dataset being cached. In order to avoid unexpected truncation of the dataset, the partially cached contents of the dataset  will be discarded. This can happen if you have an input pipeline similar to `dataset.cache().take(k).repeat()`. You should use `dataset.take(k).cache().repeat()` instead.\n"
     ]
    },
    {
     "name": "stdout",
     "output_type": "stream",
     "text": [
      "\u001b[1m300/300\u001b[0m \u001b[32m━━━━━━━━━━━━━━━━━━━━\u001b[0m\u001b[37m\u001b[0m \u001b[1m105s\u001b[0m 350ms/step - cycle_loss: 3.4593 - disc_X_loss: 0.5742 - disc_Y_loss: 0.5167 - gen_F_loss: 4.6629 - gen_G_loss: 4.8105 - identity_loss: 0.2192\n",
      "Epoch 53/150\n",
      "\u001b[1m300/300\u001b[0m \u001b[32m━━━━━━━━━━━━━━━━━━━━\u001b[0m\u001b[37m\u001b[0m \u001b[1m0s\u001b[0m 78us/step - cycle_loss: 0.0000e+00 - disc_X_loss: 0.0000e+00 - disc_Y_loss: 0.0000e+00 - gen_F_loss: 0.0000e+00 - gen_G_loss: 0.0000e+00 - identity_loss: 0.0000e+00\n",
      "Epoch 54/150\n"
     ]
    },
    {
     "name": "stderr",
     "output_type": "stream",
     "text": [
      "2024-11-14 15:39:45.213874: I tensorflow/core/framework/local_rendezvous.cc:428] Local rendezvous send item cancelled. Key hash: 18396010607733563774\n",
      "2024-11-14 15:39:45.213916: I tensorflow/core/framework/local_rendezvous.cc:428] Local rendezvous send item cancelled. Key hash: 11613287781577413998\n",
      "2024-11-14 15:39:45.213923: I tensorflow/core/framework/local_rendezvous.cc:428] Local rendezvous send item cancelled. Key hash: 7472890618160129498\n",
      "2024-11-14 15:39:45.213925: I tensorflow/core/framework/local_rendezvous.cc:428] Local rendezvous send item cancelled. Key hash: 17036793392484136794\n",
      "2024-11-14 15:39:45.213927: I tensorflow/core/framework/local_rendezvous.cc:428] Local rendezvous send item cancelled. Key hash: 10235588183624701814\n",
      "2024-11-14 15:39:45.213929: I tensorflow/core/framework/local_rendezvous.cc:428] Local rendezvous send item cancelled. Key hash: 14947666519276538088\n",
      "2024-11-14 15:39:45.213932: I tensorflow/core/framework/local_rendezvous.cc:428] Local rendezvous send item cancelled. Key hash: 9978831291104332398\n",
      "2024-11-14 15:39:45.213934: I tensorflow/core/framework/local_rendezvous.cc:428] Local rendezvous send item cancelled. Key hash: 1500456805612943848\n",
      "2024-11-14 15:39:45.213937: I tensorflow/core/framework/local_rendezvous.cc:428] Local rendezvous send item cancelled. Key hash: 11194099802961485407\n"
     ]
    },
    {
     "name": "stdout",
     "output_type": "stream",
     "text": [
      "\u001b[1m296/300\u001b[0m \u001b[32m━━━━━━━━━━━━━━━━━━━\u001b[0m\u001b[37m━\u001b[0m \u001b[1m1s\u001b[0m 350ms/step - cycle_loss: 3.5721 - disc_X_loss: 0.5959 - disc_Y_loss: 0.5472 - gen_F_loss: 4.7568 - gen_G_loss: 4.8849 - identity_loss: 0.2132"
     ]
    },
    {
     "name": "stderr",
     "output_type": "stream",
     "text": [
      "2024-11-14 15:41:29.079453: W tensorflow/core/kernels/data/cache_dataset_ops.cc:914] The calling iterator did not fully read the dataset being cached. In order to avoid unexpected truncation of the dataset, the partially cached contents of the dataset  will be discarded. This can happen if you have an input pipeline similar to `dataset.cache().take(k).repeat()`. You should use `dataset.take(k).cache().repeat()` instead.\n"
     ]
    },
    {
     "name": "stdout",
     "output_type": "stream",
     "text": [
      "\u001b[1m300/300\u001b[0m \u001b[32m━━━━━━━━━━━━━━━━━━━━\u001b[0m\u001b[37m\u001b[0m \u001b[1m105s\u001b[0m 349ms/step - cycle_loss: 3.5700 - disc_X_loss: 0.5961 - disc_Y_loss: 0.5476 - gen_F_loss: 4.7542 - gen_G_loss: 4.8819 - identity_loss: 0.2132\n",
      "Epoch 55/150\n",
      "\u001b[1m300/300\u001b[0m \u001b[32m━━━━━━━━━━━━━━━━━━━━\u001b[0m\u001b[37m\u001b[0m \u001b[1m0s\u001b[0m 85us/step - cycle_loss: 0.0000e+00 - disc_X_loss: 0.0000e+00 - disc_Y_loss: 0.0000e+00 - gen_F_loss: 0.0000e+00 - gen_G_loss: 0.0000e+00 - identity_loss: 0.0000e+00\n",
      "Epoch 56/150\n"
     ]
    },
    {
     "name": "stderr",
     "output_type": "stream",
     "text": [
      "2024-11-14 15:41:30.351471: I tensorflow/core/framework/local_rendezvous.cc:428] Local rendezvous send item cancelled. Key hash: 18396010607733563774\n",
      "2024-11-14 15:41:30.351521: I tensorflow/core/framework/local_rendezvous.cc:428] Local rendezvous send item cancelled. Key hash: 11613287781577413998\n",
      "2024-11-14 15:41:30.351526: I tensorflow/core/framework/local_rendezvous.cc:428] Local rendezvous send item cancelled. Key hash: 7472890618160129498\n",
      "2024-11-14 15:41:30.351529: I tensorflow/core/framework/local_rendezvous.cc:428] Local rendezvous send item cancelled. Key hash: 17036793392484136794\n",
      "2024-11-14 15:41:30.351531: I tensorflow/core/framework/local_rendezvous.cc:428] Local rendezvous send item cancelled. Key hash: 10235588183624701814\n",
      "2024-11-14 15:41:30.351533: I tensorflow/core/framework/local_rendezvous.cc:428] Local rendezvous send item cancelled. Key hash: 14947666519276538088\n",
      "2024-11-14 15:41:30.351535: I tensorflow/core/framework/local_rendezvous.cc:428] Local rendezvous send item cancelled. Key hash: 9978831291104332398\n",
      "2024-11-14 15:41:30.351538: I tensorflow/core/framework/local_rendezvous.cc:428] Local rendezvous send item cancelled. Key hash: 1500456805612943848\n",
      "2024-11-14 15:41:30.351541: I tensorflow/core/framework/local_rendezvous.cc:428] Local rendezvous send item cancelled. Key hash: 11194099802961485407\n"
     ]
    },
    {
     "name": "stdout",
     "output_type": "stream",
     "text": [
      "\u001b[1m296/300\u001b[0m \u001b[32m━━━━━━━━━━━━━━━━━━━\u001b[0m\u001b[37m━\u001b[0m \u001b[1m1s\u001b[0m 351ms/step - cycle_loss: 3.4632 - disc_X_loss: 0.5753 - disc_Y_loss: 0.5514 - gen_F_loss: 4.6543 - gen_G_loss: 4.7204 - identity_loss: 0.2150"
     ]
    },
    {
     "name": "stderr",
     "output_type": "stream",
     "text": [
      "2024-11-14 15:43:14.534829: W tensorflow/core/kernels/data/cache_dataset_ops.cc:914] The calling iterator did not fully read the dataset being cached. In order to avoid unexpected truncation of the dataset, the partially cached contents of the dataset  will be discarded. This can happen if you have an input pipeline similar to `dataset.cache().take(k).repeat()`. You should use `dataset.take(k).cache().repeat()` instead.\n"
     ]
    },
    {
     "name": "stdout",
     "output_type": "stream",
     "text": [
      "\u001b[1m300/300\u001b[0m \u001b[32m━━━━━━━━━━━━━━━━━━━━\u001b[0m\u001b[37m\u001b[0m \u001b[1m105s\u001b[0m 350ms/step - cycle_loss: 3.4623 - disc_X_loss: 0.5755 - disc_Y_loss: 0.5515 - gen_F_loss: 4.6532 - gen_G_loss: 4.7196 - identity_loss: 0.2150\n",
      "Epoch 57/150\n",
      "\u001b[1m300/300\u001b[0m \u001b[32m━━━━━━━━━━━━━━━━━━━━\u001b[0m\u001b[37m\u001b[0m \u001b[1m0s\u001b[0m 151us/step - cycle_loss: 0.0000e+00 - disc_X_loss: 0.0000e+00 - disc_Y_loss: 0.0000e+00 - gen_F_loss: 0.0000e+00 - gen_G_loss: 0.0000e+00 - identity_loss: 0.0000e+00\n",
      "Epoch 58/150\n"
     ]
    },
    {
     "name": "stderr",
     "output_type": "stream",
     "text": [
      "2024-11-14 15:43:15.818800: I tensorflow/core/framework/local_rendezvous.cc:428] Local rendezvous send item cancelled. Key hash: 18396010607733563774\n",
      "2024-11-14 15:43:15.818855: I tensorflow/core/framework/local_rendezvous.cc:428] Local rendezvous send item cancelled. Key hash: 11613287781577413998\n",
      "2024-11-14 15:43:15.818861: I tensorflow/core/framework/local_rendezvous.cc:428] Local rendezvous send item cancelled. Key hash: 7472890618160129498\n",
      "2024-11-14 15:43:15.818863: I tensorflow/core/framework/local_rendezvous.cc:428] Local rendezvous send item cancelled. Key hash: 17036793392484136794\n",
      "2024-11-14 15:43:15.818867: I tensorflow/core/framework/local_rendezvous.cc:428] Local rendezvous send item cancelled. Key hash: 10235588183624701814\n",
      "2024-11-14 15:43:15.818870: I tensorflow/core/framework/local_rendezvous.cc:428] Local rendezvous send item cancelled. Key hash: 14947666519276538088\n",
      "2024-11-14 15:43:15.818873: I tensorflow/core/framework/local_rendezvous.cc:428] Local rendezvous send item cancelled. Key hash: 9978831291104332398\n",
      "2024-11-14 15:43:15.818875: I tensorflow/core/framework/local_rendezvous.cc:428] Local rendezvous send item cancelled. Key hash: 1500456805612943848\n",
      "2024-11-14 15:43:15.818879: I tensorflow/core/framework/local_rendezvous.cc:428] Local rendezvous send item cancelled. Key hash: 11194099802961485407\n"
     ]
    },
    {
     "name": "stdout",
     "output_type": "stream",
     "text": [
      "\u001b[1m296/300\u001b[0m \u001b[32m━━━━━━━━━━━━━━━━━━━\u001b[0m\u001b[37m━\u001b[0m \u001b[1m1s\u001b[0m 348ms/step - cycle_loss: 3.3693 - disc_X_loss: 0.5587 - disc_Y_loss: 0.5706 - gen_F_loss: 4.5842 - gen_G_loss: 4.6396 - identity_loss: 0.2153"
     ]
    },
    {
     "name": "stderr",
     "output_type": "stream",
     "text": [
      "2024-11-14 15:44:59.316248: W tensorflow/core/kernels/data/cache_dataset_ops.cc:914] The calling iterator did not fully read the dataset being cached. In order to avoid unexpected truncation of the dataset, the partially cached contents of the dataset  will be discarded. This can happen if you have an input pipeline similar to `dataset.cache().take(k).repeat()`. You should use `dataset.take(k).cache().repeat()` instead.\n"
     ]
    },
    {
     "name": "stdout",
     "output_type": "stream",
     "text": [
      "\u001b[1m300/300\u001b[0m \u001b[32m━━━━━━━━━━━━━━━━━━━━\u001b[0m\u001b[37m\u001b[0m \u001b[1m105s\u001b[0m 348ms/step - cycle_loss: 3.3689 - disc_X_loss: 0.5590 - disc_Y_loss: 0.5710 - gen_F_loss: 4.5839 - gen_G_loss: 4.6381 - identity_loss: 0.2153\n",
      "Epoch 59/150\n",
      "\u001b[1m300/300\u001b[0m \u001b[32m━━━━━━━━━━━━━━━━━━━━\u001b[0m\u001b[37m\u001b[0m \u001b[1m0s\u001b[0m 76us/step - cycle_loss: 0.0000e+00 - disc_X_loss: 0.0000e+00 - disc_Y_loss: 0.0000e+00 - gen_F_loss: 0.0000e+00 - gen_G_loss: 0.0000e+00 - identity_loss: 0.0000e+00\n",
      "Epoch 60/150\n"
     ]
    },
    {
     "name": "stderr",
     "output_type": "stream",
     "text": [
      "2024-11-14 15:45:00.594671: I tensorflow/core/framework/local_rendezvous.cc:428] Local rendezvous send item cancelled. Key hash: 18396010607733563774\n",
      "2024-11-14 15:45:00.594721: I tensorflow/core/framework/local_rendezvous.cc:428] Local rendezvous send item cancelled. Key hash: 11613287781577413998\n",
      "2024-11-14 15:45:00.594726: I tensorflow/core/framework/local_rendezvous.cc:428] Local rendezvous send item cancelled. Key hash: 7472890618160129498\n",
      "2024-11-14 15:45:00.594729: I tensorflow/core/framework/local_rendezvous.cc:428] Local rendezvous send item cancelled. Key hash: 17036793392484136794\n",
      "2024-11-14 15:45:00.594731: I tensorflow/core/framework/local_rendezvous.cc:428] Local rendezvous send item cancelled. Key hash: 10235588183624701814\n",
      "2024-11-14 15:45:00.594734: I tensorflow/core/framework/local_rendezvous.cc:428] Local rendezvous send item cancelled. Key hash: 14947666519276538088\n",
      "2024-11-14 15:45:00.594736: I tensorflow/core/framework/local_rendezvous.cc:428] Local rendezvous send item cancelled. Key hash: 9978831291104332398\n",
      "2024-11-14 15:45:00.594739: I tensorflow/core/framework/local_rendezvous.cc:428] Local rendezvous send item cancelled. Key hash: 1500456805612943848\n",
      "2024-11-14 15:45:00.594741: I tensorflow/core/framework/local_rendezvous.cc:428] Local rendezvous send item cancelled. Key hash: 11194099802961485407\n"
     ]
    },
    {
     "name": "stdout",
     "output_type": "stream",
     "text": [
      "\u001b[1m296/300\u001b[0m \u001b[32m━━━━━━━━━━━━━━━━━━━\u001b[0m\u001b[37m━\u001b[0m \u001b[1m1s\u001b[0m 350ms/step - cycle_loss: 3.3733 - disc_X_loss: 0.5812 - disc_Y_loss: 0.5613 - gen_F_loss: 4.5818 - gen_G_loss: 4.6653 - identity_loss: 0.2187"
     ]
    },
    {
     "name": "stderr",
     "output_type": "stream",
     "text": [
      "2024-11-14 15:46:44.593386: W tensorflow/core/kernels/data/cache_dataset_ops.cc:914] The calling iterator did not fully read the dataset being cached. In order to avoid unexpected truncation of the dataset, the partially cached contents of the dataset  will be discarded. This can happen if you have an input pipeline similar to `dataset.cache().take(k).repeat()`. You should use `dataset.take(k).cache().repeat()` instead.\n"
     ]
    },
    {
     "name": "stdout",
     "output_type": "stream",
     "text": [
      "\u001b[1m300/300\u001b[0m \u001b[32m━━━━━━━━━━━━━━━━━━━━\u001b[0m\u001b[37m\u001b[0m \u001b[1m105s\u001b[0m 350ms/step - cycle_loss: 3.3725 - disc_X_loss: 0.5810 - disc_Y_loss: 0.5614 - gen_F_loss: 4.5812 - gen_G_loss: 4.6638 - identity_loss: 0.2188\n",
      "Epoch 61/150\n",
      "\u001b[1m300/300\u001b[0m \u001b[32m━━━━━━━━━━━━━━━━━━━━\u001b[0m\u001b[37m\u001b[0m \u001b[1m0s\u001b[0m 77us/step - cycle_loss: 0.0000e+00 - disc_X_loss: 0.0000e+00 - disc_Y_loss: 0.0000e+00 - gen_F_loss: 0.0000e+00 - gen_G_loss: 0.0000e+00 - identity_loss: 0.0000e+00\n",
      "Epoch 62/150\n"
     ]
    },
    {
     "name": "stderr",
     "output_type": "stream",
     "text": [
      "2024-11-14 15:46:45.874542: I tensorflow/core/framework/local_rendezvous.cc:428] Local rendezvous send item cancelled. Key hash: 18396010607733563774\n",
      "2024-11-14 15:46:45.874593: I tensorflow/core/framework/local_rendezvous.cc:428] Local rendezvous send item cancelled. Key hash: 11613287781577413998\n",
      "2024-11-14 15:46:45.874598: I tensorflow/core/framework/local_rendezvous.cc:428] Local rendezvous send item cancelled. Key hash: 7472890618160129498\n",
      "2024-11-14 15:46:45.874600: I tensorflow/core/framework/local_rendezvous.cc:428] Local rendezvous send item cancelled. Key hash: 17036793392484136794\n",
      "2024-11-14 15:46:45.874602: I tensorflow/core/framework/local_rendezvous.cc:428] Local rendezvous send item cancelled. Key hash: 10235588183624701814\n",
      "2024-11-14 15:46:45.874605: I tensorflow/core/framework/local_rendezvous.cc:428] Local rendezvous send item cancelled. Key hash: 14947666519276538088\n",
      "2024-11-14 15:46:45.874607: I tensorflow/core/framework/local_rendezvous.cc:428] Local rendezvous send item cancelled. Key hash: 9978831291104332398\n",
      "2024-11-14 15:46:45.874612: I tensorflow/core/framework/local_rendezvous.cc:428] Local rendezvous send item cancelled. Key hash: 1500456805612943848\n",
      "2024-11-14 15:46:45.874615: I tensorflow/core/framework/local_rendezvous.cc:428] Local rendezvous send item cancelled. Key hash: 11194099802961485407\n"
     ]
    },
    {
     "name": "stdout",
     "output_type": "stream",
     "text": [
      "\u001b[1m297/300\u001b[0m \u001b[32m━━━━━━━━━━━━━━━━━━━\u001b[0m\u001b[37m━\u001b[0m \u001b[1m1s\u001b[0m 348ms/step - cycle_loss: 3.4329 - disc_X_loss: 0.6004 - disc_Y_loss: 0.5680 - gen_F_loss: 4.6212 - gen_G_loss: 4.6865 - identity_loss: 0.2088"
     ]
    },
    {
     "name": "stderr",
     "output_type": "stream",
     "text": [
      "2024-11-14 15:48:29.611571: W tensorflow/core/kernels/data/cache_dataset_ops.cc:914] The calling iterator did not fully read the dataset being cached. In order to avoid unexpected truncation of the dataset, the partially cached contents of the dataset  will be discarded. This can happen if you have an input pipeline similar to `dataset.cache().take(k).repeat()`. You should use `dataset.take(k).cache().repeat()` instead.\n"
     ]
    },
    {
     "name": "stdout",
     "output_type": "stream",
     "text": [
      "\u001b[1m300/300\u001b[0m \u001b[32m━━━━━━━━━━━━━━━━━━━━\u001b[0m\u001b[37m\u001b[0m \u001b[1m105s\u001b[0m 348ms/step - cycle_loss: 3.4309 - disc_X_loss: 0.6002 - disc_Y_loss: 0.5682 - gen_F_loss: 4.6191 - gen_G_loss: 4.6838 - identity_loss: 0.2088\n",
      "Epoch 63/150\n",
      "\u001b[1m300/300\u001b[0m \u001b[32m━━━━━━━━━━━━━━━━━━━━\u001b[0m\u001b[37m\u001b[0m \u001b[1m0s\u001b[0m 80us/step - cycle_loss: 0.0000e+00 - disc_X_loss: 0.0000e+00 - disc_Y_loss: 0.0000e+00 - gen_F_loss: 0.0000e+00 - gen_G_loss: 0.0000e+00 - identity_loss: 0.0000e+00\n",
      "Epoch 64/150\n"
     ]
    },
    {
     "name": "stderr",
     "output_type": "stream",
     "text": [
      "2024-11-14 15:48:30.588205: I tensorflow/core/framework/local_rendezvous.cc:428] Local rendezvous send item cancelled. Key hash: 18396010607733563774\n",
      "2024-11-14 15:48:30.588249: I tensorflow/core/framework/local_rendezvous.cc:428] Local rendezvous send item cancelled. Key hash: 11613287781577413998\n",
      "2024-11-14 15:48:30.588255: I tensorflow/core/framework/local_rendezvous.cc:428] Local rendezvous send item cancelled. Key hash: 7472890618160129498\n",
      "2024-11-14 15:48:30.588257: I tensorflow/core/framework/local_rendezvous.cc:428] Local rendezvous send item cancelled. Key hash: 17036793392484136794\n",
      "2024-11-14 15:48:30.588260: I tensorflow/core/framework/local_rendezvous.cc:428] Local rendezvous send item cancelled. Key hash: 10235588183624701814\n",
      "2024-11-14 15:48:30.588262: I tensorflow/core/framework/local_rendezvous.cc:428] Local rendezvous send item cancelled. Key hash: 14947666519276538088\n",
      "2024-11-14 15:48:30.588264: I tensorflow/core/framework/local_rendezvous.cc:428] Local rendezvous send item cancelled. Key hash: 9978831291104332398\n",
      "2024-11-14 15:48:30.588266: I tensorflow/core/framework/local_rendezvous.cc:428] Local rendezvous send item cancelled. Key hash: 1500456805612943848\n",
      "2024-11-14 15:48:30.588269: I tensorflow/core/framework/local_rendezvous.cc:428] Local rendezvous send item cancelled. Key hash: 11194099802961485407\n"
     ]
    },
    {
     "name": "stdout",
     "output_type": "stream",
     "text": [
      "\u001b[1m297/300\u001b[0m \u001b[32m━━━━━━━━━━━━━━━━━━━\u001b[0m\u001b[37m━\u001b[0m \u001b[1m1s\u001b[0m 349ms/step - cycle_loss: 3.2692 - disc_X_loss: 0.5826 - disc_Y_loss: 0.5459 - gen_F_loss: 4.5057 - gen_G_loss: 4.5684 - identity_loss: 0.2157"
     ]
    },
    {
     "name": "stderr",
     "output_type": "stream",
     "text": [
      "2024-11-14 15:50:14.674968: W tensorflow/core/kernels/data/cache_dataset_ops.cc:914] The calling iterator did not fully read the dataset being cached. In order to avoid unexpected truncation of the dataset, the partially cached contents of the dataset  will be discarded. This can happen if you have an input pipeline similar to `dataset.cache().take(k).repeat()`. You should use `dataset.take(k).cache().repeat()` instead.\n"
     ]
    },
    {
     "name": "stdout",
     "output_type": "stream",
     "text": [
      "\u001b[1m300/300\u001b[0m \u001b[32m━━━━━━━━━━━━━━━━━━━━\u001b[0m\u001b[37m\u001b[0m \u001b[1m105s\u001b[0m 349ms/step - cycle_loss: 3.2693 - disc_X_loss: 0.5827 - disc_Y_loss: 0.5463 - gen_F_loss: 4.5054 - gen_G_loss: 4.5678 - identity_loss: 0.2157\n",
      "Epoch 65/150\n",
      "\u001b[1m300/300\u001b[0m \u001b[32m━━━━━━━━━━━━━━━━━━━━\u001b[0m\u001b[37m\u001b[0m \u001b[1m0s\u001b[0m 157us/step - cycle_loss: 0.0000e+00 - disc_X_loss: 0.0000e+00 - disc_Y_loss: 0.0000e+00 - gen_F_loss: 0.0000e+00 - gen_G_loss: 0.0000e+00 - identity_loss: 0.0000e+00\n",
      "Epoch 66/150\n"
     ]
    },
    {
     "name": "stderr",
     "output_type": "stream",
     "text": [
      "2024-11-14 15:50:15.655786: I tensorflow/core/framework/local_rendezvous.cc:428] Local rendezvous send item cancelled. Key hash: 18396010607733563774\n",
      "2024-11-14 15:50:15.655818: I tensorflow/core/framework/local_rendezvous.cc:428] Local rendezvous send item cancelled. Key hash: 11613287781577413998\n",
      "2024-11-14 15:50:15.655821: I tensorflow/core/framework/local_rendezvous.cc:428] Local rendezvous send item cancelled. Key hash: 7472890618160129498\n",
      "2024-11-14 15:50:15.655824: I tensorflow/core/framework/local_rendezvous.cc:428] Local rendezvous send item cancelled. Key hash: 17036793392484136794\n",
      "2024-11-14 15:50:15.655828: I tensorflow/core/framework/local_rendezvous.cc:428] Local rendezvous send item cancelled. Key hash: 10235588183624701814\n",
      "2024-11-14 15:50:15.655831: I tensorflow/core/framework/local_rendezvous.cc:428] Local rendezvous send item cancelled. Key hash: 14947666519276538088\n",
      "2024-11-14 15:50:15.655835: I tensorflow/core/framework/local_rendezvous.cc:428] Local rendezvous send item cancelled. Key hash: 9978831291104332398\n",
      "2024-11-14 15:50:15.655837: I tensorflow/core/framework/local_rendezvous.cc:428] Local rendezvous send item cancelled. Key hash: 1500456805612943848\n",
      "2024-11-14 15:50:15.655846: I tensorflow/core/framework/local_rendezvous.cc:428] Local rendezvous send item cancelled. Key hash: 11194099802961485407\n"
     ]
    },
    {
     "name": "stdout",
     "output_type": "stream",
     "text": [
      "\u001b[1m296/300\u001b[0m \u001b[32m━━━━━━━━━━━━━━━━━━━\u001b[0m\u001b[37m━\u001b[0m \u001b[1m1s\u001b[0m 355ms/step - cycle_loss: 3.2684 - disc_X_loss: 0.5376 - disc_Y_loss: 0.5593 - gen_F_loss: 4.5621 - gen_G_loss: 4.4961 - identity_loss: 0.2058"
     ]
    },
    {
     "name": "stderr",
     "output_type": "stream",
     "text": [
      "2024-11-14 15:52:01.003556: W tensorflow/core/kernels/data/cache_dataset_ops.cc:914] The calling iterator did not fully read the dataset being cached. In order to avoid unexpected truncation of the dataset, the partially cached contents of the dataset  will be discarded. This can happen if you have an input pipeline similar to `dataset.cache().take(k).repeat()`. You should use `dataset.take(k).cache().repeat()` instead.\n"
     ]
    },
    {
     "name": "stdout",
     "output_type": "stream",
     "text": [
      "\u001b[1m300/300\u001b[0m \u001b[32m━━━━━━━━━━━━━━━━━━━━\u001b[0m\u001b[37m\u001b[0m \u001b[1m107s\u001b[0m 354ms/step - cycle_loss: 3.2675 - disc_X_loss: 0.5379 - disc_Y_loss: 0.5596 - gen_F_loss: 4.5609 - gen_G_loss: 4.4953 - identity_loss: 0.2058\n",
      "Epoch 67/150\n",
      "\u001b[1m300/300\u001b[0m \u001b[32m━━━━━━━━━━━━━━━━━━━━\u001b[0m\u001b[37m\u001b[0m \u001b[1m0s\u001b[0m 120us/step - cycle_loss: 0.0000e+00 - disc_X_loss: 0.0000e+00 - disc_Y_loss: 0.0000e+00 - gen_F_loss: 0.0000e+00 - gen_G_loss: 0.0000e+00 - identity_loss: 0.0000e+00\n",
      "Epoch 68/150\n"
     ]
    },
    {
     "name": "stderr",
     "output_type": "stream",
     "text": [
      "2024-11-14 15:52:02.301716: I tensorflow/core/framework/local_rendezvous.cc:428] Local rendezvous send item cancelled. Key hash: 18396010607733563774\n",
      "2024-11-14 15:52:02.301761: I tensorflow/core/framework/local_rendezvous.cc:428] Local rendezvous send item cancelled. Key hash: 11613287781577413998\n",
      "2024-11-14 15:52:02.301766: I tensorflow/core/framework/local_rendezvous.cc:428] Local rendezvous send item cancelled. Key hash: 7472890618160129498\n",
      "2024-11-14 15:52:02.301769: I tensorflow/core/framework/local_rendezvous.cc:428] Local rendezvous send item cancelled. Key hash: 17036793392484136794\n",
      "2024-11-14 15:52:02.301772: I tensorflow/core/framework/local_rendezvous.cc:428] Local rendezvous send item cancelled. Key hash: 10235588183624701814\n",
      "2024-11-14 15:52:02.301774: I tensorflow/core/framework/local_rendezvous.cc:428] Local rendezvous send item cancelled. Key hash: 14947666519276538088\n",
      "2024-11-14 15:52:02.301776: I tensorflow/core/framework/local_rendezvous.cc:428] Local rendezvous send item cancelled. Key hash: 9978831291104332398\n",
      "2024-11-14 15:52:02.301779: I tensorflow/core/framework/local_rendezvous.cc:428] Local rendezvous send item cancelled. Key hash: 1500456805612943848\n",
      "2024-11-14 15:52:02.301782: I tensorflow/core/framework/local_rendezvous.cc:428] Local rendezvous send item cancelled. Key hash: 11194099802961485407\n"
     ]
    },
    {
     "name": "stdout",
     "output_type": "stream",
     "text": [
      "\u001b[1m297/300\u001b[0m \u001b[32m━━━━━━━━━━━━━━━━━━━\u001b[0m\u001b[37m━\u001b[0m \u001b[1m1s\u001b[0m 351ms/step - cycle_loss: 3.3840 - disc_X_loss: 0.5676 - disc_Y_loss: 0.5587 - gen_F_loss: 4.6515 - gen_G_loss: 4.6521 - identity_loss: 0.2223"
     ]
    },
    {
     "name": "stderr",
     "output_type": "stream",
     "text": [
      "2024-11-14 15:53:47.013938: W tensorflow/core/kernels/data/cache_dataset_ops.cc:914] The calling iterator did not fully read the dataset being cached. In order to avoid unexpected truncation of the dataset, the partially cached contents of the dataset  will be discarded. This can happen if you have an input pipeline similar to `dataset.cache().take(k).repeat()`. You should use `dataset.take(k).cache().repeat()` instead.\n"
     ]
    },
    {
     "name": "stdout",
     "output_type": "stream",
     "text": [
      "\u001b[1m299/300\u001b[0m \u001b[32m━━━━━━━━━━━━━━━━━━━\u001b[0m\u001b[37m━\u001b[0m \u001b[1m0s\u001b[0m 351ms/step - cycle_loss: 3.3836 - disc_X_loss: 0.5676 - disc_Y_loss: 0.5587 - gen_F_loss: 4.6511 - gen_G_loss: 4.6515 - identity_loss: 0.2222"
     ]
    },
    {
     "name": "stderr",
     "output_type": "stream",
     "text": [
      "2024-11-14 15:53:47.665825: I tensorflow/core/framework/local_rendezvous.cc:405] Local rendezvous is aborting with status: OUT_OF_RANGE: End of sequence\n",
      "\t [[{{node MultiDeviceIteratorGetNextFromShard}}]]\n"
     ]
    },
    {
     "name": "stdout",
     "output_type": "stream",
     "text": [
      "\u001b[1m300/300\u001b[0m \u001b[32m━━━━━━━━━━━━━━━━━━━━\u001b[0m\u001b[37m\u001b[0m \u001b[1m106s\u001b[0m 351ms/step - cycle_loss: 3.3833 - disc_X_loss: 0.5677 - disc_Y_loss: 0.5588 - gen_F_loss: 4.6507 - gen_G_loss: 4.6510 - identity_loss: 0.2222\n",
      "Epoch 69/150\n",
      "\u001b[1m300/300\u001b[0m \u001b[32m━━━━━━━━━━━━━━━━━━━━\u001b[0m\u001b[37m\u001b[0m \u001b[1m0s\u001b[0m 95us/step - cycle_loss: 0.0000e+00 - disc_X_loss: 0.0000e+00 - disc_Y_loss: 0.0000e+00 - gen_F_loss: 0.0000e+00 - gen_G_loss: 0.0000e+00 - identity_loss: 0.0000e+00\n",
      "Epoch 70/150\n"
     ]
    },
    {
     "name": "stderr",
     "output_type": "stream",
     "text": [
      "2024-11-14 15:53:47.994806: I tensorflow/core/framework/local_rendezvous.cc:428] Local rendezvous send item cancelled. Key hash: 18396010607733563774\n",
      "2024-11-14 15:53:47.994855: I tensorflow/core/framework/local_rendezvous.cc:428] Local rendezvous send item cancelled. Key hash: 11613287781577413998\n",
      "2024-11-14 15:53:47.994862: I tensorflow/core/framework/local_rendezvous.cc:428] Local rendezvous send item cancelled. Key hash: 7472890618160129498\n",
      "2024-11-14 15:53:47.994864: I tensorflow/core/framework/local_rendezvous.cc:428] Local rendezvous send item cancelled. Key hash: 17036793392484136794\n",
      "2024-11-14 15:53:47.994867: I tensorflow/core/framework/local_rendezvous.cc:428] Local rendezvous send item cancelled. Key hash: 10235588183624701814\n",
      "2024-11-14 15:53:47.994870: I tensorflow/core/framework/local_rendezvous.cc:428] Local rendezvous send item cancelled. Key hash: 14947666519276538088\n",
      "2024-11-14 15:53:47.994872: I tensorflow/core/framework/local_rendezvous.cc:428] Local rendezvous send item cancelled. Key hash: 9978831291104332398\n",
      "2024-11-14 15:53:47.994875: I tensorflow/core/framework/local_rendezvous.cc:428] Local rendezvous send item cancelled. Key hash: 1500456805612943848\n",
      "2024-11-14 15:53:47.994880: I tensorflow/core/framework/local_rendezvous.cc:428] Local rendezvous send item cancelled. Key hash: 11194099802961485407\n"
     ]
    },
    {
     "name": "stdout",
     "output_type": "stream",
     "text": [
      "\u001b[1m296/300\u001b[0m \u001b[32m━━━━━━━━━━━━━━━━━━━\u001b[0m\u001b[37m━\u001b[0m \u001b[1m1s\u001b[0m 352ms/step - cycle_loss: 3.2122 - disc_X_loss: 0.5539 - disc_Y_loss: 0.5657 - gen_F_loss: 4.4548 - gen_G_loss: 4.4902 - identity_loss: 0.2089"
     ]
    },
    {
     "name": "stderr",
     "output_type": "stream",
     "text": [
      "2024-11-14 15:55:32.440579: W tensorflow/core/kernels/data/cache_dataset_ops.cc:914] The calling iterator did not fully read the dataset being cached. In order to avoid unexpected truncation of the dataset, the partially cached contents of the dataset  will be discarded. This can happen if you have an input pipeline similar to `dataset.cache().take(k).repeat()`. You should use `dataset.take(k).cache().repeat()` instead.\n"
     ]
    },
    {
     "name": "stdout",
     "output_type": "stream",
     "text": [
      "\u001b[1m300/300\u001b[0m \u001b[32m━━━━━━━━━━━━━━━━━━━━\u001b[0m\u001b[37m\u001b[0m \u001b[1m106s\u001b[0m 351ms/step - cycle_loss: 3.2121 - disc_X_loss: 0.5541 - disc_Y_loss: 0.5659 - gen_F_loss: 4.4546 - gen_G_loss: 4.4892 - identity_loss: 0.2090\n",
      "Epoch 71/150\n",
      "\u001b[1m300/300\u001b[0m \u001b[32m━━━━━━━━━━━━━━━━━━━━\u001b[0m\u001b[37m\u001b[0m \u001b[1m0s\u001b[0m 82us/step - cycle_loss: 0.0000e+00 - disc_X_loss: 0.0000e+00 - disc_Y_loss: 0.0000e+00 - gen_F_loss: 0.0000e+00 - gen_G_loss: 0.0000e+00 - identity_loss: 0.0000e+00\n",
      "Epoch 72/150\n"
     ]
    },
    {
     "name": "stderr",
     "output_type": "stream",
     "text": [
      "2024-11-14 15:55:33.718188: I tensorflow/core/framework/local_rendezvous.cc:428] Local rendezvous send item cancelled. Key hash: 18396010607733563774\n",
      "2024-11-14 15:55:33.718255: I tensorflow/core/framework/local_rendezvous.cc:428] Local rendezvous send item cancelled. Key hash: 11613287781577413998\n",
      "2024-11-14 15:55:33.718263: I tensorflow/core/framework/local_rendezvous.cc:428] Local rendezvous send item cancelled. Key hash: 7472890618160129498\n",
      "2024-11-14 15:55:33.718267: I tensorflow/core/framework/local_rendezvous.cc:428] Local rendezvous send item cancelled. Key hash: 17036793392484136794\n",
      "2024-11-14 15:55:33.718270: I tensorflow/core/framework/local_rendezvous.cc:428] Local rendezvous send item cancelled. Key hash: 10235588183624701814\n",
      "2024-11-14 15:55:33.718274: I tensorflow/core/framework/local_rendezvous.cc:428] Local rendezvous send item cancelled. Key hash: 14947666519276538088\n",
      "2024-11-14 15:55:33.718277: I tensorflow/core/framework/local_rendezvous.cc:428] Local rendezvous send item cancelled. Key hash: 9978831291104332398\n",
      "2024-11-14 15:55:33.718280: I tensorflow/core/framework/local_rendezvous.cc:428] Local rendezvous send item cancelled. Key hash: 1500456805612943848\n",
      "2024-11-14 15:55:33.718285: I tensorflow/core/framework/local_rendezvous.cc:428] Local rendezvous send item cancelled. Key hash: 11194099802961485407\n"
     ]
    },
    {
     "name": "stdout",
     "output_type": "stream",
     "text": [
      "\u001b[1m296/300\u001b[0m \u001b[32m━━━━━━━━━━━━━━━━━━━\u001b[0m\u001b[37m━\u001b[0m \u001b[1m1s\u001b[0m 352ms/step - cycle_loss: 3.1889 - disc_X_loss: 0.5441 - disc_Y_loss: 0.5175 - gen_F_loss: 4.4929 - gen_G_loss: 4.5153 - identity_loss: 0.2119"
     ]
    },
    {
     "name": "stderr",
     "output_type": "stream",
     "text": [
      "2024-11-14 15:57:18.098166: W tensorflow/core/kernels/data/cache_dataset_ops.cc:914] The calling iterator did not fully read the dataset being cached. In order to avoid unexpected truncation of the dataset, the partially cached contents of the dataset  will be discarded. This can happen if you have an input pipeline similar to `dataset.cache().take(k).repeat()`. You should use `dataset.take(k).cache().repeat()` instead.\n"
     ]
    },
    {
     "name": "stdout",
     "output_type": "stream",
     "text": [
      "\u001b[1m300/300\u001b[0m \u001b[32m━━━━━━━━━━━━━━━━━━━━\u001b[0m\u001b[37m\u001b[0m \u001b[1m106s\u001b[0m 351ms/step - cycle_loss: 3.1881 - disc_X_loss: 0.5443 - disc_Y_loss: 0.5182 - gen_F_loss: 4.4916 - gen_G_loss: 4.5131 - identity_loss: 0.2118\n",
      "Epoch 73/150\n",
      "\u001b[1m300/300\u001b[0m \u001b[32m━━━━━━━━━━━━━━━━━━━━\u001b[0m\u001b[37m\u001b[0m \u001b[1m0s\u001b[0m 72us/step - cycle_loss: 0.0000e+00 - disc_X_loss: 0.0000e+00 - disc_Y_loss: 0.0000e+00 - gen_F_loss: 0.0000e+00 - gen_G_loss: 0.0000e+00 - identity_loss: 0.0000e+00\n",
      "Epoch 74/150\n"
     ]
    },
    {
     "name": "stderr",
     "output_type": "stream",
     "text": [
      "2024-11-14 15:57:19.328687: I tensorflow/core/framework/local_rendezvous.cc:428] Local rendezvous send item cancelled. Key hash: 18396010607733563774\n",
      "2024-11-14 15:57:19.328734: I tensorflow/core/framework/local_rendezvous.cc:428] Local rendezvous send item cancelled. Key hash: 11613287781577413998\n",
      "2024-11-14 15:57:19.328739: I tensorflow/core/framework/local_rendezvous.cc:428] Local rendezvous send item cancelled. Key hash: 7472890618160129498\n",
      "2024-11-14 15:57:19.328742: I tensorflow/core/framework/local_rendezvous.cc:428] Local rendezvous send item cancelled. Key hash: 17036793392484136794\n",
      "2024-11-14 15:57:19.328744: I tensorflow/core/framework/local_rendezvous.cc:428] Local rendezvous send item cancelled. Key hash: 10235588183624701814\n",
      "2024-11-14 15:57:19.328746: I tensorflow/core/framework/local_rendezvous.cc:428] Local rendezvous send item cancelled. Key hash: 14947666519276538088\n",
      "2024-11-14 15:57:19.328748: I tensorflow/core/framework/local_rendezvous.cc:428] Local rendezvous send item cancelled. Key hash: 9978831291104332398\n",
      "2024-11-14 15:57:19.328750: I tensorflow/core/framework/local_rendezvous.cc:428] Local rendezvous send item cancelled. Key hash: 1500456805612943848\n",
      "2024-11-14 15:57:19.328753: I tensorflow/core/framework/local_rendezvous.cc:428] Local rendezvous send item cancelled. Key hash: 11194099802961485407\n"
     ]
    },
    {
     "name": "stdout",
     "output_type": "stream",
     "text": [
      "\u001b[1m296/300\u001b[0m \u001b[32m━━━━━━━━━━━━━━━━━━━\u001b[0m\u001b[37m━\u001b[0m \u001b[1m1s\u001b[0m 350ms/step - cycle_loss: 3.2828 - disc_X_loss: 0.5570 - disc_Y_loss: 0.5273 - gen_F_loss: 4.5553 - gen_G_loss: 4.6304 - identity_loss: 0.2149"
     ]
    },
    {
     "name": "stderr",
     "output_type": "stream",
     "text": [
      "2024-11-14 15:59:03.311880: W tensorflow/core/kernels/data/cache_dataset_ops.cc:914] The calling iterator did not fully read the dataset being cached. In order to avoid unexpected truncation of the dataset, the partially cached contents of the dataset  will be discarded. This can happen if you have an input pipeline similar to `dataset.cache().take(k).repeat()`. You should use `dataset.take(k).cache().repeat()` instead.\n"
     ]
    },
    {
     "name": "stdout",
     "output_type": "stream",
     "text": [
      "\u001b[1m300/300\u001b[0m \u001b[32m━━━━━━━━━━━━━━━━━━━━\u001b[0m\u001b[37m\u001b[0m \u001b[1m105s\u001b[0m 350ms/step - cycle_loss: 3.2812 - disc_X_loss: 0.5572 - disc_Y_loss: 0.5276 - gen_F_loss: 4.5532 - gen_G_loss: 4.6285 - identity_loss: 0.2148\n",
      "Epoch 75/150\n",
      "\u001b[1m300/300\u001b[0m \u001b[32m━━━━━━━━━━━━━━━━━━━━\u001b[0m\u001b[37m\u001b[0m \u001b[1m0s\u001b[0m 78us/step - cycle_loss: 0.0000e+00 - disc_X_loss: 0.0000e+00 - disc_Y_loss: 0.0000e+00 - gen_F_loss: 0.0000e+00 - gen_G_loss: 0.0000e+00 - identity_loss: 0.0000e+00\n",
      "Epoch 76/150\n"
     ]
    },
    {
     "name": "stderr",
     "output_type": "stream",
     "text": [
      "2024-11-14 15:59:04.659049: I tensorflow/core/framework/local_rendezvous.cc:428] Local rendezvous send item cancelled. Key hash: 18396010607733563774\n",
      "2024-11-14 15:59:04.659100: I tensorflow/core/framework/local_rendezvous.cc:428] Local rendezvous send item cancelled. Key hash: 11613287781577413998\n",
      "2024-11-14 15:59:04.659106: I tensorflow/core/framework/local_rendezvous.cc:428] Local rendezvous send item cancelled. Key hash: 7472890618160129498\n",
      "2024-11-14 15:59:04.659109: I tensorflow/core/framework/local_rendezvous.cc:428] Local rendezvous send item cancelled. Key hash: 17036793392484136794\n",
      "2024-11-14 15:59:04.659111: I tensorflow/core/framework/local_rendezvous.cc:428] Local rendezvous send item cancelled. Key hash: 10235588183624701814\n",
      "2024-11-14 15:59:04.659113: I tensorflow/core/framework/local_rendezvous.cc:428] Local rendezvous send item cancelled. Key hash: 14947666519276538088\n",
      "2024-11-14 15:59:04.659115: I tensorflow/core/framework/local_rendezvous.cc:428] Local rendezvous send item cancelled. Key hash: 9978831291104332398\n",
      "2024-11-14 15:59:04.659118: I tensorflow/core/framework/local_rendezvous.cc:428] Local rendezvous send item cancelled. Key hash: 1500456805612943848\n",
      "2024-11-14 15:59:04.659121: I tensorflow/core/framework/local_rendezvous.cc:428] Local rendezvous send item cancelled. Key hash: 11194099802961485407\n"
     ]
    },
    {
     "name": "stdout",
     "output_type": "stream",
     "text": [
      "\u001b[1m296/300\u001b[0m \u001b[32m━━━━━━━━━━━━━━━━━━━\u001b[0m\u001b[37m━\u001b[0m \u001b[1m1s\u001b[0m 349ms/step - cycle_loss: 3.1704 - disc_X_loss: 0.5995 - disc_Y_loss: 0.5291 - gen_F_loss: 4.4164 - gen_G_loss: 4.5458 - identity_loss: 0.2204"
     ]
    },
    {
     "name": "stderr",
     "output_type": "stream",
     "text": [
      "2024-11-14 16:00:48.270904: W tensorflow/core/kernels/data/cache_dataset_ops.cc:914] The calling iterator did not fully read the dataset being cached. In order to avoid unexpected truncation of the dataset, the partially cached contents of the dataset  will be discarded. This can happen if you have an input pipeline similar to `dataset.cache().take(k).repeat()`. You should use `dataset.take(k).cache().repeat()` instead.\n"
     ]
    },
    {
     "name": "stdout",
     "output_type": "stream",
     "text": [
      "\u001b[1m300/300\u001b[0m \u001b[32m━━━━━━━━━━━━━━━━━━━━\u001b[0m\u001b[37m\u001b[0m \u001b[1m105s\u001b[0m 348ms/step - cycle_loss: 3.1698 - disc_X_loss: 0.5989 - disc_Y_loss: 0.5296 - gen_F_loss: 4.4158 - gen_G_loss: 4.5436 - identity_loss: 0.2203\n",
      "Epoch 77/150\n",
      "\u001b[1m300/300\u001b[0m \u001b[32m━━━━━━━━━━━━━━━━━━━━\u001b[0m\u001b[37m\u001b[0m \u001b[1m0s\u001b[0m 76us/step - cycle_loss: 0.0000e+00 - disc_X_loss: 0.0000e+00 - disc_Y_loss: 0.0000e+00 - gen_F_loss: 0.0000e+00 - gen_G_loss: 0.0000e+00 - identity_loss: 0.0000e+00\n",
      "Epoch 78/150\n"
     ]
    },
    {
     "name": "stderr",
     "output_type": "stream",
     "text": [
      "2024-11-14 16:00:49.529877: I tensorflow/core/framework/local_rendezvous.cc:428] Local rendezvous send item cancelled. Key hash: 18396010607733563774\n",
      "2024-11-14 16:00:49.529919: I tensorflow/core/framework/local_rendezvous.cc:428] Local rendezvous send item cancelled. Key hash: 11613287781577413998\n",
      "2024-11-14 16:00:49.529924: I tensorflow/core/framework/local_rendezvous.cc:428] Local rendezvous send item cancelled. Key hash: 7472890618160129498\n",
      "2024-11-14 16:00:49.529927: I tensorflow/core/framework/local_rendezvous.cc:428] Local rendezvous send item cancelled. Key hash: 17036793392484136794\n",
      "2024-11-14 16:00:49.529929: I tensorflow/core/framework/local_rendezvous.cc:428] Local rendezvous send item cancelled. Key hash: 10235588183624701814\n",
      "2024-11-14 16:00:49.529932: I tensorflow/core/framework/local_rendezvous.cc:428] Local rendezvous send item cancelled. Key hash: 14947666519276538088\n",
      "2024-11-14 16:00:49.529934: I tensorflow/core/framework/local_rendezvous.cc:428] Local rendezvous send item cancelled. Key hash: 9978831291104332398\n",
      "2024-11-14 16:00:49.529936: I tensorflow/core/framework/local_rendezvous.cc:428] Local rendezvous send item cancelled. Key hash: 1500456805612943848\n",
      "2024-11-14 16:00:49.529939: I tensorflow/core/framework/local_rendezvous.cc:428] Local rendezvous send item cancelled. Key hash: 11194099802961485407\n"
     ]
    },
    {
     "name": "stdout",
     "output_type": "stream",
     "text": [
      "\u001b[1m296/300\u001b[0m \u001b[32m━━━━━━━━━━━━━━━━━━━\u001b[0m\u001b[37m━\u001b[0m \u001b[1m1s\u001b[0m 350ms/step - cycle_loss: 3.1945 - disc_X_loss: 0.5689 - disc_Y_loss: 0.5304 - gen_F_loss: 4.4587 - gen_G_loss: 4.5280 - identity_loss: 0.2093"
     ]
    },
    {
     "name": "stderr",
     "output_type": "stream",
     "text": [
      "2024-11-14 16:02:33.529756: W tensorflow/core/kernels/data/cache_dataset_ops.cc:914] The calling iterator did not fully read the dataset being cached. In order to avoid unexpected truncation of the dataset, the partially cached contents of the dataset  will be discarded. This can happen if you have an input pipeline similar to `dataset.cache().take(k).repeat()`. You should use `dataset.take(k).cache().repeat()` instead.\n"
     ]
    },
    {
     "name": "stdout",
     "output_type": "stream",
     "text": [
      "\u001b[1m300/300\u001b[0m \u001b[32m━━━━━━━━━━━━━━━━━━━━\u001b[0m\u001b[37m\u001b[0m \u001b[1m105s\u001b[0m 350ms/step - cycle_loss: 3.1930 - disc_X_loss: 0.5691 - disc_Y_loss: 0.5309 - gen_F_loss: 4.4569 - gen_G_loss: 4.5260 - identity_loss: 0.2093\n",
      "Epoch 79/150\n",
      "\u001b[1m300/300\u001b[0m \u001b[32m━━━━━━━━━━━━━━━━━━━━\u001b[0m\u001b[37m\u001b[0m \u001b[1m0s\u001b[0m 72us/step - cycle_loss: 0.0000e+00 - disc_X_loss: 0.0000e+00 - disc_Y_loss: 0.0000e+00 - gen_F_loss: 0.0000e+00 - gen_G_loss: 0.0000e+00 - identity_loss: 0.0000e+00\n",
      "Epoch 80/150\n"
     ]
    },
    {
     "name": "stderr",
     "output_type": "stream",
     "text": [
      "2024-11-14 16:02:34.792248: I tensorflow/core/framework/local_rendezvous.cc:428] Local rendezvous send item cancelled. Key hash: 18396010607733563774\n",
      "2024-11-14 16:02:34.792296: I tensorflow/core/framework/local_rendezvous.cc:428] Local rendezvous send item cancelled. Key hash: 11613287781577413998\n",
      "2024-11-14 16:02:34.792302: I tensorflow/core/framework/local_rendezvous.cc:428] Local rendezvous send item cancelled. Key hash: 7472890618160129498\n",
      "2024-11-14 16:02:34.792305: I tensorflow/core/framework/local_rendezvous.cc:428] Local rendezvous send item cancelled. Key hash: 17036793392484136794\n",
      "2024-11-14 16:02:34.792307: I tensorflow/core/framework/local_rendezvous.cc:428] Local rendezvous send item cancelled. Key hash: 10235588183624701814\n",
      "2024-11-14 16:02:34.792309: I tensorflow/core/framework/local_rendezvous.cc:428] Local rendezvous send item cancelled. Key hash: 14947666519276538088\n",
      "2024-11-14 16:02:34.792311: I tensorflow/core/framework/local_rendezvous.cc:428] Local rendezvous send item cancelled. Key hash: 9978831291104332398\n",
      "2024-11-14 16:02:34.792313: I tensorflow/core/framework/local_rendezvous.cc:428] Local rendezvous send item cancelled. Key hash: 1500456805612943848\n",
      "2024-11-14 16:02:34.792316: I tensorflow/core/framework/local_rendezvous.cc:428] Local rendezvous send item cancelled. Key hash: 11194099802961485407\n"
     ]
    },
    {
     "name": "stdout",
     "output_type": "stream",
     "text": [
      "\u001b[1m296/300\u001b[0m \u001b[32m━━━━━━━━━━━━━━━━━━━\u001b[0m\u001b[37m━\u001b[0m \u001b[1m1s\u001b[0m 337ms/step - cycle_loss: 3.0553 - disc_X_loss: 0.5677 - disc_Y_loss: 0.5466 - gen_F_loss: 4.2933 - gen_G_loss: 4.3499 - identity_loss: 0.2057"
     ]
    },
    {
     "name": "stderr",
     "output_type": "stream",
     "text": [
      "2024-11-14 16:04:14.971852: W tensorflow/core/kernels/data/cache_dataset_ops.cc:914] The calling iterator did not fully read the dataset being cached. In order to avoid unexpected truncation of the dataset, the partially cached contents of the dataset  will be discarded. This can happen if you have an input pipeline similar to `dataset.cache().take(k).repeat()`. You should use `dataset.take(k).cache().repeat()` instead.\n"
     ]
    },
    {
     "name": "stdout",
     "output_type": "stream",
     "text": [
      "\u001b[1m300/300\u001b[0m \u001b[32m━━━━━━━━━━━━━━━━━━━━\u001b[0m\u001b[37m\u001b[0m \u001b[1m105s\u001b[0m 349ms/step - cycle_loss: 3.0554 - disc_X_loss: 0.5675 - disc_Y_loss: 0.5470 - gen_F_loss: 4.2936 - gen_G_loss: 4.3492 - identity_loss: 0.2058\n",
      "Epoch 81/150\n",
      "\u001b[1m300/300\u001b[0m \u001b[32m━━━━━━━━━━━━━━━━━━━━\u001b[0m\u001b[37m\u001b[0m \u001b[1m0s\u001b[0m 76us/step - cycle_loss: 0.0000e+00 - disc_X_loss: 0.0000e+00 - disc_Y_loss: 0.0000e+00 - gen_F_loss: 0.0000e+00 - gen_G_loss: 0.0000e+00 - identity_loss: 0.0000e+00\n",
      "Epoch 82/150\n"
     ]
    },
    {
     "name": "stderr",
     "output_type": "stream",
     "text": [
      "2024-11-14 16:04:19.850202: I tensorflow/core/framework/local_rendezvous.cc:428] Local rendezvous send item cancelled. Key hash: 18396010607733563774\n",
      "2024-11-14 16:04:19.850250: I tensorflow/core/framework/local_rendezvous.cc:428] Local rendezvous send item cancelled. Key hash: 11613287781577413998\n",
      "2024-11-14 16:04:19.850255: I tensorflow/core/framework/local_rendezvous.cc:428] Local rendezvous send item cancelled. Key hash: 7472890618160129498\n",
      "2024-11-14 16:04:19.850258: I tensorflow/core/framework/local_rendezvous.cc:428] Local rendezvous send item cancelled. Key hash: 17036793392484136794\n",
      "2024-11-14 16:04:19.850260: I tensorflow/core/framework/local_rendezvous.cc:428] Local rendezvous send item cancelled. Key hash: 10235588183624701814\n",
      "2024-11-14 16:04:19.850262: I tensorflow/core/framework/local_rendezvous.cc:428] Local rendezvous send item cancelled. Key hash: 14947666519276538088\n",
      "2024-11-14 16:04:19.850265: I tensorflow/core/framework/local_rendezvous.cc:428] Local rendezvous send item cancelled. Key hash: 9978831291104332398\n",
      "2024-11-14 16:04:19.850267: I tensorflow/core/framework/local_rendezvous.cc:428] Local rendezvous send item cancelled. Key hash: 1500456805612943848\n",
      "2024-11-14 16:04:19.850270: I tensorflow/core/framework/local_rendezvous.cc:428] Local rendezvous send item cancelled. Key hash: 11194099802961485407\n"
     ]
    },
    {
     "name": "stdout",
     "output_type": "stream",
     "text": [
      "\u001b[1m296/300\u001b[0m \u001b[32m━━━━━━━━━━━━━━━━━━━\u001b[0m\u001b[37m━\u001b[0m \u001b[1m1s\u001b[0m 338ms/step - cycle_loss: 3.0827 - disc_X_loss: 0.5582 - disc_Y_loss: 0.5408 - gen_F_loss: 4.3515 - gen_G_loss: 4.3974 - identity_loss: 0.2054"
     ]
    },
    {
     "name": "stderr",
     "output_type": "stream",
     "text": [
      "2024-11-14 16:06:00.327906: W tensorflow/core/kernels/data/cache_dataset_ops.cc:914] The calling iterator did not fully read the dataset being cached. In order to avoid unexpected truncation of the dataset, the partially cached contents of the dataset  will be discarded. This can happen if you have an input pipeline similar to `dataset.cache().take(k).repeat()`. You should use `dataset.take(k).cache().repeat()` instead.\n"
     ]
    },
    {
     "name": "stdout",
     "output_type": "stream",
     "text": [
      "\u001b[1m300/300\u001b[0m \u001b[32m━━━━━━━━━━━━━━━━━━━━\u001b[0m\u001b[37m\u001b[0m \u001b[1m102s\u001b[0m 338ms/step - cycle_loss: 3.0816 - disc_X_loss: 0.5585 - disc_Y_loss: 0.5410 - gen_F_loss: 4.3499 - gen_G_loss: 4.3955 - identity_loss: 0.2053\n",
      "Epoch 83/150\n",
      "\u001b[1m300/300\u001b[0m \u001b[32m━━━━━━━━━━━━━━━━━━━━\u001b[0m\u001b[37m\u001b[0m \u001b[1m0s\u001b[0m 117us/step - cycle_loss: 0.0000e+00 - disc_X_loss: 0.0000e+00 - disc_Y_loss: 0.0000e+00 - gen_F_loss: 0.0000e+00 - gen_G_loss: 0.0000e+00 - identity_loss: 0.0000e+00\n",
      "Epoch 84/150\n"
     ]
    },
    {
     "name": "stderr",
     "output_type": "stream",
     "text": [
      "2024-11-14 16:06:01.601272: I tensorflow/core/framework/local_rendezvous.cc:428] Local rendezvous send item cancelled. Key hash: 18396010607733563774\n",
      "2024-11-14 16:06:01.601322: I tensorflow/core/framework/local_rendezvous.cc:428] Local rendezvous send item cancelled. Key hash: 11613287781577413998\n",
      "2024-11-14 16:06:01.601328: I tensorflow/core/framework/local_rendezvous.cc:428] Local rendezvous send item cancelled. Key hash: 7472890618160129498\n",
      "2024-11-14 16:06:01.601330: I tensorflow/core/framework/local_rendezvous.cc:428] Local rendezvous send item cancelled. Key hash: 17036793392484136794\n",
      "2024-11-14 16:06:01.601333: I tensorflow/core/framework/local_rendezvous.cc:428] Local rendezvous send item cancelled. Key hash: 10235588183624701814\n",
      "2024-11-14 16:06:01.601335: I tensorflow/core/framework/local_rendezvous.cc:428] Local rendezvous send item cancelled. Key hash: 14947666519276538088\n",
      "2024-11-14 16:06:01.601337: I tensorflow/core/framework/local_rendezvous.cc:428] Local rendezvous send item cancelled. Key hash: 9978831291104332398\n",
      "2024-11-14 16:06:01.601340: I tensorflow/core/framework/local_rendezvous.cc:428] Local rendezvous send item cancelled. Key hash: 1500456805612943848\n",
      "2024-11-14 16:06:01.601343: I tensorflow/core/framework/local_rendezvous.cc:428] Local rendezvous send item cancelled. Key hash: 11194099802961485407\n"
     ]
    },
    {
     "name": "stdout",
     "output_type": "stream",
     "text": [
      "\u001b[1m296/300\u001b[0m \u001b[32m━━━━━━━━━━━━━━━━━━━\u001b[0m\u001b[37m━\u001b[0m \u001b[1m1s\u001b[0m 348ms/step - cycle_loss: 3.1597 - disc_X_loss: 0.5768 - disc_Y_loss: 0.5641 - gen_F_loss: 4.3807 - gen_G_loss: 4.4374 - identity_loss: 0.2072"
     ]
    },
    {
     "name": "stderr",
     "output_type": "stream",
     "text": [
      "2024-11-14 16:07:44.854423: W tensorflow/core/kernels/data/cache_dataset_ops.cc:914] The calling iterator did not fully read the dataset being cached. In order to avoid unexpected truncation of the dataset, the partially cached contents of the dataset  will be discarded. This can happen if you have an input pipeline similar to `dataset.cache().take(k).repeat()`. You should use `dataset.take(k).cache().repeat()` instead.\n"
     ]
    },
    {
     "name": "stdout",
     "output_type": "stream",
     "text": [
      "\u001b[1m300/300\u001b[0m \u001b[32m━━━━━━━━━━━━━━━━━━━━\u001b[0m\u001b[37m\u001b[0m \u001b[1m104s\u001b[0m 347ms/step - cycle_loss: 3.1583 - disc_X_loss: 0.5769 - disc_Y_loss: 0.5643 - gen_F_loss: 4.3793 - gen_G_loss: 4.4353 - identity_loss: 0.2071\n",
      "Epoch 85/150\n",
      "\u001b[1m300/300\u001b[0m \u001b[32m━━━━━━━━━━━━━━━━━━━━\u001b[0m\u001b[37m\u001b[0m \u001b[1m0s\u001b[0m 75us/step - cycle_loss: 0.0000e+00 - disc_X_loss: 0.0000e+00 - disc_Y_loss: 0.0000e+00 - gen_F_loss: 0.0000e+00 - gen_G_loss: 0.0000e+00 - identity_loss: 0.0000e+00\n",
      "Epoch 86/150\n"
     ]
    },
    {
     "name": "stderr",
     "output_type": "stream",
     "text": [
      "2024-11-14 16:07:46.150708: I tensorflow/core/framework/local_rendezvous.cc:428] Local rendezvous send item cancelled. Key hash: 18396010607733563774\n",
      "2024-11-14 16:07:46.150747: I tensorflow/core/framework/local_rendezvous.cc:428] Local rendezvous send item cancelled. Key hash: 11613287781577413998\n",
      "2024-11-14 16:07:46.150752: I tensorflow/core/framework/local_rendezvous.cc:428] Local rendezvous send item cancelled. Key hash: 7472890618160129498\n",
      "2024-11-14 16:07:46.150755: I tensorflow/core/framework/local_rendezvous.cc:428] Local rendezvous send item cancelled. Key hash: 17036793392484136794\n",
      "2024-11-14 16:07:46.150757: I tensorflow/core/framework/local_rendezvous.cc:428] Local rendezvous send item cancelled. Key hash: 10235588183624701814\n",
      "2024-11-14 16:07:46.150759: I tensorflow/core/framework/local_rendezvous.cc:428] Local rendezvous send item cancelled. Key hash: 14947666519276538088\n",
      "2024-11-14 16:07:46.150761: I tensorflow/core/framework/local_rendezvous.cc:428] Local rendezvous send item cancelled. Key hash: 9978831291104332398\n",
      "2024-11-14 16:07:46.150764: I tensorflow/core/framework/local_rendezvous.cc:428] Local rendezvous send item cancelled. Key hash: 1500456805612943848\n",
      "2024-11-14 16:07:46.150767: I tensorflow/core/framework/local_rendezvous.cc:428] Local rendezvous send item cancelled. Key hash: 11194099802961485407\n"
     ]
    },
    {
     "name": "stdout",
     "output_type": "stream",
     "text": [
      "\u001b[1m296/300\u001b[0m \u001b[32m━━━━━━━━━━━━━━━━━━━\u001b[0m\u001b[37m━\u001b[0m \u001b[1m1s\u001b[0m 350ms/step - cycle_loss: 2.9610 - disc_X_loss: 0.5711 - disc_Y_loss: 0.5443 - gen_F_loss: 4.1530 - gen_G_loss: 4.2180 - identity_loss: 0.1981"
     ]
    },
    {
     "name": "stderr",
     "output_type": "stream",
     "text": [
      "2024-11-14 16:09:30.077996: W tensorflow/core/kernels/data/cache_dataset_ops.cc:914] The calling iterator did not fully read the dataset being cached. In order to avoid unexpected truncation of the dataset, the partially cached contents of the dataset  will be discarded. This can happen if you have an input pipeline similar to `dataset.cache().take(k).repeat()`. You should use `dataset.take(k).cache().repeat()` instead.\n"
     ]
    },
    {
     "name": "stdout",
     "output_type": "stream",
     "text": [
      "\u001b[1m300/300\u001b[0m \u001b[32m━━━━━━━━━━━━━━━━━━━━\u001b[0m\u001b[37m\u001b[0m \u001b[1m105s\u001b[0m 350ms/step - cycle_loss: 2.9604 - disc_X_loss: 0.5712 - disc_Y_loss: 0.5445 - gen_F_loss: 4.1526 - gen_G_loss: 4.2177 - identity_loss: 0.1982\n",
      "Epoch 87/150\n",
      "\u001b[1m300/300\u001b[0m \u001b[32m━━━━━━━━━━━━━━━━━━━━\u001b[0m\u001b[37m\u001b[0m \u001b[1m0s\u001b[0m 109us/step - cycle_loss: 0.0000e+00 - disc_X_loss: 0.0000e+00 - disc_Y_loss: 0.0000e+00 - gen_F_loss: 0.0000e+00 - gen_G_loss: 0.0000e+00 - identity_loss: 0.0000e+00\n",
      "Epoch 88/150\n"
     ]
    },
    {
     "name": "stderr",
     "output_type": "stream",
     "text": [
      "2024-11-14 16:09:31.415913: I tensorflow/core/framework/local_rendezvous.cc:428] Local rendezvous send item cancelled. Key hash: 18396010607733563774\n",
      "2024-11-14 16:09:31.415965: I tensorflow/core/framework/local_rendezvous.cc:428] Local rendezvous send item cancelled. Key hash: 11613287781577413998\n",
      "2024-11-14 16:09:31.415970: I tensorflow/core/framework/local_rendezvous.cc:428] Local rendezvous send item cancelled. Key hash: 7472890618160129498\n",
      "2024-11-14 16:09:31.415973: I tensorflow/core/framework/local_rendezvous.cc:428] Local rendezvous send item cancelled. Key hash: 17036793392484136794\n",
      "2024-11-14 16:09:31.415975: I tensorflow/core/framework/local_rendezvous.cc:428] Local rendezvous send item cancelled. Key hash: 10235588183624701814\n",
      "2024-11-14 16:09:31.415978: I tensorflow/core/framework/local_rendezvous.cc:428] Local rendezvous send item cancelled. Key hash: 14947666519276538088\n",
      "2024-11-14 16:09:31.415980: I tensorflow/core/framework/local_rendezvous.cc:428] Local rendezvous send item cancelled. Key hash: 9978831291104332398\n",
      "2024-11-14 16:09:31.415982: I tensorflow/core/framework/local_rendezvous.cc:428] Local rendezvous send item cancelled. Key hash: 1500456805612943848\n",
      "2024-11-14 16:09:31.415985: I tensorflow/core/framework/local_rendezvous.cc:428] Local rendezvous send item cancelled. Key hash: 11194099802961485407\n"
     ]
    },
    {
     "name": "stdout",
     "output_type": "stream",
     "text": [
      "\u001b[1m296/300\u001b[0m \u001b[32m━━━━━━━━━━━━━━━━━━━\u001b[0m\u001b[37m━\u001b[0m \u001b[1m1s\u001b[0m 352ms/step - cycle_loss: 2.9973 - disc_X_loss: 0.5598 - disc_Y_loss: 0.5752 - gen_F_loss: 4.2259 - gen_G_loss: 4.2537 - identity_loss: 0.2073"
     ]
    },
    {
     "name": "stderr",
     "output_type": "stream",
     "text": [
      "2024-11-14 16:11:15.908032: W tensorflow/core/kernels/data/cache_dataset_ops.cc:914] The calling iterator did not fully read the dataset being cached. In order to avoid unexpected truncation of the dataset, the partially cached contents of the dataset  will be discarded. This can happen if you have an input pipeline similar to `dataset.cache().take(k).repeat()`. You should use `dataset.take(k).cache().repeat()` instead.\n"
     ]
    },
    {
     "name": "stdout",
     "output_type": "stream",
     "text": [
      "\u001b[1m300/300\u001b[0m \u001b[32m━━━━━━━━━━━━━━━━━━━━\u001b[0m\u001b[37m\u001b[0m \u001b[1m106s\u001b[0m 351ms/step - cycle_loss: 2.9959 - disc_X_loss: 0.5601 - disc_Y_loss: 0.5752 - gen_F_loss: 4.2238 - gen_G_loss: 4.2516 - identity_loss: 0.2072\n",
      "Epoch 89/150\n",
      "\u001b[1m300/300\u001b[0m \u001b[32m━━━━━━━━━━━━━━━━━━━━\u001b[0m\u001b[37m\u001b[0m \u001b[1m0s\u001b[0m 165us/step - cycle_loss: 0.0000e+00 - disc_X_loss: 0.0000e+00 - disc_Y_loss: 0.0000e+00 - gen_F_loss: 0.0000e+00 - gen_G_loss: 0.0000e+00 - identity_loss: 0.0000e+00\n",
      "Epoch 90/150\n"
     ]
    },
    {
     "name": "stderr",
     "output_type": "stream",
     "text": [
      "2024-11-14 16:11:17.196822: I tensorflow/core/framework/local_rendezvous.cc:428] Local rendezvous send item cancelled. Key hash: 18396010607733563774\n",
      "2024-11-14 16:11:17.196882: I tensorflow/core/framework/local_rendezvous.cc:428] Local rendezvous send item cancelled. Key hash: 11613287781577413998\n",
      "2024-11-14 16:11:17.196887: I tensorflow/core/framework/local_rendezvous.cc:428] Local rendezvous send item cancelled. Key hash: 7472890618160129498\n",
      "2024-11-14 16:11:17.196889: I tensorflow/core/framework/local_rendezvous.cc:428] Local rendezvous send item cancelled. Key hash: 17036793392484136794\n",
      "2024-11-14 16:11:17.196892: I tensorflow/core/framework/local_rendezvous.cc:428] Local rendezvous send item cancelled. Key hash: 10235588183624701814\n",
      "2024-11-14 16:11:17.196894: I tensorflow/core/framework/local_rendezvous.cc:428] Local rendezvous send item cancelled. Key hash: 14947666519276538088\n",
      "2024-11-14 16:11:17.196896: I tensorflow/core/framework/local_rendezvous.cc:428] Local rendezvous send item cancelled. Key hash: 9978831291104332398\n",
      "2024-11-14 16:11:17.196899: I tensorflow/core/framework/local_rendezvous.cc:428] Local rendezvous send item cancelled. Key hash: 1500456805612943848\n",
      "2024-11-14 16:11:17.196901: I tensorflow/core/framework/local_rendezvous.cc:428] Local rendezvous send item cancelled. Key hash: 11194099802961485407\n"
     ]
    },
    {
     "name": "stdout",
     "output_type": "stream",
     "text": [
      "\u001b[1m296/300\u001b[0m \u001b[32m━━━━━━━━━━━━━━━━━━━\u001b[0m\u001b[37m━\u001b[0m \u001b[1m1s\u001b[0m 351ms/step - cycle_loss: 3.0710 - disc_X_loss: 0.5734 - disc_Y_loss: 0.5448 - gen_F_loss: 4.2933 - gen_G_loss: 4.3856 - identity_loss: 0.2120"
     ]
    },
    {
     "name": "stderr",
     "output_type": "stream",
     "text": [
      "2024-11-14 16:13:01.549683: W tensorflow/core/kernels/data/cache_dataset_ops.cc:914] The calling iterator did not fully read the dataset being cached. In order to avoid unexpected truncation of the dataset, the partially cached contents of the dataset  will be discarded. This can happen if you have an input pipeline similar to `dataset.cache().take(k).repeat()`. You should use `dataset.take(k).cache().repeat()` instead.\n"
     ]
    },
    {
     "name": "stdout",
     "output_type": "stream",
     "text": [
      "\u001b[1m300/300\u001b[0m \u001b[32m━━━━━━━━━━━━━━━━━━━━\u001b[0m\u001b[37m\u001b[0m \u001b[1m106s\u001b[0m 351ms/step - cycle_loss: 3.0696 - disc_X_loss: 0.5737 - disc_Y_loss: 0.5456 - gen_F_loss: 4.2914 - gen_G_loss: 4.3826 - identity_loss: 0.2119\n",
      "Epoch 91/150\n",
      "\u001b[1m300/300\u001b[0m \u001b[32m━━━━━━━━━━━━━━━━━━━━\u001b[0m\u001b[37m\u001b[0m \u001b[1m0s\u001b[0m 75us/step - cycle_loss: 0.0000e+00 - disc_X_loss: 0.0000e+00 - disc_Y_loss: 0.0000e+00 - gen_F_loss: 0.0000e+00 - gen_G_loss: 0.0000e+00 - identity_loss: 0.0000e+00\n",
      "Epoch 92/150\n"
     ]
    },
    {
     "name": "stderr",
     "output_type": "stream",
     "text": [
      "2024-11-14 16:13:02.852754: I tensorflow/core/framework/local_rendezvous.cc:428] Local rendezvous send item cancelled. Key hash: 18396010607733563774\n",
      "2024-11-14 16:13:02.852807: I tensorflow/core/framework/local_rendezvous.cc:428] Local rendezvous send item cancelled. Key hash: 11613287781577413998\n",
      "2024-11-14 16:13:02.852812: I tensorflow/core/framework/local_rendezvous.cc:428] Local rendezvous send item cancelled. Key hash: 7472890618160129498\n",
      "2024-11-14 16:13:02.852815: I tensorflow/core/framework/local_rendezvous.cc:428] Local rendezvous send item cancelled. Key hash: 17036793392484136794\n",
      "2024-11-14 16:13:02.852817: I tensorflow/core/framework/local_rendezvous.cc:428] Local rendezvous send item cancelled. Key hash: 10235588183624701814\n",
      "2024-11-14 16:13:02.852819: I tensorflow/core/framework/local_rendezvous.cc:428] Local rendezvous send item cancelled. Key hash: 14947666519276538088\n",
      "2024-11-14 16:13:02.852821: I tensorflow/core/framework/local_rendezvous.cc:428] Local rendezvous send item cancelled. Key hash: 9978831291104332398\n",
      "2024-11-14 16:13:02.852824: I tensorflow/core/framework/local_rendezvous.cc:428] Local rendezvous send item cancelled. Key hash: 1500456805612943848\n",
      "2024-11-14 16:13:02.852832: I tensorflow/core/framework/local_rendezvous.cc:428] Local rendezvous send item cancelled. Key hash: 11194099802961485407\n"
     ]
    },
    {
     "name": "stdout",
     "output_type": "stream",
     "text": [
      "\u001b[1m296/300\u001b[0m \u001b[32m━━━━━━━━━━━━━━━━━━━\u001b[0m\u001b[37m━\u001b[0m \u001b[1m1s\u001b[0m 348ms/step - cycle_loss: 2.9942 - disc_X_loss: 0.5766 - disc_Y_loss: 0.5174 - gen_F_loss: 4.1903 - gen_G_loss: 4.3241 - identity_loss: 0.1989"
     ]
    },
    {
     "name": "stderr",
     "output_type": "stream",
     "text": [
      "2024-11-14 16:14:46.329257: W tensorflow/core/kernels/data/cache_dataset_ops.cc:914] The calling iterator did not fully read the dataset being cached. In order to avoid unexpected truncation of the dataset, the partially cached contents of the dataset  will be discarded. This can happen if you have an input pipeline similar to `dataset.cache().take(k).repeat()`. You should use `dataset.take(k).cache().repeat()` instead.\n"
     ]
    },
    {
     "name": "stdout",
     "output_type": "stream",
     "text": [
      "\u001b[1m300/300\u001b[0m \u001b[32m━━━━━━━━━━━━━━━━━━━━\u001b[0m\u001b[37m\u001b[0m \u001b[1m105s\u001b[0m 348ms/step - cycle_loss: 2.9941 - disc_X_loss: 0.5768 - disc_Y_loss: 0.5177 - gen_F_loss: 4.1899 - gen_G_loss: 4.3239 - identity_loss: 0.1989\n",
      "Epoch 93/150\n",
      "\u001b[1m300/300\u001b[0m \u001b[32m━━━━━━━━━━━━━━━━━━━━\u001b[0m\u001b[37m\u001b[0m \u001b[1m0s\u001b[0m 84us/step - cycle_loss: 0.0000e+00 - disc_X_loss: 0.0000e+00 - disc_Y_loss: 0.0000e+00 - gen_F_loss: 0.0000e+00 - gen_G_loss: 0.0000e+00 - identity_loss: 0.0000e+00\n",
      "Epoch 94/150\n"
     ]
    },
    {
     "name": "stderr",
     "output_type": "stream",
     "text": [
      "2024-11-14 16:14:47.603764: I tensorflow/core/framework/local_rendezvous.cc:428] Local rendezvous send item cancelled. Key hash: 18396010607733563774\n",
      "2024-11-14 16:14:47.603813: I tensorflow/core/framework/local_rendezvous.cc:428] Local rendezvous send item cancelled. Key hash: 11613287781577413998\n",
      "2024-11-14 16:14:47.603818: I tensorflow/core/framework/local_rendezvous.cc:428] Local rendezvous send item cancelled. Key hash: 7472890618160129498\n",
      "2024-11-14 16:14:47.603822: I tensorflow/core/framework/local_rendezvous.cc:428] Local rendezvous send item cancelled. Key hash: 17036793392484136794\n",
      "2024-11-14 16:14:47.603824: I tensorflow/core/framework/local_rendezvous.cc:428] Local rendezvous send item cancelled. Key hash: 10235588183624701814\n",
      "2024-11-14 16:14:47.603826: I tensorflow/core/framework/local_rendezvous.cc:428] Local rendezvous send item cancelled. Key hash: 14947666519276538088\n",
      "2024-11-14 16:14:47.603829: I tensorflow/core/framework/local_rendezvous.cc:428] Local rendezvous send item cancelled. Key hash: 9978831291104332398\n",
      "2024-11-14 16:14:47.603831: I tensorflow/core/framework/local_rendezvous.cc:428] Local rendezvous send item cancelled. Key hash: 1500456805612943848\n",
      "2024-11-14 16:14:47.603834: I tensorflow/core/framework/local_rendezvous.cc:428] Local rendezvous send item cancelled. Key hash: 11194099802961485407\n"
     ]
    },
    {
     "name": "stdout",
     "output_type": "stream",
     "text": [
      "\u001b[1m296/300\u001b[0m \u001b[32m━━━━━━━━━━━━━━━━━━━\u001b[0m\u001b[37m━\u001b[0m \u001b[1m1s\u001b[0m 354ms/step - cycle_loss: 2.9440 - disc_X_loss: 0.5404 - disc_Y_loss: 0.5270 - gen_F_loss: 4.2060 - gen_G_loss: 4.2886 - identity_loss: 0.1993"
     ]
    },
    {
     "name": "stderr",
     "output_type": "stream",
     "text": [
      "2024-11-14 16:16:32.585417: W tensorflow/core/kernels/data/cache_dataset_ops.cc:914] The calling iterator did not fully read the dataset being cached. In order to avoid unexpected truncation of the dataset, the partially cached contents of the dataset  will be discarded. This can happen if you have an input pipeline similar to `dataset.cache().take(k).repeat()`. You should use `dataset.take(k).cache().repeat()` instead.\n"
     ]
    },
    {
     "name": "stdout",
     "output_type": "stream",
     "text": [
      "\u001b[1m300/300\u001b[0m \u001b[32m━━━━━━━━━━━━━━━━━━━━\u001b[0m\u001b[37m\u001b[0m \u001b[1m106s\u001b[0m 353ms/step - cycle_loss: 2.9442 - disc_X_loss: 0.5408 - disc_Y_loss: 0.5277 - gen_F_loss: 4.2059 - gen_G_loss: 4.2871 - identity_loss: 0.1994\n",
      "Epoch 95/150\n",
      "\u001b[1m300/300\u001b[0m \u001b[32m━━━━━━━━━━━━━━━━━━━━\u001b[0m\u001b[37m\u001b[0m \u001b[1m0s\u001b[0m 75us/step - cycle_loss: 0.0000e+00 - disc_X_loss: 0.0000e+00 - disc_Y_loss: 0.0000e+00 - gen_F_loss: 0.0000e+00 - gen_G_loss: 0.0000e+00 - identity_loss: 0.0000e+00\n",
      "Epoch 96/150\n"
     ]
    },
    {
     "name": "stderr",
     "output_type": "stream",
     "text": [
      "2024-11-14 16:16:33.929777: I tensorflow/core/framework/local_rendezvous.cc:428] Local rendezvous send item cancelled. Key hash: 18396010607733563774\n",
      "2024-11-14 16:16:33.929828: I tensorflow/core/framework/local_rendezvous.cc:428] Local rendezvous send item cancelled. Key hash: 11613287781577413998\n",
      "2024-11-14 16:16:33.929833: I tensorflow/core/framework/local_rendezvous.cc:428] Local rendezvous send item cancelled. Key hash: 7472890618160129498\n",
      "2024-11-14 16:16:33.929836: I tensorflow/core/framework/local_rendezvous.cc:428] Local rendezvous send item cancelled. Key hash: 17036793392484136794\n",
      "2024-11-14 16:16:33.929838: I tensorflow/core/framework/local_rendezvous.cc:428] Local rendezvous send item cancelled. Key hash: 10235588183624701814\n",
      "2024-11-14 16:16:33.929841: I tensorflow/core/framework/local_rendezvous.cc:428] Local rendezvous send item cancelled. Key hash: 14947666519276538088\n",
      "2024-11-14 16:16:33.929843: I tensorflow/core/framework/local_rendezvous.cc:428] Local rendezvous send item cancelled. Key hash: 9978831291104332398\n",
      "2024-11-14 16:16:33.929845: I tensorflow/core/framework/local_rendezvous.cc:428] Local rendezvous send item cancelled. Key hash: 1500456805612943848\n",
      "2024-11-14 16:16:33.929848: I tensorflow/core/framework/local_rendezvous.cc:428] Local rendezvous send item cancelled. Key hash: 11194099802961485407\n"
     ]
    },
    {
     "name": "stdout",
     "output_type": "stream",
     "text": [
      "\u001b[1m296/300\u001b[0m \u001b[32m━━━━━━━━━━━━━━━━━━━\u001b[0m\u001b[37m━\u001b[0m \u001b[1m1s\u001b[0m 352ms/step - cycle_loss: 2.9115 - disc_X_loss: 0.5837 - disc_Y_loss: 0.5103 - gen_F_loss: 4.0675 - gen_G_loss: 4.3159 - identity_loss: 0.2051"
     ]
    },
    {
     "name": "stderr",
     "output_type": "stream",
     "text": [
      "2024-11-14 16:18:18.404175: W tensorflow/core/kernels/data/cache_dataset_ops.cc:914] The calling iterator did not fully read the dataset being cached. In order to avoid unexpected truncation of the dataset, the partially cached contents of the dataset  will be discarded. This can happen if you have an input pipeline similar to `dataset.cache().take(k).repeat()`. You should use `dataset.take(k).cache().repeat()` instead.\n"
     ]
    },
    {
     "name": "stdout",
     "output_type": "stream",
     "text": [
      "\u001b[1m300/300\u001b[0m \u001b[32m━━━━━━━━━━━━━━━━━━━━\u001b[0m\u001b[37m\u001b[0m \u001b[1m106s\u001b[0m 351ms/step - cycle_loss: 2.9105 - disc_X_loss: 0.5838 - disc_Y_loss: 0.5106 - gen_F_loss: 4.0667 - gen_G_loss: 4.3140 - identity_loss: 0.2051\n",
      "Epoch 97/150\n",
      "\u001b[1m300/300\u001b[0m \u001b[32m━━━━━━━━━━━━━━━━━━━━\u001b[0m\u001b[37m\u001b[0m \u001b[1m0s\u001b[0m 161us/step - cycle_loss: 0.0000e+00 - disc_X_loss: 0.0000e+00 - disc_Y_loss: 0.0000e+00 - gen_F_loss: 0.0000e+00 - gen_G_loss: 0.0000e+00 - identity_loss: 0.0000e+00\n",
      "Epoch 98/150\n"
     ]
    },
    {
     "name": "stderr",
     "output_type": "stream",
     "text": [
      "2024-11-14 16:18:19.670014: I tensorflow/core/framework/local_rendezvous.cc:428] Local rendezvous send item cancelled. Key hash: 18396010607733563774\n",
      "2024-11-14 16:18:19.670097: I tensorflow/core/framework/local_rendezvous.cc:428] Local rendezvous send item cancelled. Key hash: 11613287781577413998\n",
      "2024-11-14 16:18:19.670103: I tensorflow/core/framework/local_rendezvous.cc:428] Local rendezvous send item cancelled. Key hash: 7472890618160129498\n",
      "2024-11-14 16:18:19.670106: I tensorflow/core/framework/local_rendezvous.cc:428] Local rendezvous send item cancelled. Key hash: 17036793392484136794\n",
      "2024-11-14 16:18:19.670109: I tensorflow/core/framework/local_rendezvous.cc:428] Local rendezvous send item cancelled. Key hash: 10235588183624701814\n",
      "2024-11-14 16:18:19.670113: I tensorflow/core/framework/local_rendezvous.cc:428] Local rendezvous send item cancelled. Key hash: 14947666519276538088\n",
      "2024-11-14 16:18:19.670116: I tensorflow/core/framework/local_rendezvous.cc:428] Local rendezvous send item cancelled. Key hash: 9978831291104332398\n",
      "2024-11-14 16:18:19.670119: I tensorflow/core/framework/local_rendezvous.cc:428] Local rendezvous send item cancelled. Key hash: 1500456805612943848\n",
      "2024-11-14 16:18:19.670123: I tensorflow/core/framework/local_rendezvous.cc:428] Local rendezvous send item cancelled. Key hash: 11194099802961485407\n"
     ]
    },
    {
     "name": "stdout",
     "output_type": "stream",
     "text": [
      "\u001b[1m296/300\u001b[0m \u001b[32m━━━━━━━━━━━━━━━━━━━\u001b[0m\u001b[37m━\u001b[0m \u001b[1m1s\u001b[0m 350ms/step - cycle_loss: 3.0216 - disc_X_loss: 0.5541 - disc_Y_loss: 0.5527 - gen_F_loss: 4.2228 - gen_G_loss: 4.3590 - identity_loss: 0.1998"
     ]
    },
    {
     "name": "stderr",
     "output_type": "stream",
     "text": [
      "2024-11-14 16:20:03.715163: W tensorflow/core/kernels/data/cache_dataset_ops.cc:914] The calling iterator did not fully read the dataset being cached. In order to avoid unexpected truncation of the dataset, the partially cached contents of the dataset  will be discarded. This can happen if you have an input pipeline similar to `dataset.cache().take(k).repeat()`. You should use `dataset.take(k).cache().repeat()` instead.\n"
     ]
    },
    {
     "name": "stdout",
     "output_type": "stream",
     "text": [
      "\u001b[1m300/300\u001b[0m \u001b[32m━━━━━━━━━━━━━━━━━━━━\u001b[0m\u001b[37m\u001b[0m \u001b[1m105s\u001b[0m 350ms/step - cycle_loss: 3.0203 - disc_X_loss: 0.5545 - disc_Y_loss: 0.5529 - gen_F_loss: 4.2212 - gen_G_loss: 4.3568 - identity_loss: 0.1998\n",
      "Epoch 99/150\n",
      "\u001b[1m300/300\u001b[0m \u001b[32m━━━━━━━━━━━━━━━━━━━━\u001b[0m\u001b[37m\u001b[0m \u001b[1m0s\u001b[0m 70us/step - cycle_loss: 0.0000e+00 - disc_X_loss: 0.0000e+00 - disc_Y_loss: 0.0000e+00 - gen_F_loss: 0.0000e+00 - gen_G_loss: 0.0000e+00 - identity_loss: 0.0000e+00\n",
      "Epoch 100/150\n"
     ]
    },
    {
     "name": "stderr",
     "output_type": "stream",
     "text": [
      "2024-11-14 16:20:05.004449: I tensorflow/core/framework/local_rendezvous.cc:428] Local rendezvous send item cancelled. Key hash: 18396010607733563774\n",
      "2024-11-14 16:20:05.004495: I tensorflow/core/framework/local_rendezvous.cc:428] Local rendezvous send item cancelled. Key hash: 11613287781577413998\n",
      "2024-11-14 16:20:05.004500: I tensorflow/core/framework/local_rendezvous.cc:428] Local rendezvous send item cancelled. Key hash: 7472890618160129498\n",
      "2024-11-14 16:20:05.004503: I tensorflow/core/framework/local_rendezvous.cc:428] Local rendezvous send item cancelled. Key hash: 17036793392484136794\n",
      "2024-11-14 16:20:05.004505: I tensorflow/core/framework/local_rendezvous.cc:428] Local rendezvous send item cancelled. Key hash: 10235588183624701814\n",
      "2024-11-14 16:20:05.004508: I tensorflow/core/framework/local_rendezvous.cc:428] Local rendezvous send item cancelled. Key hash: 14947666519276538088\n",
      "2024-11-14 16:20:05.004510: I tensorflow/core/framework/local_rendezvous.cc:428] Local rendezvous send item cancelled. Key hash: 9978831291104332398\n",
      "2024-11-14 16:20:05.004512: I tensorflow/core/framework/local_rendezvous.cc:428] Local rendezvous send item cancelled. Key hash: 1500456805612943848\n",
      "2024-11-14 16:20:05.004515: I tensorflow/core/framework/local_rendezvous.cc:428] Local rendezvous send item cancelled. Key hash: 11194099802961485407\n"
     ]
    },
    {
     "name": "stdout",
     "output_type": "stream",
     "text": [
      "\u001b[1m296/300\u001b[0m \u001b[32m━━━━━━━━━━━━━━━━━━━\u001b[0m\u001b[37m━\u001b[0m \u001b[1m1s\u001b[0m 352ms/step - cycle_loss: 2.8661 - disc_X_loss: 0.5633 - disc_Y_loss: 0.5415 - gen_F_loss: 4.0851 - gen_G_loss: 4.2117 - identity_loss: 0.2011"
     ]
    },
    {
     "name": "stderr",
     "output_type": "stream",
     "text": [
      "2024-11-14 16:21:49.465959: W tensorflow/core/kernels/data/cache_dataset_ops.cc:914] The calling iterator did not fully read the dataset being cached. In order to avoid unexpected truncation of the dataset, the partially cached contents of the dataset  will be discarded. This can happen if you have an input pipeline similar to `dataset.cache().take(k).repeat()`. You should use `dataset.take(k).cache().repeat()` instead.\n"
     ]
    },
    {
     "name": "stdout",
     "output_type": "stream",
     "text": [
      "\u001b[1m300/300\u001b[0m \u001b[32m━━━━━━━━━━━━━━━━━━━━\u001b[0m\u001b[37m\u001b[0m \u001b[1m106s\u001b[0m 351ms/step - cycle_loss: 2.8655 - disc_X_loss: 0.5634 - disc_Y_loss: 0.5423 - gen_F_loss: 4.0846 - gen_G_loss: 4.2095 - identity_loss: 0.2011\n",
      "Epoch 101/150\n",
      "\u001b[1m300/300\u001b[0m \u001b[32m━━━━━━━━━━━━━━━━━━━━\u001b[0m\u001b[37m\u001b[0m \u001b[1m0s\u001b[0m 77us/step - cycle_loss: 0.0000e+00 - disc_X_loss: 0.0000e+00 - disc_Y_loss: 0.0000e+00 - gen_F_loss: 0.0000e+00 - gen_G_loss: 0.0000e+00 - identity_loss: 0.0000e+00\n",
      "Epoch 102/150\n"
     ]
    },
    {
     "name": "stderr",
     "output_type": "stream",
     "text": [
      "2024-11-14 16:21:50.754046: I tensorflow/core/framework/local_rendezvous.cc:428] Local rendezvous send item cancelled. Key hash: 18396010607733563774\n",
      "2024-11-14 16:21:50.754086: I tensorflow/core/framework/local_rendezvous.cc:428] Local rendezvous send item cancelled. Key hash: 11613287781577413998\n",
      "2024-11-14 16:21:50.754091: I tensorflow/core/framework/local_rendezvous.cc:428] Local rendezvous send item cancelled. Key hash: 7472890618160129498\n",
      "2024-11-14 16:21:50.754093: I tensorflow/core/framework/local_rendezvous.cc:428] Local rendezvous send item cancelled. Key hash: 17036793392484136794\n",
      "2024-11-14 16:21:50.754096: I tensorflow/core/framework/local_rendezvous.cc:428] Local rendezvous send item cancelled. Key hash: 10235588183624701814\n",
      "2024-11-14 16:21:50.754098: I tensorflow/core/framework/local_rendezvous.cc:428] Local rendezvous send item cancelled. Key hash: 14947666519276538088\n",
      "2024-11-14 16:21:50.754100: I tensorflow/core/framework/local_rendezvous.cc:428] Local rendezvous send item cancelled. Key hash: 9978831291104332398\n",
      "2024-11-14 16:21:50.754102: I tensorflow/core/framework/local_rendezvous.cc:428] Local rendezvous send item cancelled. Key hash: 1500456805612943848\n",
      "2024-11-14 16:21:50.754105: I tensorflow/core/framework/local_rendezvous.cc:428] Local rendezvous send item cancelled. Key hash: 11194099802961485407\n"
     ]
    },
    {
     "name": "stdout",
     "output_type": "stream",
     "text": [
      "\u001b[1m296/300\u001b[0m \u001b[32m━━━━━━━━━━━━━━━━━━━\u001b[0m\u001b[37m━\u001b[0m \u001b[1m1s\u001b[0m 351ms/step - cycle_loss: 2.8325 - disc_X_loss: 0.5438 - disc_Y_loss: 0.5264 - gen_F_loss: 4.1171 - gen_G_loss: 4.1138 - identity_loss: 0.2061"
     ]
    },
    {
     "name": "stderr",
     "output_type": "stream",
     "text": [
      "2024-11-14 16:23:35.121422: W tensorflow/core/kernels/data/cache_dataset_ops.cc:914] The calling iterator did not fully read the dataset being cached. In order to avoid unexpected truncation of the dataset, the partially cached contents of the dataset  will be discarded. This can happen if you have an input pipeline similar to `dataset.cache().take(k).repeat()`. You should use `dataset.take(k).cache().repeat()` instead.\n"
     ]
    },
    {
     "name": "stdout",
     "output_type": "stream",
     "text": [
      "\u001b[1m300/300\u001b[0m \u001b[32m━━━━━━━━━━━━━━━━━━━━\u001b[0m\u001b[37m\u001b[0m \u001b[1m106s\u001b[0m 351ms/step - cycle_loss: 2.8329 - disc_X_loss: 0.5441 - disc_Y_loss: 0.5270 - gen_F_loss: 4.1170 - gen_G_loss: 4.1136 - identity_loss: 0.2061\n",
      "Epoch 103/150\n",
      "\u001b[1m300/300\u001b[0m \u001b[32m━━━━━━━━━━━━━━━━━━━━\u001b[0m\u001b[37m\u001b[0m \u001b[1m0s\u001b[0m 77us/step - cycle_loss: 0.0000e+00 - disc_X_loss: 0.0000e+00 - disc_Y_loss: 0.0000e+00 - gen_F_loss: 0.0000e+00 - gen_G_loss: 0.0000e+00 - identity_loss: 0.0000e+00\n",
      "Epoch 104/150\n"
     ]
    },
    {
     "name": "stderr",
     "output_type": "stream",
     "text": [
      "2024-11-14 16:23:36.403939: I tensorflow/core/framework/local_rendezvous.cc:428] Local rendezvous send item cancelled. Key hash: 18396010607733563774\n",
      "2024-11-14 16:23:36.403983: I tensorflow/core/framework/local_rendezvous.cc:428] Local rendezvous send item cancelled. Key hash: 11613287781577413998\n",
      "2024-11-14 16:23:36.403988: I tensorflow/core/framework/local_rendezvous.cc:428] Local rendezvous send item cancelled. Key hash: 7472890618160129498\n",
      "2024-11-14 16:23:36.403990: I tensorflow/core/framework/local_rendezvous.cc:428] Local rendezvous send item cancelled. Key hash: 17036793392484136794\n",
      "2024-11-14 16:23:36.403993: I tensorflow/core/framework/local_rendezvous.cc:428] Local rendezvous send item cancelled. Key hash: 10235588183624701814\n",
      "2024-11-14 16:23:36.403995: I tensorflow/core/framework/local_rendezvous.cc:428] Local rendezvous send item cancelled. Key hash: 14947666519276538088\n",
      "2024-11-14 16:23:36.403997: I tensorflow/core/framework/local_rendezvous.cc:428] Local rendezvous send item cancelled. Key hash: 9978831291104332398\n",
      "2024-11-14 16:23:36.404000: I tensorflow/core/framework/local_rendezvous.cc:428] Local rendezvous send item cancelled. Key hash: 1500456805612943848\n",
      "2024-11-14 16:23:36.404002: I tensorflow/core/framework/local_rendezvous.cc:428] Local rendezvous send item cancelled. Key hash: 11194099802961485407\n"
     ]
    },
    {
     "name": "stdout",
     "output_type": "stream",
     "text": [
      "\u001b[1m297/300\u001b[0m \u001b[32m━━━━━━━━━━━━━━━━━━━\u001b[0m\u001b[37m━\u001b[0m \u001b[1m1s\u001b[0m 351ms/step - cycle_loss: 2.8625 - disc_X_loss: 0.5800 - disc_Y_loss: 0.5467 - gen_F_loss: 4.0784 - gen_G_loss: 4.1463 - identity_loss: 0.2097"
     ]
    },
    {
     "name": "stderr",
     "output_type": "stream",
     "text": [
      "2024-11-14 16:25:20.962464: W tensorflow/core/kernels/data/cache_dataset_ops.cc:914] The calling iterator did not fully read the dataset being cached. In order to avoid unexpected truncation of the dataset, the partially cached contents of the dataset  will be discarded. This can happen if you have an input pipeline similar to `dataset.cache().take(k).repeat()`. You should use `dataset.take(k).cache().repeat()` instead.\n"
     ]
    },
    {
     "name": "stdout",
     "output_type": "stream",
     "text": [
      "\u001b[1m300/300\u001b[0m \u001b[32m━━━━━━━━━━━━━━━━━━━━\u001b[0m\u001b[37m\u001b[0m \u001b[1m105s\u001b[0m 351ms/step - cycle_loss: 2.8612 - disc_X_loss: 0.5801 - disc_Y_loss: 0.5470 - gen_F_loss: 4.0767 - gen_G_loss: 4.1443 - identity_loss: 0.2097\n",
      "Epoch 105/150\n",
      "\u001b[1m300/300\u001b[0m \u001b[32m━━━━━━━━━━━━━━━━━━━━\u001b[0m\u001b[37m\u001b[0m \u001b[1m0s\u001b[0m 96us/step - cycle_loss: 0.0000e+00 - disc_X_loss: 0.0000e+00 - disc_Y_loss: 0.0000e+00 - gen_F_loss: 0.0000e+00 - gen_G_loss: 0.0000e+00 - identity_loss: 0.0000e+00\n",
      "Epoch 106/150\n"
     ]
    },
    {
     "name": "stderr",
     "output_type": "stream",
     "text": [
      "2024-11-14 16:25:21.939357: I tensorflow/core/framework/local_rendezvous.cc:428] Local rendezvous send item cancelled. Key hash: 18396010607733563774\n",
      "2024-11-14 16:25:21.939413: I tensorflow/core/framework/local_rendezvous.cc:428] Local rendezvous send item cancelled. Key hash: 11613287781577413998\n",
      "2024-11-14 16:25:21.939418: I tensorflow/core/framework/local_rendezvous.cc:428] Local rendezvous send item cancelled. Key hash: 7472890618160129498\n",
      "2024-11-14 16:25:21.939420: I tensorflow/core/framework/local_rendezvous.cc:428] Local rendezvous send item cancelled. Key hash: 17036793392484136794\n",
      "2024-11-14 16:25:21.939423: I tensorflow/core/framework/local_rendezvous.cc:428] Local rendezvous send item cancelled. Key hash: 10235588183624701814\n",
      "2024-11-14 16:25:21.939425: I tensorflow/core/framework/local_rendezvous.cc:428] Local rendezvous send item cancelled. Key hash: 14947666519276538088\n",
      "2024-11-14 16:25:21.939428: I tensorflow/core/framework/local_rendezvous.cc:428] Local rendezvous send item cancelled. Key hash: 9978831291104332398\n",
      "2024-11-14 16:25:21.939430: I tensorflow/core/framework/local_rendezvous.cc:428] Local rendezvous send item cancelled. Key hash: 1500456805612943848\n",
      "2024-11-14 16:25:21.939432: I tensorflow/core/framework/local_rendezvous.cc:428] Local rendezvous send item cancelled. Key hash: 11194099802961485407\n"
     ]
    },
    {
     "name": "stdout",
     "output_type": "stream",
     "text": [
      "\u001b[1m296/300\u001b[0m \u001b[32m━━━━━━━━━━━━━━━━━━━\u001b[0m\u001b[37m━\u001b[0m \u001b[1m1s\u001b[0m 351ms/step - cycle_loss: 2.7664 - disc_X_loss: 0.5617 - disc_Y_loss: 0.4993 - gen_F_loss: 4.0227 - gen_G_loss: 4.1388 - identity_loss: 0.2039"
     ]
    },
    {
     "name": "stderr",
     "output_type": "stream",
     "text": [
      "2024-11-14 16:27:06.234256: W tensorflow/core/kernels/data/cache_dataset_ops.cc:914] The calling iterator did not fully read the dataset being cached. In order to avoid unexpected truncation of the dataset, the partially cached contents of the dataset  will be discarded. This can happen if you have an input pipeline similar to `dataset.cache().take(k).repeat()`. You should use `dataset.take(k).cache().repeat()` instead.\n"
     ]
    },
    {
     "name": "stdout",
     "output_type": "stream",
     "text": [
      "\u001b[1m300/300\u001b[0m \u001b[32m━━━━━━━━━━━━━━━━━━━━\u001b[0m\u001b[37m\u001b[0m \u001b[1m106s\u001b[0m 351ms/step - cycle_loss: 2.7659 - disc_X_loss: 0.5619 - disc_Y_loss: 0.5000 - gen_F_loss: 4.0216 - gen_G_loss: 4.1373 - identity_loss: 0.2038\n",
      "Epoch 107/150\n",
      "\u001b[1m300/300\u001b[0m \u001b[32m━━━━━━━━━━━━━━━━━━━━\u001b[0m\u001b[37m\u001b[0m \u001b[1m0s\u001b[0m 99us/step - cycle_loss: 0.0000e+00 - disc_X_loss: 0.0000e+00 - disc_Y_loss: 0.0000e+00 - gen_F_loss: 0.0000e+00 - gen_G_loss: 0.0000e+00 - identity_loss: 0.0000e+00\n",
      "Epoch 108/150\n"
     ]
    },
    {
     "name": "stderr",
     "output_type": "stream",
     "text": [
      "2024-11-14 16:27:07.549960: I tensorflow/core/framework/local_rendezvous.cc:428] Local rendezvous send item cancelled. Key hash: 18396010607733563774\n",
      "2024-11-14 16:27:07.550005: I tensorflow/core/framework/local_rendezvous.cc:428] Local rendezvous send item cancelled. Key hash: 11613287781577413998\n",
      "2024-11-14 16:27:07.550010: I tensorflow/core/framework/local_rendezvous.cc:428] Local rendezvous send item cancelled. Key hash: 7472890618160129498\n",
      "2024-11-14 16:27:07.550013: I tensorflow/core/framework/local_rendezvous.cc:428] Local rendezvous send item cancelled. Key hash: 17036793392484136794\n",
      "2024-11-14 16:27:07.550015: I tensorflow/core/framework/local_rendezvous.cc:428] Local rendezvous send item cancelled. Key hash: 10235588183624701814\n",
      "2024-11-14 16:27:07.550017: I tensorflow/core/framework/local_rendezvous.cc:428] Local rendezvous send item cancelled. Key hash: 14947666519276538088\n",
      "2024-11-14 16:27:07.550020: I tensorflow/core/framework/local_rendezvous.cc:428] Local rendezvous send item cancelled. Key hash: 9978831291104332398\n",
      "2024-11-14 16:27:07.550022: I tensorflow/core/framework/local_rendezvous.cc:428] Local rendezvous send item cancelled. Key hash: 1500456805612943848\n",
      "2024-11-14 16:27:07.550025: I tensorflow/core/framework/local_rendezvous.cc:428] Local rendezvous send item cancelled. Key hash: 11194099802961485407\n"
     ]
    },
    {
     "name": "stdout",
     "output_type": "stream",
     "text": [
      "\u001b[1m296/300\u001b[0m \u001b[32m━━━━━━━━━━━━━━━━━━━\u001b[0m\u001b[37m━\u001b[0m \u001b[1m1s\u001b[0m 351ms/step - cycle_loss: 2.7452 - disc_X_loss: 0.5802 - disc_Y_loss: 0.5719 - gen_F_loss: 3.9343 - gen_G_loss: 3.9768 - identity_loss: 0.2006"
     ]
    },
    {
     "name": "stderr",
     "output_type": "stream",
     "text": [
      "2024-11-14 16:28:51.713221: W tensorflow/core/kernels/data/cache_dataset_ops.cc:914] The calling iterator did not fully read the dataset being cached. In order to avoid unexpected truncation of the dataset, the partially cached contents of the dataset  will be discarded. This can happen if you have an input pipeline similar to `dataset.cache().take(k).repeat()`. You should use `dataset.take(k).cache().repeat()` instead.\n"
     ]
    },
    {
     "name": "stdout",
     "output_type": "stream",
     "text": [
      "\u001b[1m300/300\u001b[0m \u001b[32m━━━━━━━━━━━━━━━━━━━━\u001b[0m\u001b[37m\u001b[0m \u001b[1m105s\u001b[0m 350ms/step - cycle_loss: 2.7446 - disc_X_loss: 0.5804 - disc_Y_loss: 0.5719 - gen_F_loss: 3.9335 - gen_G_loss: 3.9757 - identity_loss: 0.2006\n",
      "Epoch 109/150\n",
      "\u001b[1m300/300\u001b[0m \u001b[32m━━━━━━━━━━━━━━━━━━━━\u001b[0m\u001b[37m\u001b[0m \u001b[1m0s\u001b[0m 156us/step - cycle_loss: 0.0000e+00 - disc_X_loss: 0.0000e+00 - disc_Y_loss: 0.0000e+00 - gen_F_loss: 0.0000e+00 - gen_G_loss: 0.0000e+00 - identity_loss: 0.0000e+00\n",
      "Epoch 110/150\n"
     ]
    },
    {
     "name": "stderr",
     "output_type": "stream",
     "text": [
      "2024-11-14 16:28:52.984600: I tensorflow/core/framework/local_rendezvous.cc:428] Local rendezvous send item cancelled. Key hash: 18396010607733563774\n",
      "2024-11-14 16:28:52.984648: I tensorflow/core/framework/local_rendezvous.cc:428] Local rendezvous send item cancelled. Key hash: 11613287781577413998\n",
      "2024-11-14 16:28:52.984653: I tensorflow/core/framework/local_rendezvous.cc:428] Local rendezvous send item cancelled. Key hash: 7472890618160129498\n",
      "2024-11-14 16:28:52.984656: I tensorflow/core/framework/local_rendezvous.cc:428] Local rendezvous send item cancelled. Key hash: 17036793392484136794\n",
      "2024-11-14 16:28:52.984658: I tensorflow/core/framework/local_rendezvous.cc:428] Local rendezvous send item cancelled. Key hash: 10235588183624701814\n",
      "2024-11-14 16:28:52.984660: I tensorflow/core/framework/local_rendezvous.cc:428] Local rendezvous send item cancelled. Key hash: 14947666519276538088\n",
      "2024-11-14 16:28:52.984663: I tensorflow/core/framework/local_rendezvous.cc:428] Local rendezvous send item cancelled. Key hash: 9978831291104332398\n",
      "2024-11-14 16:28:52.984665: I tensorflow/core/framework/local_rendezvous.cc:428] Local rendezvous send item cancelled. Key hash: 1500456805612943848\n",
      "2024-11-14 16:28:52.984668: I tensorflow/core/framework/local_rendezvous.cc:428] Local rendezvous send item cancelled. Key hash: 11194099802961485407\n"
     ]
    },
    {
     "name": "stdout",
     "output_type": "stream",
     "text": [
      "\u001b[1m296/300\u001b[0m \u001b[32m━━━━━━━━━━━━━━━━━━━\u001b[0m\u001b[37m━\u001b[0m \u001b[1m1s\u001b[0m 350ms/step - cycle_loss: 2.9169 - disc_X_loss: 0.5565 - disc_Y_loss: 0.5744 - gen_F_loss: 4.1342 - gen_G_loss: 4.1341 - identity_loss: 0.2020"
     ]
    },
    {
     "name": "stderr",
     "output_type": "stream",
     "text": [
      "2024-11-14 16:30:36.951918: W tensorflow/core/kernels/data/cache_dataset_ops.cc:914] The calling iterator did not fully read the dataset being cached. In order to avoid unexpected truncation of the dataset, the partially cached contents of the dataset  will be discarded. This can happen if you have an input pipeline similar to `dataset.cache().take(k).repeat()`. You should use `dataset.take(k).cache().repeat()` instead.\n"
     ]
    },
    {
     "name": "stdout",
     "output_type": "stream",
     "text": [
      "\u001b[1m300/300\u001b[0m \u001b[32m━━━━━━━━━━━━━━━━━━━━\u001b[0m\u001b[37m\u001b[0m \u001b[1m105s\u001b[0m 350ms/step - cycle_loss: 2.9143 - disc_X_loss: 0.5567 - disc_Y_loss: 0.5749 - gen_F_loss: 4.1314 - gen_G_loss: 4.1305 - identity_loss: 0.2020\n",
      "Epoch 111/150\n",
      "\u001b[1m300/300\u001b[0m \u001b[32m━━━━━━━━━━━━━━━━━━━━\u001b[0m\u001b[37m\u001b[0m \u001b[1m0s\u001b[0m 77us/step - cycle_loss: 0.0000e+00 - disc_X_loss: 0.0000e+00 - disc_Y_loss: 0.0000e+00 - gen_F_loss: 0.0000e+00 - gen_G_loss: 0.0000e+00 - identity_loss: 0.0000e+00\n",
      "Epoch 112/150\n"
     ]
    },
    {
     "name": "stderr",
     "output_type": "stream",
     "text": [
      "2024-11-14 16:30:38.263253: I tensorflow/core/framework/local_rendezvous.cc:428] Local rendezvous send item cancelled. Key hash: 18396010607733563774\n",
      "2024-11-14 16:30:38.263298: I tensorflow/core/framework/local_rendezvous.cc:428] Local rendezvous send item cancelled. Key hash: 11613287781577413998\n",
      "2024-11-14 16:30:38.263303: I tensorflow/core/framework/local_rendezvous.cc:428] Local rendezvous send item cancelled. Key hash: 7472890618160129498\n",
      "2024-11-14 16:30:38.263306: I tensorflow/core/framework/local_rendezvous.cc:428] Local rendezvous send item cancelled. Key hash: 17036793392484136794\n",
      "2024-11-14 16:30:38.263308: I tensorflow/core/framework/local_rendezvous.cc:428] Local rendezvous send item cancelled. Key hash: 10235588183624701814\n",
      "2024-11-14 16:30:38.263310: I tensorflow/core/framework/local_rendezvous.cc:428] Local rendezvous send item cancelled. Key hash: 14947666519276538088\n",
      "2024-11-14 16:30:38.263313: I tensorflow/core/framework/local_rendezvous.cc:428] Local rendezvous send item cancelled. Key hash: 9978831291104332398\n",
      "2024-11-14 16:30:38.263315: I tensorflow/core/framework/local_rendezvous.cc:428] Local rendezvous send item cancelled. Key hash: 1500456805612943848\n",
      "2024-11-14 16:30:38.263318: I tensorflow/core/framework/local_rendezvous.cc:428] Local rendezvous send item cancelled. Key hash: 11194099802961485407\n"
     ]
    },
    {
     "name": "stdout",
     "output_type": "stream",
     "text": [
      "\u001b[1m296/300\u001b[0m \u001b[32m━━━━━━━━━━━━━━━━━━━\u001b[0m\u001b[37m━\u001b[0m \u001b[1m1s\u001b[0m 358ms/step - cycle_loss: 2.8070 - disc_X_loss: 0.5414 - disc_Y_loss: 0.5572 - gen_F_loss: 4.0645 - gen_G_loss: 4.0667 - identity_loss: 0.2063"
     ]
    },
    {
     "name": "stderr",
     "output_type": "stream",
     "text": [
      "2024-11-14 16:32:24.451075: W tensorflow/core/kernels/data/cache_dataset_ops.cc:914] The calling iterator did not fully read the dataset being cached. In order to avoid unexpected truncation of the dataset, the partially cached contents of the dataset  will be discarded. This can happen if you have an input pipeline similar to `dataset.cache().take(k).repeat()`. You should use `dataset.take(k).cache().repeat()` instead.\n"
     ]
    },
    {
     "name": "stdout",
     "output_type": "stream",
     "text": [
      "\u001b[1m300/300\u001b[0m \u001b[32m━━━━━━━━━━━━━━━━━━━━\u001b[0m\u001b[37m\u001b[0m \u001b[1m107s\u001b[0m 357ms/step - cycle_loss: 2.8068 - disc_X_loss: 0.5417 - disc_Y_loss: 0.5576 - gen_F_loss: 4.0643 - gen_G_loss: 4.0659 - identity_loss: 0.2063\n",
      "Epoch 113/150\n",
      "\u001b[1m300/300\u001b[0m \u001b[32m━━━━━━━━━━━━━━━━━━━━\u001b[0m\u001b[37m\u001b[0m \u001b[1m0s\u001b[0m 74us/step - cycle_loss: 0.0000e+00 - disc_X_loss: 0.0000e+00 - disc_Y_loss: 0.0000e+00 - gen_F_loss: 0.0000e+00 - gen_G_loss: 0.0000e+00 - identity_loss: 0.0000e+00\n",
      "Epoch 114/150\n"
     ]
    },
    {
     "name": "stderr",
     "output_type": "stream",
     "text": [
      "2024-11-14 16:32:25.711027: I tensorflow/core/framework/local_rendezvous.cc:428] Local rendezvous send item cancelled. Key hash: 18396010607733563774\n",
      "2024-11-14 16:32:25.711076: I tensorflow/core/framework/local_rendezvous.cc:428] Local rendezvous send item cancelled. Key hash: 11613287781577413998\n",
      "2024-11-14 16:32:25.711083: I tensorflow/core/framework/local_rendezvous.cc:428] Local rendezvous send item cancelled. Key hash: 7472890618160129498\n",
      "2024-11-14 16:32:25.711087: I tensorflow/core/framework/local_rendezvous.cc:428] Local rendezvous send item cancelled. Key hash: 17036793392484136794\n",
      "2024-11-14 16:32:25.711090: I tensorflow/core/framework/local_rendezvous.cc:428] Local rendezvous send item cancelled. Key hash: 10235588183624701814\n",
      "2024-11-14 16:32:25.711094: I tensorflow/core/framework/local_rendezvous.cc:428] Local rendezvous send item cancelled. Key hash: 14947666519276538088\n",
      "2024-11-14 16:32:25.711097: I tensorflow/core/framework/local_rendezvous.cc:428] Local rendezvous send item cancelled. Key hash: 9978831291104332398\n",
      "2024-11-14 16:32:25.711101: I tensorflow/core/framework/local_rendezvous.cc:428] Local rendezvous send item cancelled. Key hash: 1500456805612943848\n",
      "2024-11-14 16:32:25.711104: I tensorflow/core/framework/local_rendezvous.cc:428] Local rendezvous send item cancelled. Key hash: 11194099802961485407\n"
     ]
    },
    {
     "name": "stdout",
     "output_type": "stream",
     "text": [
      "\u001b[1m296/300\u001b[0m \u001b[32m━━━━━━━━━━━━━━━━━━━\u001b[0m\u001b[37m━\u001b[0m \u001b[1m1s\u001b[0m 338ms/step - cycle_loss: 2.6992 - disc_X_loss: 0.5658 - disc_Y_loss: 0.5664 - gen_F_loss: 3.9250 - gen_G_loss: 3.9086 - identity_loss: 0.1938"
     ]
    },
    {
     "name": "stderr",
     "output_type": "stream",
     "text": [
      "2024-11-14 16:34:05.958944: W tensorflow/core/kernels/data/cache_dataset_ops.cc:914] The calling iterator did not fully read the dataset being cached. In order to avoid unexpected truncation of the dataset, the partially cached contents of the dataset  will be discarded. This can happen if you have an input pipeline similar to `dataset.cache().take(k).repeat()`. You should use `dataset.take(k).cache().repeat()` instead.\n"
     ]
    },
    {
     "name": "stdout",
     "output_type": "stream",
     "text": [
      "\u001b[1m300/300\u001b[0m \u001b[32m━━━━━━━━━━━━━━━━━━━━\u001b[0m\u001b[37m\u001b[0m \u001b[1m105s\u001b[0m 349ms/step - cycle_loss: 2.6987 - disc_X_loss: 0.5662 - disc_Y_loss: 0.5667 - gen_F_loss: 3.9241 - gen_G_loss: 3.9077 - identity_loss: 0.1939\n",
      "Epoch 115/150\n",
      "\u001b[1m300/300\u001b[0m \u001b[32m━━━━━━━━━━━━━━━━━━━━\u001b[0m\u001b[37m\u001b[0m \u001b[1m0s\u001b[0m 81us/step - cycle_loss: 0.0000e+00 - disc_X_loss: 0.0000e+00 - disc_Y_loss: 0.0000e+00 - gen_F_loss: 0.0000e+00 - gen_G_loss: 0.0000e+00 - identity_loss: 0.0000e+00\n",
      "Epoch 116/150\n"
     ]
    },
    {
     "name": "stderr",
     "output_type": "stream",
     "text": [
      "2024-11-14 16:34:10.826825: I tensorflow/core/framework/local_rendezvous.cc:428] Local rendezvous send item cancelled. Key hash: 18396010607733563774\n",
      "2024-11-14 16:34:10.826871: I tensorflow/core/framework/local_rendezvous.cc:428] Local rendezvous send item cancelled. Key hash: 11613287781577413998\n",
      "2024-11-14 16:34:10.826876: I tensorflow/core/framework/local_rendezvous.cc:428] Local rendezvous send item cancelled. Key hash: 7472890618160129498\n",
      "2024-11-14 16:34:10.826879: I tensorflow/core/framework/local_rendezvous.cc:428] Local rendezvous send item cancelled. Key hash: 17036793392484136794\n",
      "2024-11-14 16:34:10.826886: I tensorflow/core/framework/local_rendezvous.cc:428] Local rendezvous send item cancelled. Key hash: 10235588183624701814\n",
      "2024-11-14 16:34:10.826889: I tensorflow/core/framework/local_rendezvous.cc:428] Local rendezvous send item cancelled. Key hash: 14947666519276538088\n",
      "2024-11-14 16:34:10.826891: I tensorflow/core/framework/local_rendezvous.cc:428] Local rendezvous send item cancelled. Key hash: 9978831291104332398\n",
      "2024-11-14 16:34:10.826893: I tensorflow/core/framework/local_rendezvous.cc:428] Local rendezvous send item cancelled. Key hash: 1500456805612943848\n",
      "2024-11-14 16:34:10.826897: I tensorflow/core/framework/local_rendezvous.cc:428] Local rendezvous send item cancelled. Key hash: 11194099802961485407\n"
     ]
    },
    {
     "name": "stdout",
     "output_type": "stream",
     "text": [
      "\u001b[1m296/300\u001b[0m \u001b[32m━━━━━━━━━━━━━━━━━━━\u001b[0m\u001b[37m━\u001b[0m \u001b[1m1s\u001b[0m 339ms/step - cycle_loss: 2.6310 - disc_X_loss: 0.5538 - disc_Y_loss: 0.5708 - gen_F_loss: 3.8275 - gen_G_loss: 3.8331 - identity_loss: 0.1877"
     ]
    },
    {
     "name": "stderr",
     "output_type": "stream",
     "text": [
      "2024-11-14 16:35:51.652405: W tensorflow/core/kernels/data/cache_dataset_ops.cc:914] The calling iterator did not fully read the dataset being cached. In order to avoid unexpected truncation of the dataset, the partially cached contents of the dataset  will be discarded. This can happen if you have an input pipeline similar to `dataset.cache().take(k).repeat()`. You should use `dataset.take(k).cache().repeat()` instead.\n"
     ]
    },
    {
     "name": "stdout",
     "output_type": "stream",
     "text": [
      "\u001b[1m300/300\u001b[0m \u001b[32m━━━━━━━━━━━━━━━━━━━━\u001b[0m\u001b[37m\u001b[0m \u001b[1m102s\u001b[0m 339ms/step - cycle_loss: 2.6308 - disc_X_loss: 0.5541 - disc_Y_loss: 0.5713 - gen_F_loss: 3.8272 - gen_G_loss: 3.8320 - identity_loss: 0.1878\n",
      "Epoch 117/150\n",
      "\u001b[1m300/300\u001b[0m \u001b[32m━━━━━━━━━━━━━━━━━━━━\u001b[0m\u001b[37m\u001b[0m \u001b[1m0s\u001b[0m 76us/step - cycle_loss: 0.0000e+00 - disc_X_loss: 0.0000e+00 - disc_Y_loss: 0.0000e+00 - gen_F_loss: 0.0000e+00 - gen_G_loss: 0.0000e+00 - identity_loss: 0.0000e+00\n",
      "Epoch 118/150\n"
     ]
    },
    {
     "name": "stderr",
     "output_type": "stream",
     "text": [
      "2024-11-14 16:35:52.919815: I tensorflow/core/framework/local_rendezvous.cc:428] Local rendezvous send item cancelled. Key hash: 18396010607733563774\n",
      "2024-11-14 16:35:52.919873: I tensorflow/core/framework/local_rendezvous.cc:428] Local rendezvous send item cancelled. Key hash: 11613287781577413998\n",
      "2024-11-14 16:35:52.919878: I tensorflow/core/framework/local_rendezvous.cc:428] Local rendezvous send item cancelled. Key hash: 7472890618160129498\n",
      "2024-11-14 16:35:52.919881: I tensorflow/core/framework/local_rendezvous.cc:428] Local rendezvous send item cancelled. Key hash: 17036793392484136794\n",
      "2024-11-14 16:35:52.919883: I tensorflow/core/framework/local_rendezvous.cc:428] Local rendezvous send item cancelled. Key hash: 10235588183624701814\n",
      "2024-11-14 16:35:52.919886: I tensorflow/core/framework/local_rendezvous.cc:428] Local rendezvous send item cancelled. Key hash: 14947666519276538088\n",
      "2024-11-14 16:35:52.919888: I tensorflow/core/framework/local_rendezvous.cc:428] Local rendezvous send item cancelled. Key hash: 9978831291104332398\n",
      "2024-11-14 16:35:52.919890: I tensorflow/core/framework/local_rendezvous.cc:428] Local rendezvous send item cancelled. Key hash: 1500456805612943848\n",
      "2024-11-14 16:35:52.919893: I tensorflow/core/framework/local_rendezvous.cc:428] Local rendezvous send item cancelled. Key hash: 11194099802961485407\n"
     ]
    },
    {
     "name": "stdout",
     "output_type": "stream",
     "text": [
      "\u001b[1m297/300\u001b[0m \u001b[32m━━━━━━━━━━━━━━━━━━━\u001b[0m\u001b[37m━\u001b[0m \u001b[1m1s\u001b[0m 348ms/step - cycle_loss: 2.7203 - disc_X_loss: 0.5564 - disc_Y_loss: 0.5828 - gen_F_loss: 3.9735 - gen_G_loss: 3.9199 - identity_loss: 0.1922"
     ]
    },
    {
     "name": "stderr",
     "output_type": "stream",
     "text": [
      "2024-11-14 16:37:36.676569: W tensorflow/core/kernels/data/cache_dataset_ops.cc:914] The calling iterator did not fully read the dataset being cached. In order to avoid unexpected truncation of the dataset, the partially cached contents of the dataset  will be discarded. This can happen if you have an input pipeline similar to `dataset.cache().take(k).repeat()`. You should use `dataset.take(k).cache().repeat()` instead.\n"
     ]
    },
    {
     "name": "stdout",
     "output_type": "stream",
     "text": [
      "\u001b[1m300/300\u001b[0m \u001b[32m━━━━━━━━━━━━━━━━━━━━\u001b[0m\u001b[37m\u001b[0m \u001b[1m105s\u001b[0m 348ms/step - cycle_loss: 2.7196 - disc_X_loss: 0.5566 - disc_Y_loss: 0.5830 - gen_F_loss: 3.9723 - gen_G_loss: 3.9184 - identity_loss: 0.1922\n",
      "Epoch 119/150\n",
      "\u001b[1m300/300\u001b[0m \u001b[32m━━━━━━━━━━━━━━━━━━━━\u001b[0m\u001b[37m\u001b[0m \u001b[1m0s\u001b[0m 73us/step - cycle_loss: 0.0000e+00 - disc_X_loss: 0.0000e+00 - disc_Y_loss: 0.0000e+00 - gen_F_loss: 0.0000e+00 - gen_G_loss: 0.0000e+00 - identity_loss: 0.0000e+00\n",
      "Epoch 120/150\n"
     ]
    },
    {
     "name": "stderr",
     "output_type": "stream",
     "text": [
      "2024-11-14 16:37:37.649762: I tensorflow/core/framework/local_rendezvous.cc:428] Local rendezvous send item cancelled. Key hash: 18396010607733563774\n",
      "2024-11-14 16:37:37.649823: I tensorflow/core/framework/local_rendezvous.cc:428] Local rendezvous send item cancelled. Key hash: 11613287781577413998\n",
      "2024-11-14 16:37:37.649828: I tensorflow/core/framework/local_rendezvous.cc:428] Local rendezvous send item cancelled. Key hash: 7472890618160129498\n",
      "2024-11-14 16:37:37.649830: I tensorflow/core/framework/local_rendezvous.cc:428] Local rendezvous send item cancelled. Key hash: 17036793392484136794\n",
      "2024-11-14 16:37:37.649833: I tensorflow/core/framework/local_rendezvous.cc:428] Local rendezvous send item cancelled. Key hash: 10235588183624701814\n",
      "2024-11-14 16:37:37.649835: I tensorflow/core/framework/local_rendezvous.cc:428] Local rendezvous send item cancelled. Key hash: 14947666519276538088\n",
      "2024-11-14 16:37:37.649838: I tensorflow/core/framework/local_rendezvous.cc:428] Local rendezvous send item cancelled. Key hash: 9978831291104332398\n",
      "2024-11-14 16:37:37.649840: I tensorflow/core/framework/local_rendezvous.cc:428] Local rendezvous send item cancelled. Key hash: 1500456805612943848\n",
      "2024-11-14 16:37:37.649843: I tensorflow/core/framework/local_rendezvous.cc:428] Local rendezvous send item cancelled. Key hash: 11194099802961485407\n"
     ]
    },
    {
     "name": "stdout",
     "output_type": "stream",
     "text": [
      "\u001b[1m297/300\u001b[0m \u001b[32m━━━━━━━━━━━━━━━━━━━\u001b[0m\u001b[37m━\u001b[0m \u001b[1m1s\u001b[0m 350ms/step - cycle_loss: 2.5978 - disc_X_loss: 0.5842 - disc_Y_loss: 0.5960 - gen_F_loss: 3.8011 - gen_G_loss: 3.7544 - identity_loss: 0.2036"
     ]
    },
    {
     "name": "stderr",
     "output_type": "stream",
     "text": [
      "2024-11-14 16:39:22.055533: W tensorflow/core/kernels/data/cache_dataset_ops.cc:914] The calling iterator did not fully read the dataset being cached. In order to avoid unexpected truncation of the dataset, the partially cached contents of the dataset  will be discarded. This can happen if you have an input pipeline similar to `dataset.cache().take(k).repeat()`. You should use `dataset.take(k).cache().repeat()` instead.\n"
     ]
    },
    {
     "name": "stdout",
     "output_type": "stream",
     "text": [
      "\u001b[1m300/300\u001b[0m \u001b[32m━━━━━━━━━━━━━━━━━━━━\u001b[0m\u001b[37m\u001b[0m \u001b[1m105s\u001b[0m 350ms/step - cycle_loss: 2.5978 - disc_X_loss: 0.5841 - disc_Y_loss: 0.5962 - gen_F_loss: 3.8011 - gen_G_loss: 3.7540 - identity_loss: 0.2036\n",
      "Epoch 121/150\n",
      "\u001b[1m300/300\u001b[0m \u001b[32m━━━━━━━━━━━━━━━━━━━━\u001b[0m\u001b[37m\u001b[0m \u001b[1m0s\u001b[0m 81us/step - cycle_loss: 0.0000e+00 - disc_X_loss: 0.0000e+00 - disc_Y_loss: 0.0000e+00 - gen_F_loss: 0.0000e+00 - gen_G_loss: 0.0000e+00 - identity_loss: 0.0000e+00\n",
      "Epoch 122/150\n"
     ]
    },
    {
     "name": "stderr",
     "output_type": "stream",
     "text": [
      "2024-11-14 16:39:22.999898: I tensorflow/core/framework/local_rendezvous.cc:428] Local rendezvous send item cancelled. Key hash: 18396010607733563774\n",
      "2024-11-14 16:39:22.999926: I tensorflow/core/framework/local_rendezvous.cc:428] Local rendezvous send item cancelled. Key hash: 11613287781577413998\n",
      "2024-11-14 16:39:22.999930: I tensorflow/core/framework/local_rendezvous.cc:428] Local rendezvous send item cancelled. Key hash: 7472890618160129498\n",
      "2024-11-14 16:39:22.999932: I tensorflow/core/framework/local_rendezvous.cc:428] Local rendezvous send item cancelled. Key hash: 17036793392484136794\n",
      "2024-11-14 16:39:22.999935: I tensorflow/core/framework/local_rendezvous.cc:428] Local rendezvous send item cancelled. Key hash: 10235588183624701814\n",
      "2024-11-14 16:39:22.999937: I tensorflow/core/framework/local_rendezvous.cc:428] Local rendezvous send item cancelled. Key hash: 14947666519276538088\n",
      "2024-11-14 16:39:22.999939: I tensorflow/core/framework/local_rendezvous.cc:428] Local rendezvous send item cancelled. Key hash: 9978831291104332398\n",
      "2024-11-14 16:39:22.999941: I tensorflow/core/framework/local_rendezvous.cc:428] Local rendezvous send item cancelled. Key hash: 1500456805612943848\n",
      "2024-11-14 16:39:22.999944: I tensorflow/core/framework/local_rendezvous.cc:428] Local rendezvous send item cancelled. Key hash: 11194099802961485407\n"
     ]
    },
    {
     "name": "stdout",
     "output_type": "stream",
     "text": [
      "\u001b[1m296/300\u001b[0m \u001b[32m━━━━━━━━━━━━━━━━━━━\u001b[0m\u001b[37m━\u001b[0m \u001b[1m1s\u001b[0m 358ms/step - cycle_loss: 2.6220 - disc_X_loss: 0.5857 - disc_Y_loss: 0.6229 - gen_F_loss: 3.8500 - gen_G_loss: 3.7548 - identity_loss: 0.2006"
     ]
    },
    {
     "name": "stderr",
     "output_type": "stream",
     "text": [
      "2024-11-14 16:41:09.192151: W tensorflow/core/kernels/data/cache_dataset_ops.cc:914] The calling iterator did not fully read the dataset being cached. In order to avoid unexpected truncation of the dataset, the partially cached contents of the dataset  will be discarded. This can happen if you have an input pipeline similar to `dataset.cache().take(k).repeat()`. You should use `dataset.take(k).cache().repeat()` instead.\n"
     ]
    },
    {
     "name": "stdout",
     "output_type": "stream",
     "text": [
      "\u001b[1m300/300\u001b[0m \u001b[32m━━━━━━━━━━━━━━━━━━━━\u001b[0m\u001b[37m\u001b[0m \u001b[1m107s\u001b[0m 357ms/step - cycle_loss: 2.6222 - disc_X_loss: 0.5856 - disc_Y_loss: 0.6229 - gen_F_loss: 3.8502 - gen_G_loss: 3.7546 - identity_loss: 0.2006\n",
      "Epoch 123/150\n",
      "\u001b[1m300/300\u001b[0m \u001b[32m━━━━━━━━━━━━━━━━━━━━\u001b[0m\u001b[37m\u001b[0m \u001b[1m0s\u001b[0m 80us/step - cycle_loss: 0.0000e+00 - disc_X_loss: 0.0000e+00 - disc_Y_loss: 0.0000e+00 - gen_F_loss: 0.0000e+00 - gen_G_loss: 0.0000e+00 - identity_loss: 0.0000e+00\n",
      "Epoch 124/150\n"
     ]
    },
    {
     "name": "stderr",
     "output_type": "stream",
     "text": [
      "2024-11-14 16:41:10.461967: I tensorflow/core/framework/local_rendezvous.cc:428] Local rendezvous send item cancelled. Key hash: 18396010607733563774\n",
      "2024-11-14 16:41:10.462026: I tensorflow/core/framework/local_rendezvous.cc:428] Local rendezvous send item cancelled. Key hash: 11613287781577413998\n",
      "2024-11-14 16:41:10.462033: I tensorflow/core/framework/local_rendezvous.cc:428] Local rendezvous send item cancelled. Key hash: 7472890618160129498\n",
      "2024-11-14 16:41:10.462036: I tensorflow/core/framework/local_rendezvous.cc:428] Local rendezvous send item cancelled. Key hash: 17036793392484136794\n",
      "2024-11-14 16:41:10.462040: I tensorflow/core/framework/local_rendezvous.cc:428] Local rendezvous send item cancelled. Key hash: 10235588183624701814\n",
      "2024-11-14 16:41:10.462043: I tensorflow/core/framework/local_rendezvous.cc:428] Local rendezvous send item cancelled. Key hash: 14947666519276538088\n",
      "2024-11-14 16:41:10.462047: I tensorflow/core/framework/local_rendezvous.cc:428] Local rendezvous send item cancelled. Key hash: 9978831291104332398\n",
      "2024-11-14 16:41:10.462050: I tensorflow/core/framework/local_rendezvous.cc:428] Local rendezvous send item cancelled. Key hash: 1500456805612943848\n",
      "2024-11-14 16:41:10.462055: I tensorflow/core/framework/local_rendezvous.cc:428] Local rendezvous send item cancelled. Key hash: 11194099802961485407\n"
     ]
    },
    {
     "name": "stdout",
     "output_type": "stream",
     "text": [
      "\u001b[1m296/300\u001b[0m \u001b[32m━━━━━━━━━━━━━━━━━━━\u001b[0m\u001b[37m━\u001b[0m \u001b[1m1s\u001b[0m 352ms/step - cycle_loss: 2.5511 - disc_X_loss: 0.5765 - disc_Y_loss: 0.5978 - gen_F_loss: 3.7396 - gen_G_loss: 3.6839 - identity_loss: 0.1879"
     ]
    },
    {
     "name": "stderr",
     "output_type": "stream",
     "text": [
      "2024-11-14 16:42:54.908607: W tensorflow/core/kernels/data/cache_dataset_ops.cc:914] The calling iterator did not fully read the dataset being cached. In order to avoid unexpected truncation of the dataset, the partially cached contents of the dataset  will be discarded. This can happen if you have an input pipeline similar to `dataset.cache().take(k).repeat()`. You should use `dataset.take(k).cache().repeat()` instead.\n"
     ]
    },
    {
     "name": "stdout",
     "output_type": "stream",
     "text": [
      "\u001b[1m300/300\u001b[0m \u001b[32m━━━━━━━━━━━━━━━━━━━━\u001b[0m\u001b[37m\u001b[0m \u001b[1m106s\u001b[0m 351ms/step - cycle_loss: 2.5515 - disc_X_loss: 0.5765 - disc_Y_loss: 0.5980 - gen_F_loss: 3.7400 - gen_G_loss: 3.6840 - identity_loss: 0.1880\n",
      "Epoch 125/150\n",
      "\u001b[1m300/300\u001b[0m \u001b[32m━━━━━━━━━━━━━━━━━━━━\u001b[0m\u001b[37m\u001b[0m \u001b[1m0s\u001b[0m 76us/step - cycle_loss: 0.0000e+00 - disc_X_loss: 0.0000e+00 - disc_Y_loss: 0.0000e+00 - gen_F_loss: 0.0000e+00 - gen_G_loss: 0.0000e+00 - identity_loss: 0.0000e+00\n",
      "Epoch 126/150\n"
     ]
    },
    {
     "name": "stderr",
     "output_type": "stream",
     "text": [
      "2024-11-14 16:42:56.179190: I tensorflow/core/framework/local_rendezvous.cc:428] Local rendezvous send item cancelled. Key hash: 18396010607733563774\n",
      "2024-11-14 16:42:56.179235: I tensorflow/core/framework/local_rendezvous.cc:428] Local rendezvous send item cancelled. Key hash: 11613287781577413998\n",
      "2024-11-14 16:42:56.179240: I tensorflow/core/framework/local_rendezvous.cc:428] Local rendezvous send item cancelled. Key hash: 7472890618160129498\n",
      "2024-11-14 16:42:56.179243: I tensorflow/core/framework/local_rendezvous.cc:428] Local rendezvous send item cancelled. Key hash: 17036793392484136794\n",
      "2024-11-14 16:42:56.179245: I tensorflow/core/framework/local_rendezvous.cc:428] Local rendezvous send item cancelled. Key hash: 10235588183624701814\n",
      "2024-11-14 16:42:56.179248: I tensorflow/core/framework/local_rendezvous.cc:428] Local rendezvous send item cancelled. Key hash: 14947666519276538088\n",
      "2024-11-14 16:42:56.179250: I tensorflow/core/framework/local_rendezvous.cc:428] Local rendezvous send item cancelled. Key hash: 9978831291104332398\n",
      "2024-11-14 16:42:56.179252: I tensorflow/core/framework/local_rendezvous.cc:428] Local rendezvous send item cancelled. Key hash: 1500456805612943848\n",
      "2024-11-14 16:42:56.179255: I tensorflow/core/framework/local_rendezvous.cc:428] Local rendezvous send item cancelled. Key hash: 11194099802961485407\n"
     ]
    },
    {
     "name": "stdout",
     "output_type": "stream",
     "text": [
      "\u001b[1m296/300\u001b[0m \u001b[32m━━━━━━━━━━━━━━━━━━━\u001b[0m\u001b[37m━\u001b[0m \u001b[1m1s\u001b[0m 352ms/step - cycle_loss: 2.5944 - disc_X_loss: 0.5434 - disc_Y_loss: 0.5801 - gen_F_loss: 3.8878 - gen_G_loss: 3.7479 - identity_loss: 0.1967"
     ]
    },
    {
     "name": "stderr",
     "output_type": "stream",
     "text": [
      "2024-11-14 16:44:40.635552: W tensorflow/core/kernels/data/cache_dataset_ops.cc:914] The calling iterator did not fully read the dataset being cached. In order to avoid unexpected truncation of the dataset, the partially cached contents of the dataset  will be discarded. This can happen if you have an input pipeline similar to `dataset.cache().take(k).repeat()`. You should use `dataset.take(k).cache().repeat()` instead.\n"
     ]
    },
    {
     "name": "stdout",
     "output_type": "stream",
     "text": [
      "\u001b[1m300/300\u001b[0m \u001b[32m━━━━━━━━━━━━━━━━━━━━\u001b[0m\u001b[37m\u001b[0m \u001b[1m106s\u001b[0m 351ms/step - cycle_loss: 2.5941 - disc_X_loss: 0.5438 - disc_Y_loss: 0.5805 - gen_F_loss: 3.8865 - gen_G_loss: 3.7471 - identity_loss: 0.1968\n",
      "Epoch 127/150\n",
      "\u001b[1m300/300\u001b[0m \u001b[32m━━━━━━━━━━━━━━━━━━━━\u001b[0m\u001b[37m\u001b[0m \u001b[1m0s\u001b[0m 75us/step - cycle_loss: 0.0000e+00 - disc_X_loss: 0.0000e+00 - disc_Y_loss: 0.0000e+00 - gen_F_loss: 0.0000e+00 - gen_G_loss: 0.0000e+00 - identity_loss: 0.0000e+00\n",
      "Epoch 128/150\n"
     ]
    },
    {
     "name": "stderr",
     "output_type": "stream",
     "text": [
      "2024-11-14 16:44:41.925825: I tensorflow/core/framework/local_rendezvous.cc:428] Local rendezvous send item cancelled. Key hash: 18396010607733563774\n",
      "2024-11-14 16:44:41.925873: I tensorflow/core/framework/local_rendezvous.cc:428] Local rendezvous send item cancelled. Key hash: 11613287781577413998\n",
      "2024-11-14 16:44:41.925878: I tensorflow/core/framework/local_rendezvous.cc:428] Local rendezvous send item cancelled. Key hash: 7472890618160129498\n",
      "2024-11-14 16:44:41.925881: I tensorflow/core/framework/local_rendezvous.cc:428] Local rendezvous send item cancelled. Key hash: 17036793392484136794\n",
      "2024-11-14 16:44:41.925883: I tensorflow/core/framework/local_rendezvous.cc:428] Local rendezvous send item cancelled. Key hash: 10235588183624701814\n",
      "2024-11-14 16:44:41.925885: I tensorflow/core/framework/local_rendezvous.cc:428] Local rendezvous send item cancelled. Key hash: 14947666519276538088\n",
      "2024-11-14 16:44:41.925887: I tensorflow/core/framework/local_rendezvous.cc:428] Local rendezvous send item cancelled. Key hash: 9978831291104332398\n",
      "2024-11-14 16:44:41.925889: I tensorflow/core/framework/local_rendezvous.cc:428] Local rendezvous send item cancelled. Key hash: 1500456805612943848\n",
      "2024-11-14 16:44:41.925892: I tensorflow/core/framework/local_rendezvous.cc:428] Local rendezvous send item cancelled. Key hash: 7274178057364199649\n",
      "2024-11-14 16:44:41.925895: I tensorflow/core/framework/local_rendezvous.cc:428] Local rendezvous send item cancelled. Key hash: 11194099802961485407\n"
     ]
    },
    {
     "name": "stdout",
     "output_type": "stream",
     "text": [
      "\u001b[1m296/300\u001b[0m \u001b[32m━━━━━━━━━━━━━━━━━━━\u001b[0m\u001b[37m━\u001b[0m \u001b[1m1s\u001b[0m 351ms/step - cycle_loss: 2.5239 - disc_X_loss: 0.5795 - disc_Y_loss: 0.5779 - gen_F_loss: 3.7501 - gen_G_loss: 3.6680 - identity_loss: 0.1886"
     ]
    },
    {
     "name": "stderr",
     "output_type": "stream",
     "text": [
      "2024-11-14 16:46:26.003989: W tensorflow/core/kernels/data/cache_dataset_ops.cc:914] The calling iterator did not fully read the dataset being cached. In order to avoid unexpected truncation of the dataset, the partially cached contents of the dataset  will be discarded. This can happen if you have an input pipeline similar to `dataset.cache().take(k).repeat()`. You should use `dataset.take(k).cache().repeat()` instead.\n"
     ]
    },
    {
     "name": "stdout",
     "output_type": "stream",
     "text": [
      "\u001b[1m300/300\u001b[0m \u001b[32m━━━━━━━━━━━━━━━━━━━━\u001b[0m\u001b[37m\u001b[0m \u001b[1m105s\u001b[0m 350ms/step - cycle_loss: 2.5239 - disc_X_loss: 0.5795 - disc_Y_loss: 0.5782 - gen_F_loss: 3.7498 - gen_G_loss: 3.6676 - identity_loss: 0.1887\n",
      "Epoch 129/150\n",
      "\u001b[1m300/300\u001b[0m \u001b[32m━━━━━━━━━━━━━━━━━━━━\u001b[0m\u001b[37m\u001b[0m \u001b[1m0s\u001b[0m 75us/step - cycle_loss: 0.0000e+00 - disc_X_loss: 0.0000e+00 - disc_Y_loss: 0.0000e+00 - gen_F_loss: 0.0000e+00 - gen_G_loss: 0.0000e+00 - identity_loss: 0.0000e+00\n",
      "Epoch 130/150\n"
     ]
    },
    {
     "name": "stderr",
     "output_type": "stream",
     "text": [
      "2024-11-14 16:46:27.342667: I tensorflow/core/framework/local_rendezvous.cc:428] Local rendezvous send item cancelled. Key hash: 18396010607733563774\n",
      "2024-11-14 16:46:27.342712: I tensorflow/core/framework/local_rendezvous.cc:428] Local rendezvous send item cancelled. Key hash: 11613287781577413998\n",
      "2024-11-14 16:46:27.342717: I tensorflow/core/framework/local_rendezvous.cc:428] Local rendezvous send item cancelled. Key hash: 7472890618160129498\n",
      "2024-11-14 16:46:27.342720: I tensorflow/core/framework/local_rendezvous.cc:428] Local rendezvous send item cancelled. Key hash: 17036793392484136794\n",
      "2024-11-14 16:46:27.342723: I tensorflow/core/framework/local_rendezvous.cc:428] Local rendezvous send item cancelled. Key hash: 10235588183624701814\n",
      "2024-11-14 16:46:27.342726: I tensorflow/core/framework/local_rendezvous.cc:428] Local rendezvous send item cancelled. Key hash: 14947666519276538088\n",
      "2024-11-14 16:46:27.342728: I tensorflow/core/framework/local_rendezvous.cc:428] Local rendezvous send item cancelled. Key hash: 9978831291104332398\n",
      "2024-11-14 16:46:27.342730: I tensorflow/core/framework/local_rendezvous.cc:428] Local rendezvous send item cancelled. Key hash: 1500456805612943848\n",
      "2024-11-14 16:46:27.342739: I tensorflow/core/framework/local_rendezvous.cc:428] Local rendezvous send item cancelled. Key hash: 11194099802961485407\n"
     ]
    },
    {
     "name": "stdout",
     "output_type": "stream",
     "text": [
      "\u001b[1m296/300\u001b[0m \u001b[32m━━━━━━━━━━━━━━━━━━━\u001b[0m\u001b[37m━\u001b[0m \u001b[1m1s\u001b[0m 352ms/step - cycle_loss: 2.6560 - disc_X_loss: 0.5491 - disc_Y_loss: 0.5859 - gen_F_loss: 3.9137 - gen_G_loss: 3.8079 - identity_loss: 0.1909"
     ]
    },
    {
     "name": "stderr",
     "output_type": "stream",
     "text": [
      "2024-11-14 16:48:11.806409: W tensorflow/core/kernels/data/cache_dataset_ops.cc:914] The calling iterator did not fully read the dataset being cached. In order to avoid unexpected truncation of the dataset, the partially cached contents of the dataset  will be discarded. This can happen if you have an input pipeline similar to `dataset.cache().take(k).repeat()`. You should use `dataset.take(k).cache().repeat()` instead.\n"
     ]
    },
    {
     "name": "stdout",
     "output_type": "stream",
     "text": [
      "\u001b[1m300/300\u001b[0m \u001b[32m━━━━━━━━━━━━━━━━━━━━\u001b[0m\u001b[37m\u001b[0m \u001b[1m106s\u001b[0m 351ms/step - cycle_loss: 2.6553 - disc_X_loss: 0.5493 - disc_Y_loss: 0.5862 - gen_F_loss: 3.9128 - gen_G_loss: 3.8069 - identity_loss: 0.1909\n",
      "Epoch 131/150\n",
      "\u001b[1m300/300\u001b[0m \u001b[32m━━━━━━━━━━━━━━━━━━━━\u001b[0m\u001b[37m\u001b[0m \u001b[1m0s\u001b[0m 77us/step - cycle_loss: 0.0000e+00 - disc_X_loss: 0.0000e+00 - disc_Y_loss: 0.0000e+00 - gen_F_loss: 0.0000e+00 - gen_G_loss: 0.0000e+00 - identity_loss: 0.0000e+00\n",
      "Epoch 132/150\n"
     ]
    },
    {
     "name": "stderr",
     "output_type": "stream",
     "text": [
      "2024-11-14 16:48:13.063454: I tensorflow/core/framework/local_rendezvous.cc:428] Local rendezvous send item cancelled. Key hash: 18396010607733563774\n",
      "2024-11-14 16:48:13.063516: I tensorflow/core/framework/local_rendezvous.cc:428] Local rendezvous send item cancelled. Key hash: 11613287781577413998\n",
      "2024-11-14 16:48:13.063521: I tensorflow/core/framework/local_rendezvous.cc:428] Local rendezvous send item cancelled. Key hash: 7472890618160129498\n",
      "2024-11-14 16:48:13.063524: I tensorflow/core/framework/local_rendezvous.cc:428] Local rendezvous send item cancelled. Key hash: 17036793392484136794\n",
      "2024-11-14 16:48:13.063526: I tensorflow/core/framework/local_rendezvous.cc:428] Local rendezvous send item cancelled. Key hash: 10235588183624701814\n",
      "2024-11-14 16:48:13.063528: I tensorflow/core/framework/local_rendezvous.cc:428] Local rendezvous send item cancelled. Key hash: 14947666519276538088\n",
      "2024-11-14 16:48:13.063530: I tensorflow/core/framework/local_rendezvous.cc:428] Local rendezvous send item cancelled. Key hash: 9978831291104332398\n",
      "2024-11-14 16:48:13.063533: I tensorflow/core/framework/local_rendezvous.cc:428] Local rendezvous send item cancelled. Key hash: 1500456805612943848\n",
      "2024-11-14 16:48:13.063536: I tensorflow/core/framework/local_rendezvous.cc:428] Local rendezvous send item cancelled. Key hash: 11194099802961485407\n"
     ]
    },
    {
     "name": "stdout",
     "output_type": "stream",
     "text": [
      "\u001b[1m296/300\u001b[0m \u001b[32m━━━━━━━━━━━━━━━━━━━\u001b[0m\u001b[37m━\u001b[0m \u001b[1m1s\u001b[0m 354ms/step - cycle_loss: 2.5783 - disc_X_loss: 0.5509 - disc_Y_loss: 0.5983 - gen_F_loss: 3.8309 - gen_G_loss: 3.7165 - identity_loss: 0.2000"
     ]
    },
    {
     "name": "stderr",
     "output_type": "stream",
     "text": [
      "2024-11-14 16:49:58.051070: W tensorflow/core/kernels/data/cache_dataset_ops.cc:914] The calling iterator did not fully read the dataset being cached. In order to avoid unexpected truncation of the dataset, the partially cached contents of the dataset  will be discarded. This can happen if you have an input pipeline similar to `dataset.cache().take(k).repeat()`. You should use `dataset.take(k).cache().repeat()` instead.\n"
     ]
    },
    {
     "name": "stdout",
     "output_type": "stream",
     "text": [
      "\u001b[1m300/300\u001b[0m \u001b[32m━━━━━━━━━━━━━━━━━━━━\u001b[0m\u001b[37m\u001b[0m \u001b[1m106s\u001b[0m 353ms/step - cycle_loss: 2.5779 - disc_X_loss: 0.5509 - disc_Y_loss: 0.5982 - gen_F_loss: 3.8306 - gen_G_loss: 3.7162 - identity_loss: 0.2000\n",
      "Epoch 133/150\n",
      "\u001b[1m300/300\u001b[0m \u001b[32m━━━━━━━━━━━━━━━━━━━━\u001b[0m\u001b[37m\u001b[0m \u001b[1m0s\u001b[0m 76us/step - cycle_loss: 0.0000e+00 - disc_X_loss: 0.0000e+00 - disc_Y_loss: 0.0000e+00 - gen_F_loss: 0.0000e+00 - gen_G_loss: 0.0000e+00 - identity_loss: 0.0000e+00\n",
      "Epoch 134/150\n"
     ]
    },
    {
     "name": "stderr",
     "output_type": "stream",
     "text": [
      "2024-11-14 16:49:59.347521: I tensorflow/core/framework/local_rendezvous.cc:428] Local rendezvous send item cancelled. Key hash: 18396010607733563774\n",
      "2024-11-14 16:49:59.347563: I tensorflow/core/framework/local_rendezvous.cc:428] Local rendezvous send item cancelled. Key hash: 11613287781577413998\n",
      "2024-11-14 16:49:59.347568: I tensorflow/core/framework/local_rendezvous.cc:428] Local rendezvous send item cancelled. Key hash: 7472890618160129498\n",
      "2024-11-14 16:49:59.347570: I tensorflow/core/framework/local_rendezvous.cc:428] Local rendezvous send item cancelled. Key hash: 17036793392484136794\n",
      "2024-11-14 16:49:59.347573: I tensorflow/core/framework/local_rendezvous.cc:428] Local rendezvous send item cancelled. Key hash: 10235588183624701814\n",
      "2024-11-14 16:49:59.347575: I tensorflow/core/framework/local_rendezvous.cc:428] Local rendezvous send item cancelled. Key hash: 14947666519276538088\n",
      "2024-11-14 16:49:59.347577: I tensorflow/core/framework/local_rendezvous.cc:428] Local rendezvous send item cancelled. Key hash: 9978831291104332398\n",
      "2024-11-14 16:49:59.347580: I tensorflow/core/framework/local_rendezvous.cc:428] Local rendezvous send item cancelled. Key hash: 1500456805612943848\n",
      "2024-11-14 16:49:59.347583: I tensorflow/core/framework/local_rendezvous.cc:428] Local rendezvous send item cancelled. Key hash: 11194099802961485407\n"
     ]
    },
    {
     "name": "stdout",
     "output_type": "stream",
     "text": [
      "\u001b[1m296/300\u001b[0m \u001b[32m━━━━━━━━━━━━━━━━━━━\u001b[0m\u001b[37m━\u001b[0m \u001b[1m1s\u001b[0m 355ms/step - cycle_loss: 2.5616 - disc_X_loss: 0.5689 - disc_Y_loss: 0.5962 - gen_F_loss: 3.8396 - gen_G_loss: 3.7011 - identity_loss: 0.1959"
     ]
    },
    {
     "name": "stderr",
     "output_type": "stream",
     "text": [
      "2024-11-14 16:51:44.677023: W tensorflow/core/kernels/data/cache_dataset_ops.cc:914] The calling iterator did not fully read the dataset being cached. In order to avoid unexpected truncation of the dataset, the partially cached contents of the dataset  will be discarded. This can happen if you have an input pipeline similar to `dataset.cache().take(k).repeat()`. You should use `dataset.take(k).cache().repeat()` instead.\n"
     ]
    },
    {
     "name": "stdout",
     "output_type": "stream",
     "text": [
      "\u001b[1m300/300\u001b[0m \u001b[32m━━━━━━━━━━━━━━━━━━━━\u001b[0m\u001b[37m\u001b[0m \u001b[1m107s\u001b[0m 354ms/step - cycle_loss: 2.5611 - disc_X_loss: 0.5690 - disc_Y_loss: 0.5964 - gen_F_loss: 3.8385 - gen_G_loss: 3.7002 - identity_loss: 0.1958\n",
      "Epoch 135/150\n",
      "\u001b[1m300/300\u001b[0m \u001b[32m━━━━━━━━━━━━━━━━━━━━\u001b[0m\u001b[37m\u001b[0m \u001b[1m0s\u001b[0m 76us/step - cycle_loss: 0.0000e+00 - disc_X_loss: 0.0000e+00 - disc_Y_loss: 0.0000e+00 - gen_F_loss: 0.0000e+00 - gen_G_loss: 0.0000e+00 - identity_loss: 0.0000e+00\n",
      "Epoch 136/150\n"
     ]
    },
    {
     "name": "stderr",
     "output_type": "stream",
     "text": [
      "2024-11-14 16:51:46.020185: I tensorflow/core/framework/local_rendezvous.cc:428] Local rendezvous send item cancelled. Key hash: 18396010607733563774\n",
      "2024-11-14 16:51:46.020228: I tensorflow/core/framework/local_rendezvous.cc:428] Local rendezvous send item cancelled. Key hash: 11613287781577413998\n",
      "2024-11-14 16:51:46.020233: I tensorflow/core/framework/local_rendezvous.cc:428] Local rendezvous send item cancelled. Key hash: 7472890618160129498\n",
      "2024-11-14 16:51:46.020236: I tensorflow/core/framework/local_rendezvous.cc:428] Local rendezvous send item cancelled. Key hash: 17036793392484136794\n",
      "2024-11-14 16:51:46.020238: I tensorflow/core/framework/local_rendezvous.cc:428] Local rendezvous send item cancelled. Key hash: 10235588183624701814\n",
      "2024-11-14 16:51:46.020241: I tensorflow/core/framework/local_rendezvous.cc:428] Local rendezvous send item cancelled. Key hash: 14947666519276538088\n",
      "2024-11-14 16:51:46.020243: I tensorflow/core/framework/local_rendezvous.cc:428] Local rendezvous send item cancelled. Key hash: 9978831291104332398\n",
      "2024-11-14 16:51:46.020246: I tensorflow/core/framework/local_rendezvous.cc:428] Local rendezvous send item cancelled. Key hash: 1500456805612943848\n",
      "2024-11-14 16:51:46.020249: I tensorflow/core/framework/local_rendezvous.cc:428] Local rendezvous send item cancelled. Key hash: 11194099802961485407\n"
     ]
    },
    {
     "name": "stdout",
     "output_type": "stream",
     "text": [
      "\u001b[1m296/300\u001b[0m \u001b[32m━━━━━━━━━━━━━━━━━━━\u001b[0m\u001b[37m━\u001b[0m \u001b[1m1s\u001b[0m 352ms/step - cycle_loss: 2.5488 - disc_X_loss: 0.5543 - disc_Y_loss: 0.5714 - gen_F_loss: 3.8096 - gen_G_loss: 3.7355 - identity_loss: 0.1884"
     ]
    },
    {
     "name": "stderr",
     "output_type": "stream",
     "text": [
      "2024-11-14 16:53:30.556849: W tensorflow/core/kernels/data/cache_dataset_ops.cc:914] The calling iterator did not fully read the dataset being cached. In order to avoid unexpected truncation of the dataset, the partially cached contents of the dataset  will be discarded. This can happen if you have an input pipeline similar to `dataset.cache().take(k).repeat()`. You should use `dataset.take(k).cache().repeat()` instead.\n"
     ]
    },
    {
     "name": "stdout",
     "output_type": "stream",
     "text": [
      "\u001b[1m300/300\u001b[0m \u001b[32m━━━━━━━━━━━━━━━━━━━━\u001b[0m\u001b[37m\u001b[0m \u001b[1m106s\u001b[0m 352ms/step - cycle_loss: 2.5480 - disc_X_loss: 0.5545 - disc_Y_loss: 0.5716 - gen_F_loss: 3.8083 - gen_G_loss: 3.7343 - identity_loss: 0.1884\n",
      "Epoch 137/150\n",
      "\u001b[1m300/300\u001b[0m \u001b[32m━━━━━━━━━━━━━━━━━━━━\u001b[0m\u001b[37m\u001b[0m \u001b[1m0s\u001b[0m 76us/step - cycle_loss: 0.0000e+00 - disc_X_loss: 0.0000e+00 - disc_Y_loss: 0.0000e+00 - gen_F_loss: 0.0000e+00 - gen_G_loss: 0.0000e+00 - identity_loss: 0.0000e+00\n",
      "Epoch 138/150\n"
     ]
    },
    {
     "name": "stderr",
     "output_type": "stream",
     "text": [
      "2024-11-14 16:53:31.838958: I tensorflow/core/framework/local_rendezvous.cc:428] Local rendezvous send item cancelled. Key hash: 18396010607733563774\n",
      "2024-11-14 16:53:31.839007: I tensorflow/core/framework/local_rendezvous.cc:428] Local rendezvous send item cancelled. Key hash: 11613287781577413998\n",
      "2024-11-14 16:53:31.839013: I tensorflow/core/framework/local_rendezvous.cc:428] Local rendezvous send item cancelled. Key hash: 7472890618160129498\n",
      "2024-11-14 16:53:31.839016: I tensorflow/core/framework/local_rendezvous.cc:428] Local rendezvous send item cancelled. Key hash: 17036793392484136794\n",
      "2024-11-14 16:53:31.839018: I tensorflow/core/framework/local_rendezvous.cc:428] Local rendezvous send item cancelled. Key hash: 10235588183624701814\n",
      "2024-11-14 16:53:31.839020: I tensorflow/core/framework/local_rendezvous.cc:428] Local rendezvous send item cancelled. Key hash: 14947666519276538088\n",
      "2024-11-14 16:53:31.839023: I tensorflow/core/framework/local_rendezvous.cc:428] Local rendezvous send item cancelled. Key hash: 9978831291104332398\n",
      "2024-11-14 16:53:31.839025: I tensorflow/core/framework/local_rendezvous.cc:428] Local rendezvous send item cancelled. Key hash: 1500456805612943848\n",
      "2024-11-14 16:53:31.839028: I tensorflow/core/framework/local_rendezvous.cc:428] Local rendezvous send item cancelled. Key hash: 11194099802961485407\n"
     ]
    },
    {
     "name": "stdout",
     "output_type": "stream",
     "text": [
      "\u001b[1m297/300\u001b[0m \u001b[32m━━━━━━━━━━━━━━━━━━━\u001b[0m\u001b[37m━\u001b[0m \u001b[1m1s\u001b[0m 355ms/step - cycle_loss: 2.5092 - disc_X_loss: 0.5541 - disc_Y_loss: 0.5971 - gen_F_loss: 3.7518 - gen_G_loss: 3.6509 - identity_loss: 0.1873"
     ]
    },
    {
     "name": "stderr",
     "output_type": "stream",
     "text": [
      "2024-11-14 16:55:17.647856: W tensorflow/core/kernels/data/cache_dataset_ops.cc:914] The calling iterator did not fully read the dataset being cached. In order to avoid unexpected truncation of the dataset, the partially cached contents of the dataset  will be discarded. This can happen if you have an input pipeline similar to `dataset.cache().take(k).repeat()`. You should use `dataset.take(k).cache().repeat()` instead.\n"
     ]
    },
    {
     "name": "stdout",
     "output_type": "stream",
     "text": [
      "\u001b[1m300/300\u001b[0m \u001b[32m━━━━━━━━━━━━━━━━━━━━\u001b[0m\u001b[37m\u001b[0m \u001b[1m107s\u001b[0m 355ms/step - cycle_loss: 2.5086 - disc_X_loss: 0.5542 - disc_Y_loss: 0.5971 - gen_F_loss: 3.7512 - gen_G_loss: 3.6504 - identity_loss: 0.1874\n",
      "Epoch 139/150\n",
      "\u001b[1m300/300\u001b[0m \u001b[32m━━━━━━━━━━━━━━━━━━━━\u001b[0m\u001b[37m\u001b[0m \u001b[1m0s\u001b[0m 73us/step - cycle_loss: 0.0000e+00 - disc_X_loss: 0.0000e+00 - disc_Y_loss: 0.0000e+00 - gen_F_loss: 0.0000e+00 - gen_G_loss: 0.0000e+00 - identity_loss: 0.0000e+00\n",
      "Epoch 140/150\n"
     ]
    },
    {
     "name": "stderr",
     "output_type": "stream",
     "text": [
      "2024-11-14 16:55:18.614599: I tensorflow/core/framework/local_rendezvous.cc:428] Local rendezvous send item cancelled. Key hash: 18396010607733563774\n",
      "2024-11-14 16:55:18.614682: I tensorflow/core/framework/local_rendezvous.cc:428] Local rendezvous send item cancelled. Key hash: 11613287781577413998\n",
      "2024-11-14 16:55:18.614687: I tensorflow/core/framework/local_rendezvous.cc:428] Local rendezvous send item cancelled. Key hash: 7472890618160129498\n",
      "2024-11-14 16:55:18.614690: I tensorflow/core/framework/local_rendezvous.cc:428] Local rendezvous send item cancelled. Key hash: 17036793392484136794\n",
      "2024-11-14 16:55:18.614693: I tensorflow/core/framework/local_rendezvous.cc:428] Local rendezvous send item cancelled. Key hash: 10235588183624701814\n",
      "2024-11-14 16:55:18.614695: I tensorflow/core/framework/local_rendezvous.cc:428] Local rendezvous send item cancelled. Key hash: 14947666519276538088\n",
      "2024-11-14 16:55:18.614698: I tensorflow/core/framework/local_rendezvous.cc:428] Local rendezvous send item cancelled. Key hash: 9978831291104332398\n",
      "2024-11-14 16:55:18.614700: I tensorflow/core/framework/local_rendezvous.cc:428] Local rendezvous send item cancelled. Key hash: 1500456805612943848\n",
      "2024-11-14 16:55:18.614704: I tensorflow/core/framework/local_rendezvous.cc:428] Local rendezvous send item cancelled. Key hash: 11194099802961485407\n"
     ]
    },
    {
     "name": "stdout",
     "output_type": "stream",
     "text": [
      "\u001b[1m296/300\u001b[0m \u001b[32m━━━━━━━━━━━━━━━━━━━\u001b[0m\u001b[37m━\u001b[0m \u001b[1m1s\u001b[0m 346ms/step - cycle_loss: 2.5089 - disc_X_loss: 0.5688 - disc_Y_loss: 0.5815 - gen_F_loss: 3.7411 - gen_G_loss: 3.6635 - identity_loss: 0.1894"
     ]
    },
    {
     "name": "stderr",
     "output_type": "stream",
     "text": [
      "2024-11-14 16:57:01.298728: W tensorflow/core/kernels/data/cache_dataset_ops.cc:914] The calling iterator did not fully read the dataset being cached. In order to avoid unexpected truncation of the dataset, the partially cached contents of the dataset  will be discarded. This can happen if you have an input pipeline similar to `dataset.cache().take(k).repeat()`. You should use `dataset.take(k).cache().repeat()` instead.\n"
     ]
    },
    {
     "name": "stdout",
     "output_type": "stream",
     "text": [
      "\u001b[1m300/300\u001b[0m \u001b[32m━━━━━━━━━━━━━━━━━━━━\u001b[0m\u001b[37m\u001b[0m \u001b[1m104s\u001b[0m 345ms/step - cycle_loss: 2.5086 - disc_X_loss: 0.5689 - disc_Y_loss: 0.5816 - gen_F_loss: 3.7408 - gen_G_loss: 3.6633 - identity_loss: 0.1895\n",
      "Epoch 141/150\n",
      "\u001b[1m300/300\u001b[0m \u001b[32m━━━━━━━━━━━━━━━━━━━━\u001b[0m\u001b[37m\u001b[0m \u001b[1m0s\u001b[0m 76us/step - cycle_loss: 0.0000e+00 - disc_X_loss: 0.0000e+00 - disc_Y_loss: 0.0000e+00 - gen_F_loss: 0.0000e+00 - gen_G_loss: 0.0000e+00 - identity_loss: 0.0000e+00\n",
      "Epoch 142/150\n"
     ]
    },
    {
     "name": "stderr",
     "output_type": "stream",
     "text": [
      "2024-11-14 16:57:02.571555: I tensorflow/core/framework/local_rendezvous.cc:428] Local rendezvous send item cancelled. Key hash: 18396010607733563774\n",
      "2024-11-14 16:57:02.571599: I tensorflow/core/framework/local_rendezvous.cc:428] Local rendezvous send item cancelled. Key hash: 11613287781577413998\n",
      "2024-11-14 16:57:02.571604: I tensorflow/core/framework/local_rendezvous.cc:428] Local rendezvous send item cancelled. Key hash: 7472890618160129498\n",
      "2024-11-14 16:57:02.571607: I tensorflow/core/framework/local_rendezvous.cc:428] Local rendezvous send item cancelled. Key hash: 17036793392484136794\n",
      "2024-11-14 16:57:02.571609: I tensorflow/core/framework/local_rendezvous.cc:428] Local rendezvous send item cancelled. Key hash: 10235588183624701814\n",
      "2024-11-14 16:57:02.571611: I tensorflow/core/framework/local_rendezvous.cc:428] Local rendezvous send item cancelled. Key hash: 14947666519276538088\n",
      "2024-11-14 16:57:02.571614: I tensorflow/core/framework/local_rendezvous.cc:428] Local rendezvous send item cancelled. Key hash: 9978831291104332398\n",
      "2024-11-14 16:57:02.571616: I tensorflow/core/framework/local_rendezvous.cc:428] Local rendezvous send item cancelled. Key hash: 1500456805612943848\n",
      "2024-11-14 16:57:02.571619: I tensorflow/core/framework/local_rendezvous.cc:428] Local rendezvous send item cancelled. Key hash: 11194099802961485407\n"
     ]
    },
    {
     "name": "stdout",
     "output_type": "stream",
     "text": [
      "\u001b[1m296/300\u001b[0m \u001b[32m━━━━━━━━━━━━━━━━━━━\u001b[0m\u001b[37m━\u001b[0m \u001b[1m1s\u001b[0m 346ms/step - cycle_loss: 2.4865 - disc_X_loss: 0.5549 - disc_Y_loss: 0.5767 - gen_F_loss: 3.7312 - gen_G_loss: 3.6500 - identity_loss: 0.1941"
     ]
    },
    {
     "name": "stderr",
     "output_type": "stream",
     "text": [
      "2024-11-14 16:58:45.353736: W tensorflow/core/kernels/data/cache_dataset_ops.cc:914] The calling iterator did not fully read the dataset being cached. In order to avoid unexpected truncation of the dataset, the partially cached contents of the dataset  will be discarded. This can happen if you have an input pipeline similar to `dataset.cache().take(k).repeat()`. You should use `dataset.take(k).cache().repeat()` instead.\n"
     ]
    },
    {
     "name": "stdout",
     "output_type": "stream",
     "text": [
      "\u001b[1m300/300\u001b[0m \u001b[32m━━━━━━━━━━━━━━━━━━━━\u001b[0m\u001b[37m\u001b[0m \u001b[1m104s\u001b[0m 346ms/step - cycle_loss: 2.4861 - disc_X_loss: 0.5551 - disc_Y_loss: 0.5768 - gen_F_loss: 3.7303 - gen_G_loss: 3.6497 - identity_loss: 0.1941\n",
      "Epoch 143/150\n",
      "\u001b[1m300/300\u001b[0m \u001b[32m━━━━━━━━━━━━━━━━━━━━\u001b[0m\u001b[37m\u001b[0m \u001b[1m0s\u001b[0m 77us/step - cycle_loss: 0.0000e+00 - disc_X_loss: 0.0000e+00 - disc_Y_loss: 0.0000e+00 - gen_F_loss: 0.0000e+00 - gen_G_loss: 0.0000e+00 - identity_loss: 0.0000e+00\n",
      "Epoch 144/150\n"
     ]
    },
    {
     "name": "stderr",
     "output_type": "stream",
     "text": [
      "2024-11-14 16:58:46.707980: I tensorflow/core/framework/local_rendezvous.cc:428] Local rendezvous send item cancelled. Key hash: 18396010607733563774\n",
      "2024-11-14 16:58:46.708027: I tensorflow/core/framework/local_rendezvous.cc:428] Local rendezvous send item cancelled. Key hash: 11613287781577413998\n",
      "2024-11-14 16:58:46.708031: I tensorflow/core/framework/local_rendezvous.cc:428] Local rendezvous send item cancelled. Key hash: 7472890618160129498\n",
      "2024-11-14 16:58:46.708034: I tensorflow/core/framework/local_rendezvous.cc:428] Local rendezvous send item cancelled. Key hash: 17036793392484136794\n",
      "2024-11-14 16:58:46.708037: I tensorflow/core/framework/local_rendezvous.cc:428] Local rendezvous send item cancelled. Key hash: 10235588183624701814\n",
      "2024-11-14 16:58:46.708039: I tensorflow/core/framework/local_rendezvous.cc:428] Local rendezvous send item cancelled. Key hash: 14947666519276538088\n",
      "2024-11-14 16:58:46.708041: I tensorflow/core/framework/local_rendezvous.cc:428] Local rendezvous send item cancelled. Key hash: 9978831291104332398\n",
      "2024-11-14 16:58:46.708043: I tensorflow/core/framework/local_rendezvous.cc:428] Local rendezvous send item cancelled. Key hash: 1500456805612943848\n",
      "2024-11-14 16:58:46.708046: I tensorflow/core/framework/local_rendezvous.cc:428] Local rendezvous send item cancelled. Key hash: 11194099802961485407\n"
     ]
    },
    {
     "name": "stdout",
     "output_type": "stream",
     "text": [
      "\u001b[1m296/300\u001b[0m \u001b[32m━━━━━━━━━━━━━━━━━━━\u001b[0m\u001b[37m━\u001b[0m \u001b[1m1s\u001b[0m 345ms/step - cycle_loss: 2.4778 - disc_X_loss: 0.5687 - disc_Y_loss: 0.5681 - gen_F_loss: 3.7060 - gen_G_loss: 3.6923 - identity_loss: 0.1938"
     ]
    },
    {
     "name": "stderr",
     "output_type": "stream",
     "text": [
      "2024-11-14 17:00:29.134198: W tensorflow/core/kernels/data/cache_dataset_ops.cc:914] The calling iterator did not fully read the dataset being cached. In order to avoid unexpected truncation of the dataset, the partially cached contents of the dataset  will be discarded. This can happen if you have an input pipeline similar to `dataset.cache().take(k).repeat()`. You should use `dataset.take(k).cache().repeat()` instead.\n"
     ]
    },
    {
     "name": "stdout",
     "output_type": "stream",
     "text": [
      "\u001b[1m300/300\u001b[0m \u001b[32m━━━━━━━━━━━━━━━━━━━━\u001b[0m\u001b[37m\u001b[0m \u001b[1m104s\u001b[0m 344ms/step - cycle_loss: 2.4778 - disc_X_loss: 0.5688 - disc_Y_loss: 0.5684 - gen_F_loss: 3.7059 - gen_G_loss: 3.6919 - identity_loss: 0.1939\n",
      "Epoch 145/150\n",
      "\u001b[1m300/300\u001b[0m \u001b[32m━━━━━━━━━━━━━━━━━━━━\u001b[0m\u001b[37m\u001b[0m \u001b[1m0s\u001b[0m 156us/step - cycle_loss: 0.0000e+00 - disc_X_loss: 0.0000e+00 - disc_Y_loss: 0.0000e+00 - gen_F_loss: 0.0000e+00 - gen_G_loss: 0.0000e+00 - identity_loss: 0.0000e+00\n",
      "Epoch 146/150\n"
     ]
    },
    {
     "name": "stderr",
     "output_type": "stream",
     "text": [
      "2024-11-14 17:00:30.386570: I tensorflow/core/framework/local_rendezvous.cc:428] Local rendezvous send item cancelled. Key hash: 18396010607733563774\n",
      "2024-11-14 17:00:30.386611: I tensorflow/core/framework/local_rendezvous.cc:428] Local rendezvous send item cancelled. Key hash: 11613287781577413998\n",
      "2024-11-14 17:00:30.386616: I tensorflow/core/framework/local_rendezvous.cc:428] Local rendezvous send item cancelled. Key hash: 7472890618160129498\n",
      "2024-11-14 17:00:30.386618: I tensorflow/core/framework/local_rendezvous.cc:428] Local rendezvous send item cancelled. Key hash: 17036793392484136794\n",
      "2024-11-14 17:00:30.386620: I tensorflow/core/framework/local_rendezvous.cc:428] Local rendezvous send item cancelled. Key hash: 10235588183624701814\n",
      "2024-11-14 17:00:30.386623: I tensorflow/core/framework/local_rendezvous.cc:428] Local rendezvous send item cancelled. Key hash: 14947666519276538088\n",
      "2024-11-14 17:00:30.386625: I tensorflow/core/framework/local_rendezvous.cc:428] Local rendezvous send item cancelled. Key hash: 9978831291104332398\n",
      "2024-11-14 17:00:30.386627: I tensorflow/core/framework/local_rendezvous.cc:428] Local rendezvous send item cancelled. Key hash: 1500456805612943848\n",
      "2024-11-14 17:00:30.386629: I tensorflow/core/framework/local_rendezvous.cc:428] Local rendezvous send item cancelled. Key hash: 11194099802961485407\n"
     ]
    },
    {
     "name": "stdout",
     "output_type": "stream",
     "text": [
      "\u001b[1m296/300\u001b[0m \u001b[32m━━━━━━━━━━━━━━━━━━━\u001b[0m\u001b[37m━\u001b[0m \u001b[1m1s\u001b[0m 332ms/step - cycle_loss: 2.4712 - disc_X_loss: 0.5840 - disc_Y_loss: 0.5735 - gen_F_loss: 3.6438 - gen_G_loss: 3.6629 - identity_loss: 0.1846"
     ]
    },
    {
     "name": "stderr",
     "output_type": "stream",
     "text": [
      "2024-11-14 17:02:09.026282: W tensorflow/core/kernels/data/cache_dataset_ops.cc:914] The calling iterator did not fully read the dataset being cached. In order to avoid unexpected truncation of the dataset, the partially cached contents of the dataset  will be discarded. This can happen if you have an input pipeline similar to `dataset.cache().take(k).repeat()`. You should use `dataset.take(k).cache().repeat()` instead.\n"
     ]
    },
    {
     "name": "stdout",
     "output_type": "stream",
     "text": [
      "\u001b[1m300/300\u001b[0m \u001b[32m━━━━━━━━━━━━━━━━━━━━\u001b[0m\u001b[37m\u001b[0m \u001b[1m100s\u001b[0m 332ms/step - cycle_loss: 2.4706 - disc_X_loss: 0.5840 - disc_Y_loss: 0.5736 - gen_F_loss: 3.6433 - gen_G_loss: 3.6622 - identity_loss: 0.1847\n",
      "Epoch 147/150\n",
      "\u001b[1m300/300\u001b[0m \u001b[32m━━━━━━━━━━━━━━━━━━━━\u001b[0m\u001b[37m\u001b[0m \u001b[1m0s\u001b[0m 153us/step - cycle_loss: 0.0000e+00 - disc_X_loss: 0.0000e+00 - disc_Y_loss: 0.0000e+00 - gen_F_loss: 0.0000e+00 - gen_G_loss: 0.0000e+00 - identity_loss: 0.0000e+00\n",
      "Epoch 148/150\n"
     ]
    },
    {
     "name": "stderr",
     "output_type": "stream",
     "text": [
      "2024-11-14 17:02:10.316287: I tensorflow/core/framework/local_rendezvous.cc:428] Local rendezvous send item cancelled. Key hash: 18396010607733563774\n",
      "2024-11-14 17:02:10.316347: I tensorflow/core/framework/local_rendezvous.cc:428] Local rendezvous send item cancelled. Key hash: 11613287781577413998\n",
      "2024-11-14 17:02:10.316354: I tensorflow/core/framework/local_rendezvous.cc:428] Local rendezvous send item cancelled. Key hash: 7472890618160129498\n",
      "2024-11-14 17:02:10.316357: I tensorflow/core/framework/local_rendezvous.cc:428] Local rendezvous send item cancelled. Key hash: 17036793392484136794\n",
      "2024-11-14 17:02:10.316359: I tensorflow/core/framework/local_rendezvous.cc:428] Local rendezvous send item cancelled. Key hash: 10235588183624701814\n",
      "2024-11-14 17:02:10.316361: I tensorflow/core/framework/local_rendezvous.cc:428] Local rendezvous send item cancelled. Key hash: 14947666519276538088\n",
      "2024-11-14 17:02:10.316363: I tensorflow/core/framework/local_rendezvous.cc:428] Local rendezvous send item cancelled. Key hash: 9978831291104332398\n",
      "2024-11-14 17:02:10.316365: I tensorflow/core/framework/local_rendezvous.cc:428] Local rendezvous send item cancelled. Key hash: 1500456805612943848\n",
      "2024-11-14 17:02:10.316368: I tensorflow/core/framework/local_rendezvous.cc:428] Local rendezvous send item cancelled. Key hash: 11194099802961485407\n"
     ]
    },
    {
     "name": "stdout",
     "output_type": "stream",
     "text": [
      "\u001b[1m297/300\u001b[0m \u001b[32m━━━━━━━━━━━━━━━━━━━\u001b[0m\u001b[37m━\u001b[0m \u001b[1m1s\u001b[0m 335ms/step - cycle_loss: 2.4769 - disc_X_loss: 0.5606 - disc_Y_loss: 0.5462 - gen_F_loss: 3.6917 - gen_G_loss: 3.7390 - identity_loss: 0.1963"
     ]
    },
    {
     "name": "stderr",
     "output_type": "stream",
     "text": [
      "2024-11-14 17:03:53.703504: W tensorflow/core/kernels/data/cache_dataset_ops.cc:914] The calling iterator did not fully read the dataset being cached. In order to avoid unexpected truncation of the dataset, the partially cached contents of the dataset  will be discarded. This can happen if you have an input pipeline similar to `dataset.cache().take(k).repeat()`. You should use `dataset.take(k).cache().repeat()` instead.\n"
     ]
    },
    {
     "name": "stdout",
     "output_type": "stream",
     "text": [
      "\u001b[1m300/300\u001b[0m \u001b[32m━━━━━━━━━━━━━━━━━━━━\u001b[0m\u001b[37m\u001b[0m \u001b[1m104s\u001b[0m 335ms/step - cycle_loss: 2.4765 - disc_X_loss: 0.5608 - disc_Y_loss: 0.5463 - gen_F_loss: 3.6911 - gen_G_loss: 3.7385 - identity_loss: 0.1963\n",
      "Epoch 149/150\n",
      "\u001b[1m300/300\u001b[0m \u001b[32m━━━━━━━━━━━━━━━━━━━━\u001b[0m\u001b[37m\u001b[0m \u001b[1m0s\u001b[0m 78us/step - cycle_loss: 0.0000e+00 - disc_X_loss: 0.0000e+00 - disc_Y_loss: 0.0000e+00 - gen_F_loss: 0.0000e+00 - gen_G_loss: 0.0000e+00 - identity_loss: 0.0000e+00\n",
      "Epoch 150/150\n"
     ]
    },
    {
     "name": "stderr",
     "output_type": "stream",
     "text": [
      "2024-11-14 17:03:54.657177: I tensorflow/core/framework/local_rendezvous.cc:428] Local rendezvous send item cancelled. Key hash: 18396010607733563774\n",
      "2024-11-14 17:03:54.657225: I tensorflow/core/framework/local_rendezvous.cc:428] Local rendezvous send item cancelled. Key hash: 11613287781577413998\n",
      "2024-11-14 17:03:54.657231: I tensorflow/core/framework/local_rendezvous.cc:428] Local rendezvous send item cancelled. Key hash: 7472890618160129498\n",
      "2024-11-14 17:03:54.657233: I tensorflow/core/framework/local_rendezvous.cc:428] Local rendezvous send item cancelled. Key hash: 17036793392484136794\n",
      "2024-11-14 17:03:54.657236: I tensorflow/core/framework/local_rendezvous.cc:428] Local rendezvous send item cancelled. Key hash: 10235588183624701814\n",
      "2024-11-14 17:03:54.657238: I tensorflow/core/framework/local_rendezvous.cc:428] Local rendezvous send item cancelled. Key hash: 14947666519276538088\n",
      "2024-11-14 17:03:54.657240: I tensorflow/core/framework/local_rendezvous.cc:428] Local rendezvous send item cancelled. Key hash: 9978831291104332398\n",
      "2024-11-14 17:03:54.657242: I tensorflow/core/framework/local_rendezvous.cc:428] Local rendezvous send item cancelled. Key hash: 1500456805612943848\n",
      "2024-11-14 17:03:54.657245: I tensorflow/core/framework/local_rendezvous.cc:428] Local rendezvous send item cancelled. Key hash: 11194099802961485407\n"
     ]
    },
    {
     "name": "stdout",
     "output_type": "stream",
     "text": [
      "\u001b[1m296/300\u001b[0m \u001b[32m━━━━━━━━━━━━━━━━━━━\u001b[0m\u001b[37m━\u001b[0m \u001b[1m1s\u001b[0m 344ms/step - cycle_loss: 2.4220 - disc_X_loss: 0.5763 - disc_Y_loss: 0.5344 - gen_F_loss: 3.6501 - gen_G_loss: 3.7166 - identity_loss: 0.1967"
     ]
    },
    {
     "name": "stderr",
     "output_type": "stream",
     "text": [
      "2024-11-14 17:05:36.772110: W tensorflow/core/kernels/data/cache_dataset_ops.cc:914] The calling iterator did not fully read the dataset being cached. In order to avoid unexpected truncation of the dataset, the partially cached contents of the dataset  will be discarded. This can happen if you have an input pipeline similar to `dataset.cache().take(k).repeat()`. You should use `dataset.take(k).cache().repeat()` instead.\n"
     ]
    },
    {
     "name": "stdout",
     "output_type": "stream",
     "text": [
      "\u001b[1m300/300\u001b[0m \u001b[32m━━━━━━━━━━━━━━━━━━━━\u001b[0m\u001b[37m\u001b[0m \u001b[1m103s\u001b[0m 344ms/step - cycle_loss: 2.4218 - disc_X_loss: 0.5765 - disc_Y_loss: 0.5346 - gen_F_loss: 3.6498 - gen_G_loss: 3.7162 - identity_loss: 0.1966\n"
     ]
    }
   ],
   "source": [
    "history = model.fit(\n",
    "    train_ds,\n",
    "    epochs=150,\n",
    "    steps_per_epoch=steps_per_epoch,\n",
    "    callbacks=callbacks,\n",
    ")"
   ]
  },
  {
   "cell_type": "code",
   "execution_count": 29,
   "metadata": {},
   "outputs": [],
   "source": [
    "visualizer = CycleGANVisualizer(model)"
   ]
  },
  {
   "cell_type": "code",
   "execution_count": 30,
   "metadata": {},
   "outputs": [
    {
     "name": "stderr",
     "output_type": "stream",
     "text": [
      "2024-11-14 17:05:38.413550: W tensorflow/core/kernels/data/cache_dataset_ops.cc:914] The calling iterator did not fully read the dataset being cached. In order to avoid unexpected truncation of the dataset, the partially cached contents of the dataset  will be discarded. This can happen if you have an input pipeline similar to `dataset.cache().take(k).repeat()`. You should use `dataset.take(k).cache().repeat()` instead.\n"
     ]
    }
   ],
   "source": [
    "visualizer.display_generated_samples(\n",
    "    test_ds, num_samples=8, save_path=\"generated_samples.png\"\n",
    ")"
   ]
  },
  {
   "cell_type": "code",
   "execution_count": 31,
   "metadata": {},
   "outputs": [],
   "source": [
    "evaluator = CycleGANEvaluator()"
   ]
  },
  {
   "cell_type": "code",
   "execution_count": 32,
   "metadata": {},
   "outputs": [],
   "source": [
    "metrics_history = []"
   ]
  },
  {
   "cell_type": "code",
   "execution_count": 33,
   "metadata": {},
   "outputs": [
    {
     "name": "stderr",
     "output_type": "stream",
     "text": [
      "2024-11-14 17:05:44.932370: W tensorflow/core/kernels/data/cache_dataset_ops.cc:914] The calling iterator did not fully read the dataset being cached. In order to avoid unexpected truncation of the dataset, the partially cached contents of the dataset  will be discarded. This can happen if you have an input pipeline similar to `dataset.cache().take(k).repeat()`. You should use `dataset.take(k).cache().repeat()` instead.\n"
     ]
    },
    {
     "name": "stdout",
     "output_type": "stream",
     "text": [
      "Evaluating 100 image pairs...\n"
     ]
    },
    {
     "name": "stderr",
     "output_type": "stream",
     "text": [
      "WARNING: All log messages before absl::InitializeLog() is called are written to STDERR\n",
      "I0000 00:00:1731625549.631900    3275 service.cc:148] XLA service 0x55beecf87070 initialized for platform CUDA (this does not guarantee that XLA will be used). Devices:\n",
      "I0000 00:00:1731625549.633598    3275 service.cc:156]   StreamExecutor device (0): NVIDIA GeForce RTX 3060 Laptop GPU, Compute Capability 8.6\n",
      "2024-11-14 17:05:49.698033: I tensorflow/compiler/mlir/tensorflow/utils/dump_mlir_util.cc:268] disabling MLIR crash reproducer, set env var `MLIR_CRASH_REPRODUCER_DIRECTORY` to enable.\n",
      "2024-11-14 17:05:51.768349: W external/local_xla/xla/tsl/framework/bfc_allocator.cc:306] Allocator (GPU_0_bfc) ran out of memory trying to allocate 438.21MiB with freed_by_count=0. The caller indicates that this is not a failure, but this may mean that there could be performance gains if more memory were available.\n",
      "2024-11-14 17:05:52.174135: W external/local_xla/xla/tsl/framework/bfc_allocator.cc:306] Allocator (GPU_0_bfc) ran out of memory trying to allocate 438.29MiB with freed_by_count=0. The caller indicates that this is not a failure, but this may mean that there could be performance gains if more memory were available.\n",
      "2024-11-14 17:05:52.174200: W external/local_xla/xla/tsl/framework/bfc_allocator.cc:306] Allocator (GPU_0_bfc) ran out of memory trying to allocate 593.83MiB with freed_by_count=0. The caller indicates that this is not a failure, but this may mean that there could be performance gains if more memory were available.\n",
      "I0000 00:00:1731625559.462380    3275 device_compiler.h:188] Compiled cluster using XLA!  This line is logged at most once for the lifetime of the process.\n",
      "2024-11-14 17:06:15.243940: W tensorflow/core/kernels/data/cache_dataset_ops.cc:914] The calling iterator did not fully read the dataset being cached. In order to avoid unexpected truncation of the dataset, the partially cached contents of the dataset  will be discarded. This can happen if you have an input pipeline similar to `dataset.cache().take(k).repeat()`. You should use `dataset.take(k).cache().repeat()` instead.\n"
     ]
    },
    {
     "name": "stdout",
     "output_type": "stream",
     "text": [
      "Plots have been saved to ./evaluation_results\n",
      "Fid: 154.6184\n",
      "Ssim: 0.3191\n",
      "Mse: 0.0838\n",
      "Psnr: 10.7668\n"
     ]
    }
   ],
   "source": [
    "try:\n",
    "    metrics = evaluator.evaluate_model(model, test_ds, num_samples=100)\n",
    "    metrics_history.append(metrics)\n",
    "\n",
    "    plot_evaluation_results(\n",
    "        evaluator=evaluator,\n",
    "        model=model,\n",
    "        test_dataset=test_ds,\n",
    "        num_samples=100,\n",
    "        metrics_history=metrics_history,\n",
    "    )\n",
    "\n",
    "    for metric_name, value in metrics.items():\n",
    "        print(f\"{metric_name.capitalize()}: {value:.4f}\")\n",
    "\n",
    "except Exception as e:\n",
    "    print(f\"Error during evaluation: {str(e)}\")"
   ]
  },
  {
   "cell_type": "code",
   "execution_count": 34,
   "metadata": {},
   "outputs": [],
   "source": [
    "model.save(\"cyclegan_model.keras\")"
   ]
  },
  {
   "cell_type": "code",
   "execution_count": 35,
   "metadata": {},
   "outputs": [
    {
     "name": "stdout",
     "output_type": "stream",
     "text": [
      "INFO:tensorflow:Assets written to: monet_generator/saved_model/assets\n"
     ]
    },
    {
     "name": "stderr",
     "output_type": "stream",
     "text": [
      "INFO:tensorflow:Assets written to: monet_generator/saved_model/assets\n"
     ]
    }
   ],
   "source": [
    "generator_g = model.gen_G\n",
    "tf.saved_model.save(generator_g, \"monet_generator/saved_model\")"
   ]
  }
 ],
 "metadata": {
  "kernelspec": {
   "display_name": "ml",
   "language": "python",
   "name": "python3"
  },
  "language_info": {
   "codemirror_mode": {
    "name": "ipython",
    "version": 3
   },
   "file_extension": ".py",
   "mimetype": "text/x-python",
   "name": "python",
   "nbconvert_exporter": "python",
   "pygments_lexer": "ipython3",
   "version": "3.10.13"
  }
 },
 "nbformat": 4,
 "nbformat_minor": 2
}
